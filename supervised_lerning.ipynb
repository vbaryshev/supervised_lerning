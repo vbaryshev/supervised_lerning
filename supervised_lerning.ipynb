{
 "cells": [
  {
   "cell_type": "markdown",
   "metadata": {
    "toc": true
   },
   "source": [
    "<h1>Содержание<span class=\"tocSkip\"></span></h1>\n",
    "<div class=\"toc\"><ul class=\"toc-item\"><li><span><a href=\"#Подготовка-данных\" data-toc-modified-id=\"Подготовка-данных-1\"><span class=\"toc-item-num\">1&nbsp;&nbsp;</span>Подготовка данных</a></span></li><li><span><a href=\"#Исследование-задачи\" data-toc-modified-id=\"Исследование-задачи-2\"><span class=\"toc-item-num\">2&nbsp;&nbsp;</span>Исследование задачи</a></span></li><li><span><a href=\"#Борьба-с-дисбалансом\" data-toc-modified-id=\"Борьба-с-дисбалансом-3\"><span class=\"toc-item-num\">3&nbsp;&nbsp;</span>Борьба с дисбалансом</a></span></li><li><span><a href=\"#Тестирование-модели\" data-toc-modified-id=\"Тестирование-модели-4\"><span class=\"toc-item-num\">4&nbsp;&nbsp;</span>Тестирование модели</a></span></li><li><span><a href=\"#Чек-лист-готовности-проекта\" data-toc-modified-id=\"Чек-лист-готовности-проекта-5\"><span class=\"toc-item-num\">5&nbsp;&nbsp;</span>Чек-лист готовности проекта</a></span></li></ul></div>"
   ]
  },
  {
   "cell_type": "markdown",
   "metadata": {},
   "source": [
    "# Отток клиентов"
   ]
  },
  {
   "cell_type": "markdown",
   "metadata": {},
   "source": [
    "Из «Бета-Банка» стали уходить клиенты. Каждый месяц. Немного, но заметно. Банковские маркетологи посчитали: сохранять текущих клиентов дешевле, чем привлекать новых.\n",
    "\n",
    "Нужно спрогнозировать, уйдёт клиент из банка в ближайшее время или нет. Вам предоставлены исторические данные о поведении клиентов и расторжении договоров с банком. \n",
    "\n",
    "Постройте модель с предельно большим значением *F1*-меры. Чтобы сдать проект успешно, нужно довести метрику до 0.59. Проверьте *F1*-меру на тестовой выборке самостоятельно.\n",
    "\n",
    "Дополнительно измеряйте *AUC-ROC*, сравнивайте её значение с *F1*-мерой.\n",
    "\n",
    "Источник данных: [https://www.kaggle.com/barelydedicated/bank-customer-churn-modeling](https://www.kaggle.com/barelydedicated/bank-customer-churn-modeling)"
   ]
  },
  {
   "cell_type": "markdown",
   "metadata": {},
   "source": [
    "## Подготовка данных"
   ]
  },
  {
   "cell_type": "code",
   "execution_count": 1,
   "metadata": {},
   "outputs": [],
   "source": [
    "import pandas as pd"
   ]
  },
  {
   "cell_type": "code",
   "execution_count": 2,
   "metadata": {},
   "outputs": [],
   "source": [
    "from sklearn.linear_model import LinearRegression\n",
    "from sklearn.tree import DecisionTreeRegressor\n",
    "from sklearn.ensemble import RandomForestRegressor\n",
    "from sklearn.linear_model import LogisticRegression\n",
    "from sklearn.ensemble import RandomForestClassifier"
   ]
  },
  {
   "cell_type": "code",
   "execution_count": 3,
   "metadata": {},
   "outputs": [],
   "source": [
    "data = pd.read_csv(r'/datasets/Churn.csv') "
   ]
  },
  {
   "cell_type": "code",
   "execution_count": 4,
   "metadata": {},
   "outputs": [
    {
     "name": "stdout",
     "output_type": "stream",
     "text": [
      "<class 'pandas.core.frame.DataFrame'>\n",
      "RangeIndex: 10000 entries, 0 to 9999\n",
      "Data columns (total 14 columns):\n",
      " #   Column           Non-Null Count  Dtype  \n",
      "---  ------           --------------  -----  \n",
      " 0   RowNumber        10000 non-null  int64  \n",
      " 1   CustomerId       10000 non-null  int64  \n",
      " 2   Surname          10000 non-null  object \n",
      " 3   CreditScore      10000 non-null  int64  \n",
      " 4   Geography        10000 non-null  object \n",
      " 5   Gender           10000 non-null  object \n",
      " 6   Age              10000 non-null  int64  \n",
      " 7   Tenure           9091 non-null   float64\n",
      " 8   Balance          10000 non-null  float64\n",
      " 9   NumOfProducts    10000 non-null  int64  \n",
      " 10  HasCrCard        10000 non-null  int64  \n",
      " 11  IsActiveMember   10000 non-null  int64  \n",
      " 12  EstimatedSalary  10000 non-null  float64\n",
      " 13  Exited           10000 non-null  int64  \n",
      "dtypes: float64(3), int64(8), object(3)\n",
      "memory usage: 1.1+ MB\n"
     ]
    }
   ],
   "source": [
    "data.info()"
   ]
  },
  {
   "cell_type": "code",
   "execution_count": 5,
   "metadata": {
    "scrolled": true
   },
   "outputs": [
    {
     "data": {
      "text/html": [
       "<div>\n",
       "<style scoped>\n",
       "    .dataframe tbody tr th:only-of-type {\n",
       "        vertical-align: middle;\n",
       "    }\n",
       "\n",
       "    .dataframe tbody tr th {\n",
       "        vertical-align: top;\n",
       "    }\n",
       "\n",
       "    .dataframe thead th {\n",
       "        text-align: right;\n",
       "    }\n",
       "</style>\n",
       "<table border=\"1\" class=\"dataframe\">\n",
       "  <thead>\n",
       "    <tr style=\"text-align: right;\">\n",
       "      <th></th>\n",
       "      <th>RowNumber</th>\n",
       "      <th>CustomerId</th>\n",
       "      <th>Surname</th>\n",
       "      <th>CreditScore</th>\n",
       "      <th>Geography</th>\n",
       "      <th>Gender</th>\n",
       "      <th>Age</th>\n",
       "      <th>Tenure</th>\n",
       "      <th>Balance</th>\n",
       "      <th>NumOfProducts</th>\n",
       "      <th>HasCrCard</th>\n",
       "      <th>IsActiveMember</th>\n",
       "      <th>EstimatedSalary</th>\n",
       "      <th>Exited</th>\n",
       "    </tr>\n",
       "  </thead>\n",
       "  <tbody>\n",
       "    <tr>\n",
       "      <th>0</th>\n",
       "      <td>1</td>\n",
       "      <td>15634602</td>\n",
       "      <td>Hargrave</td>\n",
       "      <td>619</td>\n",
       "      <td>France</td>\n",
       "      <td>Female</td>\n",
       "      <td>42</td>\n",
       "      <td>2.0</td>\n",
       "      <td>0.00</td>\n",
       "      <td>1</td>\n",
       "      <td>1</td>\n",
       "      <td>1</td>\n",
       "      <td>101348.88</td>\n",
       "      <td>1</td>\n",
       "    </tr>\n",
       "    <tr>\n",
       "      <th>1</th>\n",
       "      <td>2</td>\n",
       "      <td>15647311</td>\n",
       "      <td>Hill</td>\n",
       "      <td>608</td>\n",
       "      <td>Spain</td>\n",
       "      <td>Female</td>\n",
       "      <td>41</td>\n",
       "      <td>1.0</td>\n",
       "      <td>83807.86</td>\n",
       "      <td>1</td>\n",
       "      <td>0</td>\n",
       "      <td>1</td>\n",
       "      <td>112542.58</td>\n",
       "      <td>0</td>\n",
       "    </tr>\n",
       "    <tr>\n",
       "      <th>2</th>\n",
       "      <td>3</td>\n",
       "      <td>15619304</td>\n",
       "      <td>Onio</td>\n",
       "      <td>502</td>\n",
       "      <td>France</td>\n",
       "      <td>Female</td>\n",
       "      <td>42</td>\n",
       "      <td>8.0</td>\n",
       "      <td>159660.80</td>\n",
       "      <td>3</td>\n",
       "      <td>1</td>\n",
       "      <td>0</td>\n",
       "      <td>113931.57</td>\n",
       "      <td>1</td>\n",
       "    </tr>\n",
       "    <tr>\n",
       "      <th>3</th>\n",
       "      <td>4</td>\n",
       "      <td>15701354</td>\n",
       "      <td>Boni</td>\n",
       "      <td>699</td>\n",
       "      <td>France</td>\n",
       "      <td>Female</td>\n",
       "      <td>39</td>\n",
       "      <td>1.0</td>\n",
       "      <td>0.00</td>\n",
       "      <td>2</td>\n",
       "      <td>0</td>\n",
       "      <td>0</td>\n",
       "      <td>93826.63</td>\n",
       "      <td>0</td>\n",
       "    </tr>\n",
       "    <tr>\n",
       "      <th>4</th>\n",
       "      <td>5</td>\n",
       "      <td>15737888</td>\n",
       "      <td>Mitchell</td>\n",
       "      <td>850</td>\n",
       "      <td>Spain</td>\n",
       "      <td>Female</td>\n",
       "      <td>43</td>\n",
       "      <td>2.0</td>\n",
       "      <td>125510.82</td>\n",
       "      <td>1</td>\n",
       "      <td>1</td>\n",
       "      <td>1</td>\n",
       "      <td>79084.10</td>\n",
       "      <td>0</td>\n",
       "    </tr>\n",
       "  </tbody>\n",
       "</table>\n",
       "</div>"
      ],
      "text/plain": [
       "   RowNumber  CustomerId   Surname  CreditScore Geography  Gender  Age  \\\n",
       "0          1    15634602  Hargrave          619    France  Female   42   \n",
       "1          2    15647311      Hill          608     Spain  Female   41   \n",
       "2          3    15619304      Onio          502    France  Female   42   \n",
       "3          4    15701354      Boni          699    France  Female   39   \n",
       "4          5    15737888  Mitchell          850     Spain  Female   43   \n",
       "\n",
       "   Tenure    Balance  NumOfProducts  HasCrCard  IsActiveMember  \\\n",
       "0     2.0       0.00              1          1               1   \n",
       "1     1.0   83807.86              1          0               1   \n",
       "2     8.0  159660.80              3          1               0   \n",
       "3     1.0       0.00              2          0               0   \n",
       "4     2.0  125510.82              1          1               1   \n",
       "\n",
       "   EstimatedSalary  Exited  \n",
       "0        101348.88       1  \n",
       "1        112542.58       0  \n",
       "2        113931.57       1  \n",
       "3         93826.63       0  \n",
       "4         79084.10       0  "
      ]
     },
     "execution_count": 5,
     "metadata": {},
     "output_type": "execute_result"
    }
   ],
   "source": [
    "data.head()"
   ]
  },
  {
   "cell_type": "code",
   "execution_count": 6,
   "metadata": {},
   "outputs": [
    {
     "data": {
      "text/plain": [
       "pandas.core.frame.DataFrame"
      ]
     },
     "execution_count": 6,
     "metadata": {},
     "output_type": "execute_result"
    }
   ],
   "source": [
    "type(data)"
   ]
  },
  {
   "cell_type": "code",
   "execution_count": 7,
   "metadata": {},
   "outputs": [],
   "source": [
    "# Приводим к нижнему регистру\n",
    "data.columns = data.columns.str.lower()"
   ]
  },
  {
   "cell_type": "code",
   "execution_count": 8,
   "metadata": {},
   "outputs": [
    {
     "data": {
      "text/plain": [
       "0"
      ]
     },
     "execution_count": 8,
     "metadata": {},
     "output_type": "execute_result"
    }
   ],
   "source": [
    "data.duplicated().sum()"
   ]
  },
  {
   "cell_type": "code",
   "execution_count": 9,
   "metadata": {},
   "outputs": [
    {
     "name": "stdout",
     "output_type": "stream",
     "text": [
      "Пропущено значений: rownumber 0 , из: 10000\n",
      "Пропущено значений: customerid 0 , из: 10000\n",
      "Пропущено значений: surname 0 , из: 10000\n",
      "Пропущено значений: creditscore 0 , из: 10000\n",
      "Пропущено значений: geography 0 , из: 10000\n",
      "Пропущено значений: gender 0 , из: 10000\n",
      "Пропущено значений: age 0 , из: 10000\n",
      "Пропущено значений: tenure 909 , из: 10000\n",
      "Пропущено значений: balance 0 , из: 10000\n",
      "Пропущено значений: numofproducts 0 , из: 10000\n",
      "Пропущено значений: hascrcard 0 , из: 10000\n",
      "Пропущено значений: isactivemember 0 , из: 10000\n",
      "Пропущено значений: estimatedsalary 0 , из: 10000\n",
      "Пропущено значений: exited 0 , из: 10000\n"
     ]
    }
   ],
   "source": [
    "#Пропущено значений \n",
    "for index in data:\n",
    "    nan = len(data[data[index].isna()])\n",
    "    print ('Пропущено значений:', index, nan, ', из:', len(data))"
   ]
  },
  {
   "cell_type": "code",
   "execution_count": 10,
   "metadata": {},
   "outputs": [
    {
     "data": {
      "text/plain": [
       "array([ 2.,  1.,  8.,  7.,  4.,  6.,  3., 10.,  5.,  9.,  0., nan])"
      ]
     },
     "execution_count": 10,
     "metadata": {},
     "output_type": "execute_result"
    }
   ],
   "source": [
    "data['tenure'].unique() "
   ]
  },
  {
   "cell_type": "code",
   "execution_count": 11,
   "metadata": {},
   "outputs": [
    {
     "data": {
      "text/plain": [
       "0    2.0\n",
       "1    1.0\n",
       "2    8.0\n",
       "3    1.0\n",
       "4    2.0\n",
       "Name: tenure, dtype: float64"
      ]
     },
     "execution_count": 11,
     "metadata": {},
     "output_type": "execute_result"
    }
   ],
   "source": [
    "data['tenure'].head()"
   ]
  },
  {
   "cell_type": "code",
   "execution_count": 12,
   "metadata": {},
   "outputs": [
    {
     "data": {
      "text/plain": [
       "0    2.0\n",
       "1    1.0\n",
       "2    8.0\n",
       "3    1.0\n",
       "4    2.0\n",
       "5    8.0\n",
       "6    7.0\n",
       "7    4.0\n",
       "8    4.0\n",
       "9    2.0\n",
       "Name: tenure, dtype: float64"
      ]
     },
     "execution_count": 12,
     "metadata": {},
     "output_type": "execute_result"
    }
   ],
   "source": [
    "Tenure_avg = data['tenure'].median() #получение медианы для \n",
    "Tenure_avg\n",
    "data['tenure'] = data['tenure'].fillna(value = Tenure_avg) #замена пропущенных значений в столбце age на медианы\n",
    "data['tenure'].head(10)"
   ]
  },
  {
   "cell_type": "code",
   "execution_count": 13,
   "metadata": {
    "scrolled": true
   },
   "outputs": [
    {
     "name": "stdout",
     "output_type": "stream",
     "text": [
      "Пропущено значений: rownumber 0 , из: 10000\n",
      "Пропущено значений: customerid 0 , из: 10000\n",
      "Пропущено значений: surname 0 , из: 10000\n",
      "Пропущено значений: creditscore 0 , из: 10000\n",
      "Пропущено значений: geography 0 , из: 10000\n",
      "Пропущено значений: gender 0 , из: 10000\n",
      "Пропущено значений: age 0 , из: 10000\n",
      "Пропущено значений: tenure 0 , из: 10000\n",
      "Пропущено значений: balance 0 , из: 10000\n",
      "Пропущено значений: numofproducts 0 , из: 10000\n",
      "Пропущено значений: hascrcard 0 , из: 10000\n",
      "Пропущено значений: isactivemember 0 , из: 10000\n",
      "Пропущено значений: estimatedsalary 0 , из: 10000\n",
      "Пропущено значений: exited 0 , из: 10000\n"
     ]
    }
   ],
   "source": [
    "#Пропущено значений \n",
    "for index in data:\n",
    "    nan = len(data[data[index].isna()])\n",
    "    print ('Пропущено значений:', index, nan, ', из:', len(data))"
   ]
  },
  {
   "cell_type": "code",
   "execution_count": 14,
   "metadata": {},
   "outputs": [
    {
     "name": "stdout",
     "output_type": "stream",
     "text": [
      "Явные дубликаты: 0 шт.\n"
     ]
    }
   ],
   "source": [
    "print('Явные дубликаты:', data.duplicated().sum(), 'шт.')"
   ]
  },
  {
   "cell_type": "code",
   "execution_count": 15,
   "metadata": {},
   "outputs": [
    {
     "data": {
      "text/html": [
       "<div>\n",
       "<style scoped>\n",
       "    .dataframe tbody tr th:only-of-type {\n",
       "        vertical-align: middle;\n",
       "    }\n",
       "\n",
       "    .dataframe tbody tr th {\n",
       "        vertical-align: top;\n",
       "    }\n",
       "\n",
       "    .dataframe thead th {\n",
       "        text-align: right;\n",
       "    }\n",
       "</style>\n",
       "<table border=\"1\" class=\"dataframe\">\n",
       "  <thead>\n",
       "    <tr style=\"text-align: right;\">\n",
       "      <th></th>\n",
       "      <th>rownumber</th>\n",
       "      <th>customerid</th>\n",
       "      <th>creditscore</th>\n",
       "      <th>age</th>\n",
       "      <th>tenure</th>\n",
       "      <th>balance</th>\n",
       "      <th>numofproducts</th>\n",
       "      <th>hascrcard</th>\n",
       "      <th>isactivemember</th>\n",
       "      <th>estimatedsalary</th>\n",
       "      <th>exited</th>\n",
       "    </tr>\n",
       "  </thead>\n",
       "  <tbody>\n",
       "    <tr>\n",
       "      <th>count</th>\n",
       "      <td>10000.00000</td>\n",
       "      <td>1.000000e+04</td>\n",
       "      <td>10000.000000</td>\n",
       "      <td>10000.000000</td>\n",
       "      <td>10000.00000</td>\n",
       "      <td>10000.000000</td>\n",
       "      <td>10000.000000</td>\n",
       "      <td>10000.00000</td>\n",
       "      <td>10000.000000</td>\n",
       "      <td>10000.000000</td>\n",
       "      <td>10000.000000</td>\n",
       "    </tr>\n",
       "    <tr>\n",
       "      <th>mean</th>\n",
       "      <td>5000.50000</td>\n",
       "      <td>1.569094e+07</td>\n",
       "      <td>650.528800</td>\n",
       "      <td>38.921800</td>\n",
       "      <td>4.99790</td>\n",
       "      <td>76485.889288</td>\n",
       "      <td>1.530200</td>\n",
       "      <td>0.70550</td>\n",
       "      <td>0.515100</td>\n",
       "      <td>100090.239881</td>\n",
       "      <td>0.203700</td>\n",
       "    </tr>\n",
       "    <tr>\n",
       "      <th>std</th>\n",
       "      <td>2886.89568</td>\n",
       "      <td>7.193619e+04</td>\n",
       "      <td>96.653299</td>\n",
       "      <td>10.487806</td>\n",
       "      <td>2.76001</td>\n",
       "      <td>62397.405202</td>\n",
       "      <td>0.581654</td>\n",
       "      <td>0.45584</td>\n",
       "      <td>0.499797</td>\n",
       "      <td>57510.492818</td>\n",
       "      <td>0.402769</td>\n",
       "    </tr>\n",
       "    <tr>\n",
       "      <th>min</th>\n",
       "      <td>1.00000</td>\n",
       "      <td>1.556570e+07</td>\n",
       "      <td>350.000000</td>\n",
       "      <td>18.000000</td>\n",
       "      <td>0.00000</td>\n",
       "      <td>0.000000</td>\n",
       "      <td>1.000000</td>\n",
       "      <td>0.00000</td>\n",
       "      <td>0.000000</td>\n",
       "      <td>11.580000</td>\n",
       "      <td>0.000000</td>\n",
       "    </tr>\n",
       "    <tr>\n",
       "      <th>25%</th>\n",
       "      <td>2500.75000</td>\n",
       "      <td>1.562853e+07</td>\n",
       "      <td>584.000000</td>\n",
       "      <td>32.000000</td>\n",
       "      <td>3.00000</td>\n",
       "      <td>0.000000</td>\n",
       "      <td>1.000000</td>\n",
       "      <td>0.00000</td>\n",
       "      <td>0.000000</td>\n",
       "      <td>51002.110000</td>\n",
       "      <td>0.000000</td>\n",
       "    </tr>\n",
       "    <tr>\n",
       "      <th>50%</th>\n",
       "      <td>5000.50000</td>\n",
       "      <td>1.569074e+07</td>\n",
       "      <td>652.000000</td>\n",
       "      <td>37.000000</td>\n",
       "      <td>5.00000</td>\n",
       "      <td>97198.540000</td>\n",
       "      <td>1.000000</td>\n",
       "      <td>1.00000</td>\n",
       "      <td>1.000000</td>\n",
       "      <td>100193.915000</td>\n",
       "      <td>0.000000</td>\n",
       "    </tr>\n",
       "    <tr>\n",
       "      <th>75%</th>\n",
       "      <td>7500.25000</td>\n",
       "      <td>1.575323e+07</td>\n",
       "      <td>718.000000</td>\n",
       "      <td>44.000000</td>\n",
       "      <td>7.00000</td>\n",
       "      <td>127644.240000</td>\n",
       "      <td>2.000000</td>\n",
       "      <td>1.00000</td>\n",
       "      <td>1.000000</td>\n",
       "      <td>149388.247500</td>\n",
       "      <td>0.000000</td>\n",
       "    </tr>\n",
       "    <tr>\n",
       "      <th>max</th>\n",
       "      <td>10000.00000</td>\n",
       "      <td>1.581569e+07</td>\n",
       "      <td>850.000000</td>\n",
       "      <td>92.000000</td>\n",
       "      <td>10.00000</td>\n",
       "      <td>250898.090000</td>\n",
       "      <td>4.000000</td>\n",
       "      <td>1.00000</td>\n",
       "      <td>1.000000</td>\n",
       "      <td>199992.480000</td>\n",
       "      <td>1.000000</td>\n",
       "    </tr>\n",
       "  </tbody>\n",
       "</table>\n",
       "</div>"
      ],
      "text/plain": [
       "         rownumber    customerid   creditscore           age       tenure  \\\n",
       "count  10000.00000  1.000000e+04  10000.000000  10000.000000  10000.00000   \n",
       "mean    5000.50000  1.569094e+07    650.528800     38.921800      4.99790   \n",
       "std     2886.89568  7.193619e+04     96.653299     10.487806      2.76001   \n",
       "min        1.00000  1.556570e+07    350.000000     18.000000      0.00000   \n",
       "25%     2500.75000  1.562853e+07    584.000000     32.000000      3.00000   \n",
       "50%     5000.50000  1.569074e+07    652.000000     37.000000      5.00000   \n",
       "75%     7500.25000  1.575323e+07    718.000000     44.000000      7.00000   \n",
       "max    10000.00000  1.581569e+07    850.000000     92.000000     10.00000   \n",
       "\n",
       "             balance  numofproducts    hascrcard  isactivemember  \\\n",
       "count   10000.000000   10000.000000  10000.00000    10000.000000   \n",
       "mean    76485.889288       1.530200      0.70550        0.515100   \n",
       "std     62397.405202       0.581654      0.45584        0.499797   \n",
       "min         0.000000       1.000000      0.00000        0.000000   \n",
       "25%         0.000000       1.000000      0.00000        0.000000   \n",
       "50%     97198.540000       1.000000      1.00000        1.000000   \n",
       "75%    127644.240000       2.000000      1.00000        1.000000   \n",
       "max    250898.090000       4.000000      1.00000        1.000000   \n",
       "\n",
       "       estimatedsalary        exited  \n",
       "count     10000.000000  10000.000000  \n",
       "mean     100090.239881      0.203700  \n",
       "std       57510.492818      0.402769  \n",
       "min          11.580000      0.000000  \n",
       "25%       51002.110000      0.000000  \n",
       "50%      100193.915000      0.000000  \n",
       "75%      149388.247500      0.000000  \n",
       "max      199992.480000      1.000000  "
      ]
     },
     "execution_count": 15,
     "metadata": {},
     "output_type": "execute_result"
    }
   ],
   "source": [
    "# базовая статистика\n",
    "data.describe()"
   ]
  },
  {
   "cell_type": "markdown",
   "metadata": {},
   "source": [
    "Признаки:\n",
    "\n",
    "RowNumber — индекс строки в данных;\n",
    "\n",
    "CustomerId — уникальный идентификатор клиента;\n",
    "\n",
    "Surname — фамилия;\n",
    "\n",
    "CreditScore — кредитный рейтинг;\n",
    "\n",
    "Geography — страна проживания;\n",
    "\n",
    "Gender — пол;\n",
    "\n",
    "Age — возраст;\n",
    "\n",
    "Tenure — сколько лет человек является клиентом банка;\n",
    "\n",
    "Balance — баланс на счёте;\n",
    "\n",
    "NumOfProducts — количество продуктов банка, используемых клиентом;\n",
    "\n",
    "HasCrCard — наличие кредитной карты;\n",
    "\n",
    "IsActiveMember — активность клиента;\n",
    "\n",
    "EstimatedSalary — предполагаемая зарплата;\n",
    "\n",
    "Целевой признак;\n",
    "\n",
    "Exited — факт ухода клиента"
   ]
  },
  {
   "cell_type": "markdown",
   "metadata": {},
   "source": [
    "***Целевой признак:***\n",
    " - Exited — факт ухода клиента"
   ]
  },
  {
   "cell_type": "markdown",
   "metadata": {},
   "source": [
    "В данных существуют пропуски:\n",
    "\n",
    "9195 ceiling_height - пропущена высота потолков;\n",
    "\n",
    "86 floors_total - данные не заполнены;\n",
    "\n",
    "11519 balcony - где балконов нет, поставим 0;\n",
    "\n",
    "49 locality_name - данные не внесены;\n",
    "\n",
    "86 floors_total - данные не заполнены\n",
    "\n",
    "так же обработаем другие пропущеные значения"
   ]
  },
  {
   "cell_type": "markdown",
   "metadata": {},
   "source": [
    "## Исследование задачи"
   ]
  },
  {
   "cell_type": "code",
   "execution_count": 16,
   "metadata": {},
   "outputs": [
    {
     "data": {
      "text/plain": [
       "array([[<AxesSubplot:title={'center':'rownumber'}>,\n",
       "        <AxesSubplot:title={'center':'customerid'}>,\n",
       "        <AxesSubplot:title={'center':'creditscore'}>],\n",
       "       [<AxesSubplot:title={'center':'age'}>,\n",
       "        <AxesSubplot:title={'center':'tenure'}>,\n",
       "        <AxesSubplot:title={'center':'balance'}>],\n",
       "       [<AxesSubplot:title={'center':'numofproducts'}>,\n",
       "        <AxesSubplot:title={'center':'hascrcard'}>,\n",
       "        <AxesSubplot:title={'center':'isactivemember'}>],\n",
       "       [<AxesSubplot:title={'center':'estimatedsalary'}>,\n",
       "        <AxesSubplot:title={'center':'exited'}>, <AxesSubplot:>]],\n",
       "      dtype=object)"
      ]
     },
     "execution_count": 16,
     "metadata": {},
     "output_type": "execute_result"
    },
    {
     "data": {
      "image/png": "[encoded data removed]",
      "text/plain": [
       "<Figure size 1080x1440 with 12 Axes>"
      ]
     },
     "metadata": {
      "needs_background": "light"
     },
     "output_type": "display_data"
    }
   ],
   "source": [
    "#изучены и описаны следующие параметры:\n",
    "data.hist(figsize=(15, 20))"
   ]
  },
  {
   "cell_type": "code",
   "execution_count": 17,
   "metadata": {},
   "outputs": [
    {
     "data": {
      "image/png": "[encoded data removed]",
      "text/plain": [
       "<Figure size 432x288 with 1 Axes>"
      ]
     },
     "metadata": {
      "needs_background": "light"
     },
     "output_type": "display_data"
    }
   ],
   "source": [
    "data.hist('creditscore', bins=50);"
   ]
  },
  {
   "cell_type": "markdown",
   "metadata": {},
   "source": [
    "Есть анамалия на значениях выше 850"
   ]
  },
  {
   "cell_type": "code",
   "execution_count": 18,
   "metadata": {
    "scrolled": true
   },
   "outputs": [
    {
     "data": {
      "image/png": "[encoded data removed]",
      "text/plain": [
       "<Figure size 432x288 with 1 Axes>"
      ]
     },
     "metadata": {
      "needs_background": "light"
     },
     "output_type": "display_data"
    }
   ],
   "source": [
    "data.hist('age', bins=10);"
   ]
  },
  {
   "cell_type": "code",
   "execution_count": 19,
   "metadata": {
    "scrolled": true
   },
   "outputs": [
    {
     "data": {
      "image/png": "[encoded data removed]",
      "text/plain": [
       "<Figure size 432x288 with 1 Axes>"
      ]
     },
     "metadata": {
      "needs_background": "light"
     },
     "output_type": "display_data"
    }
   ],
   "source": [
    "data.hist('tenure', bins=10);"
   ]
  },
  {
   "cell_type": "code",
   "execution_count": 20,
   "metadata": {
    "scrolled": true
   },
   "outputs": [
    {
     "data": {
      "image/png": "[encoded data removed]",
      "text/plain": [
       "<Figure size 432x288 with 1 Axes>"
      ]
     },
     "metadata": {
      "needs_background": "light"
     },
     "output_type": "display_data"
    }
   ],
   "source": [
    "data.hist('balance', bins=10);"
   ]
  },
  {
   "cell_type": "code",
   "execution_count": 21,
   "metadata": {
    "scrolled": true
   },
   "outputs": [
    {
     "data": {
      "image/png": "[encoded data removed]",
      "text/plain": [
       "<Figure size 432x288 with 1 Axes>"
      ]
     },
     "metadata": {
      "needs_background": "light"
     },
     "output_type": "display_data"
    }
   ],
   "source": [
    "data.hist('estimatedsalary', bins=100);"
   ]
  },
  {
   "cell_type": "code",
   "execution_count": 22,
   "metadata": {},
   "outputs": [
    {
     "data": {
      "text/html": [
       "<div>\n",
       "<style scoped>\n",
       "    .dataframe tbody tr th:only-of-type {\n",
       "        vertical-align: middle;\n",
       "    }\n",
       "\n",
       "    .dataframe tbody tr th {\n",
       "        vertical-align: top;\n",
       "    }\n",
       "\n",
       "    .dataframe thead th {\n",
       "        text-align: right;\n",
       "    }\n",
       "</style>\n",
       "<table border=\"1\" class=\"dataframe\">\n",
       "  <thead>\n",
       "    <tr style=\"text-align: right;\">\n",
       "      <th></th>\n",
       "      <th>rownumber</th>\n",
       "      <th>customerid</th>\n",
       "      <th>surname</th>\n",
       "      <th>creditscore</th>\n",
       "      <th>geography</th>\n",
       "      <th>gender</th>\n",
       "      <th>age</th>\n",
       "      <th>tenure</th>\n",
       "      <th>balance</th>\n",
       "      <th>numofproducts</th>\n",
       "      <th>hascrcard</th>\n",
       "      <th>isactivemember</th>\n",
       "      <th>estimatedsalary</th>\n",
       "      <th>exited</th>\n",
       "    </tr>\n",
       "  </thead>\n",
       "  <tbody>\n",
       "    <tr>\n",
       "      <th>0</th>\n",
       "      <td>1</td>\n",
       "      <td>15634602</td>\n",
       "      <td>Hargrave</td>\n",
       "      <td>619</td>\n",
       "      <td>France</td>\n",
       "      <td>Female</td>\n",
       "      <td>42</td>\n",
       "      <td>2.0</td>\n",
       "      <td>0.00</td>\n",
       "      <td>1</td>\n",
       "      <td>1</td>\n",
       "      <td>1</td>\n",
       "      <td>101348.88</td>\n",
       "      <td>1</td>\n",
       "    </tr>\n",
       "    <tr>\n",
       "      <th>1</th>\n",
       "      <td>2</td>\n",
       "      <td>15647311</td>\n",
       "      <td>Hill</td>\n",
       "      <td>608</td>\n",
       "      <td>Spain</td>\n",
       "      <td>Female</td>\n",
       "      <td>41</td>\n",
       "      <td>1.0</td>\n",
       "      <td>83807.86</td>\n",
       "      <td>1</td>\n",
       "      <td>0</td>\n",
       "      <td>1</td>\n",
       "      <td>112542.58</td>\n",
       "      <td>0</td>\n",
       "    </tr>\n",
       "    <tr>\n",
       "      <th>2</th>\n",
       "      <td>3</td>\n",
       "      <td>15619304</td>\n",
       "      <td>Onio</td>\n",
       "      <td>502</td>\n",
       "      <td>France</td>\n",
       "      <td>Female</td>\n",
       "      <td>42</td>\n",
       "      <td>8.0</td>\n",
       "      <td>159660.80</td>\n",
       "      <td>3</td>\n",
       "      <td>1</td>\n",
       "      <td>0</td>\n",
       "      <td>113931.57</td>\n",
       "      <td>1</td>\n",
       "    </tr>\n",
       "    <tr>\n",
       "      <th>3</th>\n",
       "      <td>4</td>\n",
       "      <td>15701354</td>\n",
       "      <td>Boni</td>\n",
       "      <td>699</td>\n",
       "      <td>France</td>\n",
       "      <td>Female</td>\n",
       "      <td>39</td>\n",
       "      <td>1.0</td>\n",
       "      <td>0.00</td>\n",
       "      <td>2</td>\n",
       "      <td>0</td>\n",
       "      <td>0</td>\n",
       "      <td>93826.63</td>\n",
       "      <td>0</td>\n",
       "    </tr>\n",
       "    <tr>\n",
       "      <th>4</th>\n",
       "      <td>5</td>\n",
       "      <td>15737888</td>\n",
       "      <td>Mitchell</td>\n",
       "      <td>850</td>\n",
       "      <td>Spain</td>\n",
       "      <td>Female</td>\n",
       "      <td>43</td>\n",
       "      <td>2.0</td>\n",
       "      <td>125510.82</td>\n",
       "      <td>1</td>\n",
       "      <td>1</td>\n",
       "      <td>1</td>\n",
       "      <td>79084.10</td>\n",
       "      <td>0</td>\n",
       "    </tr>\n",
       "  </tbody>\n",
       "</table>\n",
       "</div>"
      ],
      "text/plain": [
       "   rownumber  customerid   surname  creditscore geography  gender  age  \\\n",
       "0          1    15634602  Hargrave          619    France  Female   42   \n",
       "1          2    15647311      Hill          608     Spain  Female   41   \n",
       "2          3    15619304      Onio          502    France  Female   42   \n",
       "3          4    15701354      Boni          699    France  Female   39   \n",
       "4          5    15737888  Mitchell          850     Spain  Female   43   \n",
       "\n",
       "   tenure    balance  numofproducts  hascrcard  isactivemember  \\\n",
       "0     2.0       0.00              1          1               1   \n",
       "1     1.0   83807.86              1          0               1   \n",
       "2     8.0  159660.80              3          1               0   \n",
       "3     1.0       0.00              2          0               0   \n",
       "4     2.0  125510.82              1          1               1   \n",
       "\n",
       "   estimatedsalary  exited  \n",
       "0        101348.88       1  \n",
       "1        112542.58       0  \n",
       "2        113931.57       1  \n",
       "3         93826.63       0  \n",
       "4         79084.10       0  "
      ]
     },
     "execution_count": 22,
     "metadata": {},
     "output_type": "execute_result"
    }
   ],
   "source": [
    "data.head(5)"
   ]
  },
  {
   "cell_type": "code",
   "execution_count": 23,
   "metadata": {},
   "outputs": [],
   "source": [
    "# surname явно лишнее. Удалим.\n",
    "data.drop(columns='surname', inplace=True)"
   ]
  },
  {
   "cell_type": "code",
   "execution_count": 24,
   "metadata": {},
   "outputs": [],
   "source": [
    "# Удалим поле row_number и customer_id\n",
    "data.drop(columns='rownumber', inplace=True)\n",
    "data.drop(columns='customerid', inplace=True)"
   ]
  },
  {
   "cell_type": "code",
   "execution_count": 25,
   "metadata": {
    "scrolled": true
   },
   "outputs": [
    {
     "data": {
      "text/html": [
       "<div>\n",
       "<style scoped>\n",
       "    .dataframe tbody tr th:only-of-type {\n",
       "        vertical-align: middle;\n",
       "    }\n",
       "\n",
       "    .dataframe tbody tr th {\n",
       "        vertical-align: top;\n",
       "    }\n",
       "\n",
       "    .dataframe thead th {\n",
       "        text-align: right;\n",
       "    }\n",
       "</style>\n",
       "<table border=\"1\" class=\"dataframe\">\n",
       "  <thead>\n",
       "    <tr style=\"text-align: right;\">\n",
       "      <th></th>\n",
       "      <th>creditscore</th>\n",
       "      <th>age</th>\n",
       "      <th>tenure</th>\n",
       "      <th>balance</th>\n",
       "      <th>numofproducts</th>\n",
       "      <th>hascrcard</th>\n",
       "      <th>isactivemember</th>\n",
       "      <th>estimatedsalary</th>\n",
       "      <th>exited</th>\n",
       "    </tr>\n",
       "  </thead>\n",
       "  <tbody>\n",
       "    <tr>\n",
       "      <th>creditscore</th>\n",
       "      <td>1.000000</td>\n",
       "      <td>-0.003965</td>\n",
       "      <td>-0.000060</td>\n",
       "      <td>0.006268</td>\n",
       "      <td>0.012238</td>\n",
       "      <td>-0.005458</td>\n",
       "      <td>0.025651</td>\n",
       "      <td>-0.001384</td>\n",
       "      <td>-0.027094</td>\n",
       "    </tr>\n",
       "    <tr>\n",
       "      <th>age</th>\n",
       "      <td>-0.003965</td>\n",
       "      <td>1.000000</td>\n",
       "      <td>-0.012606</td>\n",
       "      <td>0.028308</td>\n",
       "      <td>-0.030680</td>\n",
       "      <td>-0.011721</td>\n",
       "      <td>0.085472</td>\n",
       "      <td>-0.007201</td>\n",
       "      <td>0.285323</td>\n",
       "    </tr>\n",
       "    <tr>\n",
       "      <th>tenure</th>\n",
       "      <td>-0.000060</td>\n",
       "      <td>-0.012606</td>\n",
       "      <td>1.000000</td>\n",
       "      <td>-0.007535</td>\n",
       "      <td>0.011409</td>\n",
       "      <td>0.025979</td>\n",
       "      <td>-0.030681</td>\n",
       "      <td>0.010049</td>\n",
       "      <td>-0.015989</td>\n",
       "    </tr>\n",
       "    <tr>\n",
       "      <th>balance</th>\n",
       "      <td>0.006268</td>\n",
       "      <td>0.028308</td>\n",
       "      <td>-0.007535</td>\n",
       "      <td>1.000000</td>\n",
       "      <td>-0.304180</td>\n",
       "      <td>-0.014858</td>\n",
       "      <td>-0.010084</td>\n",
       "      <td>0.012797</td>\n",
       "      <td>0.118533</td>\n",
       "    </tr>\n",
       "    <tr>\n",
       "      <th>numofproducts</th>\n",
       "      <td>0.012238</td>\n",
       "      <td>-0.030680</td>\n",
       "      <td>0.011409</td>\n",
       "      <td>-0.304180</td>\n",
       "      <td>1.000000</td>\n",
       "      <td>0.003183</td>\n",
       "      <td>0.009612</td>\n",
       "      <td>0.014204</td>\n",
       "      <td>-0.047820</td>\n",
       "    </tr>\n",
       "    <tr>\n",
       "      <th>hascrcard</th>\n",
       "      <td>-0.005458</td>\n",
       "      <td>-0.011721</td>\n",
       "      <td>0.025979</td>\n",
       "      <td>-0.014858</td>\n",
       "      <td>0.003183</td>\n",
       "      <td>1.000000</td>\n",
       "      <td>-0.011866</td>\n",
       "      <td>-0.009933</td>\n",
       "      <td>-0.007138</td>\n",
       "    </tr>\n",
       "    <tr>\n",
       "      <th>isactivemember</th>\n",
       "      <td>0.025651</td>\n",
       "      <td>0.085472</td>\n",
       "      <td>-0.030681</td>\n",
       "      <td>-0.010084</td>\n",
       "      <td>0.009612</td>\n",
       "      <td>-0.011866</td>\n",
       "      <td>1.000000</td>\n",
       "      <td>-0.011421</td>\n",
       "      <td>-0.156128</td>\n",
       "    </tr>\n",
       "    <tr>\n",
       "      <th>estimatedsalary</th>\n",
       "      <td>-0.001384</td>\n",
       "      <td>-0.007201</td>\n",
       "      <td>0.010049</td>\n",
       "      <td>0.012797</td>\n",
       "      <td>0.014204</td>\n",
       "      <td>-0.009933</td>\n",
       "      <td>-0.011421</td>\n",
       "      <td>1.000000</td>\n",
       "      <td>0.012097</td>\n",
       "    </tr>\n",
       "    <tr>\n",
       "      <th>exited</th>\n",
       "      <td>-0.027094</td>\n",
       "      <td>0.285323</td>\n",
       "      <td>-0.015989</td>\n",
       "      <td>0.118533</td>\n",
       "      <td>-0.047820</td>\n",
       "      <td>-0.007138</td>\n",
       "      <td>-0.156128</td>\n",
       "      <td>0.012097</td>\n",
       "      <td>1.000000</td>\n",
       "    </tr>\n",
       "  </tbody>\n",
       "</table>\n",
       "</div>"
      ],
      "text/plain": [
       "                 creditscore       age    tenure   balance  numofproducts  \\\n",
       "creditscore         1.000000 -0.003965 -0.000060  0.006268       0.012238   \n",
       "age                -0.003965  1.000000 -0.012606  0.028308      -0.030680   \n",
       "tenure             -0.000060 -0.012606  1.000000 -0.007535       0.011409   \n",
       "balance             0.006268  0.028308 -0.007535  1.000000      -0.304180   \n",
       "numofproducts       0.012238 -0.030680  0.011409 -0.304180       1.000000   \n",
       "hascrcard          -0.005458 -0.011721  0.025979 -0.014858       0.003183   \n",
       "isactivemember      0.025651  0.085472 -0.030681 -0.010084       0.009612   \n",
       "estimatedsalary    -0.001384 -0.007201  0.010049  0.012797       0.014204   \n",
       "exited             -0.027094  0.285323 -0.015989  0.118533      -0.047820   \n",
       "\n",
       "                 hascrcard  isactivemember  estimatedsalary    exited  \n",
       "creditscore      -0.005458        0.025651        -0.001384 -0.027094  \n",
       "age              -0.011721        0.085472        -0.007201  0.285323  \n",
       "tenure            0.025979       -0.030681         0.010049 -0.015989  \n",
       "balance          -0.014858       -0.010084         0.012797  0.118533  \n",
       "numofproducts     0.003183        0.009612         0.014204 -0.047820  \n",
       "hascrcard         1.000000       -0.011866        -0.009933 -0.007138  \n",
       "isactivemember   -0.011866        1.000000        -0.011421 -0.156128  \n",
       "estimatedsalary  -0.009933       -0.011421         1.000000  0.012097  \n",
       "exited           -0.007138       -0.156128         0.012097  1.000000  "
      ]
     },
     "execution_count": 25,
     "metadata": {},
     "output_type": "execute_result"
    }
   ],
   "source": [
    "#кореляция в данных\n",
    "data.corr()"
   ]
  },
  {
   "cell_type": "code",
   "execution_count": 26,
   "metadata": {},
   "outputs": [],
   "source": [
    "import matplotlib.pyplot as plt\n",
    "import seaborn as sns"
   ]
  },
  {
   "cell_type": "code",
   "execution_count": 27,
   "metadata": {},
   "outputs": [
    {
     "data": {
      "text/plain": [
       "<AxesSubplot:>"
      ]
     },
     "execution_count": 27,
     "metadata": {},
     "output_type": "execute_result"
    },
    {
     "data": {
      "image/png": "[encoded data removed]",
      "text/plain": [
       "<Figure size 1440x1440 with 2 Axes>"
      ]
     },
     "metadata": {
      "needs_background": "light"
     },
     "output_type": "display_data"
    }
   ],
   "source": [
    "# тепловая карта матричы корреляции\n",
    "fig, ax = plt.subplots(figsize=(20,20)) \n",
    "sns.heatmap(data.corr(), vmin= -1, vmax = +1, annot = True, cmap = 'coolwarm')"
   ]
  },
  {
   "cell_type": "code",
   "execution_count": 28,
   "metadata": {
    "scrolled": true
   },
   "outputs": [
    {
     "name": "stdout",
     "output_type": "stream",
     "text": [
      "Корреляция между exited и creditscore составляет: -2.71%\n",
      "Корреляция между exited и age составляет: 28.53%\n",
      "Корреляция между exited и tenure составляет: -1.60%\n",
      "Корреляция между exited и balance составляет: 11.85%\n",
      "Корреляция между exited и hascrcard составляет: -0.71%\n",
      "Корреляция между exited и isactivemember составляет: -15.61%\n",
      "Корреляция между exited и estimatedsalary составляет: 1.21%\n"
     ]
    }
   ],
   "source": [
    "data_loc = ['creditscore', 'age', 'tenure', 'balance', 'hascrcard', 'isactivemember', 'estimatedsalary']\n",
    "\n",
    "for index in data_loc:\n",
    "    correlation = data['exited'].corr(data[index])\n",
    "    print(f'Корреляция между exited и {index} составляет: {correlation:0.2%}')"
   ]
  },
  {
   "cell_type": "markdown",
   "metadata": {},
   "source": [
    "Исследован баланс классов\n",
    "\n",
    "Изучены модели без учёта дисбаланса\n",
    "\n",
    "Написаны выводы по результатам исследования"
   ]
  },
  {
   "cell_type": "markdown",
   "metadata": {},
   "source": [
    "***Матрица дисбаланса***"
   ]
  },
  {
   "cell_type": "code",
   "execution_count": 29,
   "metadata": {},
   "outputs": [],
   "source": [
    "#прямое кодирование полей для всего\n",
    "data_ohe = pd.get_dummies(data, drop_first=True)"
   ]
  },
  {
   "cell_type": "code",
   "execution_count": 30,
   "metadata": {},
   "outputs": [
    {
     "data": {
      "text/plain": [
       "Index(['creditscore', 'age', 'tenure', 'balance', 'numofproducts', 'hascrcard',\n",
       "       'isactivemember', 'estimatedsalary', 'exited', 'geography_Germany',\n",
       "       'geography_Spain', 'gender_Male'],\n",
       "      dtype='object')"
      ]
     },
     "execution_count": 30,
     "metadata": {},
     "output_type": "execute_result"
    }
   ],
   "source": [
    "data_ohe.columns"
   ]
  },
  {
   "cell_type": "code",
   "execution_count": 31,
   "metadata": {
    "scrolled": true
   },
   "outputs": [
    {
     "data": {
      "text/html": [
       "<div>\n",
       "<style scoped>\n",
       "    .dataframe tbody tr th:only-of-type {\n",
       "        vertical-align: middle;\n",
       "    }\n",
       "\n",
       "    .dataframe tbody tr th {\n",
       "        vertical-align: top;\n",
       "    }\n",
       "\n",
       "    .dataframe thead th {\n",
       "        text-align: right;\n",
       "    }\n",
       "</style>\n",
       "<table border=\"1\" class=\"dataframe\">\n",
       "  <thead>\n",
       "    <tr style=\"text-align: right;\">\n",
       "      <th></th>\n",
       "      <th>credit_score</th>\n",
       "      <th>age</th>\n",
       "      <th>tenure</th>\n",
       "      <th>balance</th>\n",
       "      <th>numof_products</th>\n",
       "      <th>hascr_card</th>\n",
       "      <th>isactive_member</th>\n",
       "      <th>estimated_salary</th>\n",
       "      <th>exited</th>\n",
       "      <th>geography_germany</th>\n",
       "      <th>geography_spain</th>\n",
       "      <th>gender_male</th>\n",
       "    </tr>\n",
       "  </thead>\n",
       "  <tbody>\n",
       "    <tr>\n",
       "      <th>0</th>\n",
       "      <td>619</td>\n",
       "      <td>42</td>\n",
       "      <td>2.0</td>\n",
       "      <td>0.00</td>\n",
       "      <td>1</td>\n",
       "      <td>1</td>\n",
       "      <td>1</td>\n",
       "      <td>101348.88</td>\n",
       "      <td>1</td>\n",
       "      <td>0</td>\n",
       "      <td>0</td>\n",
       "      <td>0</td>\n",
       "    </tr>\n",
       "    <tr>\n",
       "      <th>1</th>\n",
       "      <td>608</td>\n",
       "      <td>41</td>\n",
       "      <td>1.0</td>\n",
       "      <td>83807.86</td>\n",
       "      <td>1</td>\n",
       "      <td>0</td>\n",
       "      <td>1</td>\n",
       "      <td>112542.58</td>\n",
       "      <td>0</td>\n",
       "      <td>0</td>\n",
       "      <td>1</td>\n",
       "      <td>0</td>\n",
       "    </tr>\n",
       "    <tr>\n",
       "      <th>2</th>\n",
       "      <td>502</td>\n",
       "      <td>42</td>\n",
       "      <td>8.0</td>\n",
       "      <td>159660.80</td>\n",
       "      <td>3</td>\n",
       "      <td>1</td>\n",
       "      <td>0</td>\n",
       "      <td>113931.57</td>\n",
       "      <td>1</td>\n",
       "      <td>0</td>\n",
       "      <td>0</td>\n",
       "      <td>0</td>\n",
       "    </tr>\n",
       "    <tr>\n",
       "      <th>3</th>\n",
       "      <td>699</td>\n",
       "      <td>39</td>\n",
       "      <td>1.0</td>\n",
       "      <td>0.00</td>\n",
       "      <td>2</td>\n",
       "      <td>0</td>\n",
       "      <td>0</td>\n",
       "      <td>93826.63</td>\n",
       "      <td>0</td>\n",
       "      <td>0</td>\n",
       "      <td>0</td>\n",
       "      <td>0</td>\n",
       "    </tr>\n",
       "    <tr>\n",
       "      <th>4</th>\n",
       "      <td>850</td>\n",
       "      <td>43</td>\n",
       "      <td>2.0</td>\n",
       "      <td>125510.82</td>\n",
       "      <td>1</td>\n",
       "      <td>1</td>\n",
       "      <td>1</td>\n",
       "      <td>79084.10</td>\n",
       "      <td>0</td>\n",
       "      <td>0</td>\n",
       "      <td>1</td>\n",
       "      <td>0</td>\n",
       "    </tr>\n",
       "  </tbody>\n",
       "</table>\n",
       "</div>"
      ],
      "text/plain": [
       "   credit_score  age  tenure    balance  numof_products  hascr_card  \\\n",
       "0           619   42     2.0       0.00               1           1   \n",
       "1           608   41     1.0   83807.86               1           0   \n",
       "2           502   42     8.0  159660.80               3           1   \n",
       "3           699   39     1.0       0.00               2           0   \n",
       "4           850   43     2.0  125510.82               1           1   \n",
       "\n",
       "   isactive_member  estimated_salary  exited  geography_germany  \\\n",
       "0                1         101348.88       1                  0   \n",
       "1                1         112542.58       0                  0   \n",
       "2                0         113931.57       1                  0   \n",
       "3                0          93826.63       0                  0   \n",
       "4                1          79084.10       0                  0   \n",
       "\n",
       "   geography_spain  gender_male  \n",
       "0                0            0  \n",
       "1                1            0  \n",
       "2                0            0  \n",
       "3                0            0  \n",
       "4                1            0  "
      ]
     },
     "execution_count": 31,
     "metadata": {},
     "output_type": "execute_result"
    }
   ],
   "source": [
    "#переименование полей\n",
    "data_ohe = data_ohe.rename(\n",
    "    columns={'creditscore':'credit_score','numofproducts':'numof_products','hascrcard':'hascr_card','isactivemember':'isactive_member', 'estimatedsalary':'estimated_salary', 'geography_Germany':'geography_germany', 'geography_Spain':'geography_spain', 'gender_Male':'gender_male'})\n",
    "data_ohe.head()"
   ]
  },
  {
   "cell_type": "code",
   "execution_count": 32,
   "metadata": {},
   "outputs": [],
   "source": [
    "# зададим целевой признак\n",
    "target = data_ohe['exited']"
   ]
  },
  {
   "cell_type": "code",
   "execution_count": 33,
   "metadata": {},
   "outputs": [],
   "source": [
    "# подготовим данные\n",
    "features = data_ohe.drop(['exited'], axis=1)"
   ]
  },
  {
   "cell_type": "markdown",
   "metadata": {},
   "source": [
    "***Разбивка train_test_split***"
   ]
  },
  {
   "cell_type": "code",
   "execution_count": 34,
   "metadata": {},
   "outputs": [],
   "source": [
    "import pandas as pd\n",
    "from sklearn.tree import DecisionTreeClassifier\n",
    "from sklearn.metrics import confusion_matrix\n",
    "from sklearn.model_selection import train_test_split"
   ]
  },
  {
   "cell_type": "code",
   "execution_count": 35,
   "metadata": {},
   "outputs": [],
   "source": [
    "features_train, features_valid, target_train,target_valid = \\\n",
    "    train_test_split(features, target, test_size=0.4, random_state=12345)"
   ]
  },
  {
   "cell_type": "code",
   "execution_count": 36,
   "metadata": {},
   "outputs": [],
   "source": [
    "# отложенная тестовая выборка\n",
    "features_valid, features_test, target_valid, target_test = \\\n",
    "    train_test_split(features_valid, target_valid, test_size=0.5, random_state=12345)"
   ]
  },
  {
   "cell_type": "code",
   "execution_count": 37,
   "metadata": {},
   "outputs": [
    {
     "data": {
      "text/plain": [
       "((6000, 11), (2000, 11), (2000, 11))"
      ]
     },
     "execution_count": 37,
     "metadata": {},
     "output_type": "execute_result"
    }
   ],
   "source": [
    "# проверим разбивку на train, valid, test в соотношении 3:1:1\n",
    "features_train.shape, features_valid.shape, features_test.shape"
   ]
  },
  {
   "cell_type": "markdown",
   "metadata": {},
   "source": [
    "***Дисбалнс***"
   ]
  },
  {
   "cell_type": "code",
   "execution_count": 38,
   "metadata": {},
   "outputs": [
    {
     "data": {
      "text/plain": [
       "0    0.7963\n",
       "1    0.2037\n",
       "Name: exited, dtype: float64"
      ]
     },
     "execution_count": 38,
     "metadata": {},
     "output_type": "execute_result"
    }
   ],
   "source": [
    "# посмотрим соотношение данных в target\n",
    "target.value_counts(normalize=True)"
   ]
  },
  {
   "cell_type": "code",
   "execution_count": 39,
   "metadata": {
    "scrolled": true
   },
   "outputs": [
    {
     "data": {
      "image/png": "[encoded data removed]",
      "text/plain": [
       "<Figure size 432x288 with 1 Axes>"
      ]
     },
     "metadata": {
      "needs_background": "light"
     },
     "output_type": "display_data"
    }
   ],
   "source": [
    "target.plot(kind='hist', )\n",
    "plt.title('соотношение данных в целевом признаке')\n",
    "plt.ylabel('True Positive Rate')\n",
    "\n",
    "plt.show()"
   ]
  },
  {
   "cell_type": "markdown",
   "metadata": {},
   "source": [
    "***Масштабирование признаков***"
   ]
  },
  {
   "cell_type": "code",
   "execution_count": 40,
   "metadata": {
    "scrolled": true
   },
   "outputs": [
    {
     "data": {
      "text/html": [
       "<div>\n",
       "<style scoped>\n",
       "    .dataframe tbody tr th:only-of-type {\n",
       "        vertical-align: middle;\n",
       "    }\n",
       "\n",
       "    .dataframe tbody tr th {\n",
       "        vertical-align: top;\n",
       "    }\n",
       "\n",
       "    .dataframe thead th {\n",
       "        text-align: right;\n",
       "    }\n",
       "</style>\n",
       "<table border=\"1\" class=\"dataframe\">\n",
       "  <thead>\n",
       "    <tr style=\"text-align: right;\">\n",
       "      <th></th>\n",
       "      <th>credit_score</th>\n",
       "      <th>age</th>\n",
       "      <th>tenure</th>\n",
       "      <th>balance</th>\n",
       "      <th>numof_products</th>\n",
       "      <th>hascr_card</th>\n",
       "      <th>isactive_member</th>\n",
       "      <th>estimated_salary</th>\n",
       "      <th>geography_germany</th>\n",
       "      <th>geography_spain</th>\n",
       "      <th>gender_male</th>\n",
       "    </tr>\n",
       "  </thead>\n",
       "  <tbody>\n",
       "    <tr>\n",
       "      <th>7479</th>\n",
       "      <td>567</td>\n",
       "      <td>35</td>\n",
       "      <td>8.0</td>\n",
       "      <td>153137.74</td>\n",
       "      <td>1</td>\n",
       "      <td>1</td>\n",
       "      <td>0</td>\n",
       "      <td>88659.07</td>\n",
       "      <td>0</td>\n",
       "      <td>1</td>\n",
       "      <td>1</td>\n",
       "    </tr>\n",
       "    <tr>\n",
       "      <th>3411</th>\n",
       "      <td>711</td>\n",
       "      <td>37</td>\n",
       "      <td>8.0</td>\n",
       "      <td>113899.92</td>\n",
       "      <td>1</td>\n",
       "      <td>0</td>\n",
       "      <td>0</td>\n",
       "      <td>80215.20</td>\n",
       "      <td>0</td>\n",
       "      <td>0</td>\n",
       "      <td>0</td>\n",
       "    </tr>\n",
       "    <tr>\n",
       "      <th>6027</th>\n",
       "      <td>850</td>\n",
       "      <td>44</td>\n",
       "      <td>3.0</td>\n",
       "      <td>140393.65</td>\n",
       "      <td>2</td>\n",
       "      <td>0</td>\n",
       "      <td>1</td>\n",
       "      <td>186285.52</td>\n",
       "      <td>1</td>\n",
       "      <td>0</td>\n",
       "      <td>1</td>\n",
       "    </tr>\n",
       "    <tr>\n",
       "      <th>1247</th>\n",
       "      <td>512</td>\n",
       "      <td>24</td>\n",
       "      <td>6.0</td>\n",
       "      <td>0.00</td>\n",
       "      <td>2</td>\n",
       "      <td>1</td>\n",
       "      <td>0</td>\n",
       "      <td>37654.31</td>\n",
       "      <td>0</td>\n",
       "      <td>0</td>\n",
       "      <td>1</td>\n",
       "    </tr>\n",
       "    <tr>\n",
       "      <th>3716</th>\n",
       "      <td>665</td>\n",
       "      <td>27</td>\n",
       "      <td>2.0</td>\n",
       "      <td>147435.96</td>\n",
       "      <td>1</td>\n",
       "      <td>0</td>\n",
       "      <td>0</td>\n",
       "      <td>187508.06</td>\n",
       "      <td>1</td>\n",
       "      <td>0</td>\n",
       "      <td>0</td>\n",
       "    </tr>\n",
       "  </tbody>\n",
       "</table>\n",
       "</div>"
      ],
      "text/plain": [
       "      credit_score  age  tenure    balance  numof_products  hascr_card  \\\n",
       "7479           567   35     8.0  153137.74               1           1   \n",
       "3411           711   37     8.0  113899.92               1           0   \n",
       "6027           850   44     3.0  140393.65               2           0   \n",
       "1247           512   24     6.0       0.00               2           1   \n",
       "3716           665   27     2.0  147435.96               1           0   \n",
       "\n",
       "      isactive_member  estimated_salary  geography_germany  geography_spain  \\\n",
       "7479                0          88659.07                  0                1   \n",
       "3411                0          80215.20                  0                0   \n",
       "6027                1         186285.52                  1                0   \n",
       "1247                0          37654.31                  0                0   \n",
       "3716                0         187508.06                  1                0   \n",
       "\n",
       "      gender_male  \n",
       "7479            1  \n",
       "3411            0  \n",
       "6027            1  \n",
       "1247            1  \n",
       "3716            0  "
      ]
     },
     "execution_count": 40,
     "metadata": {},
     "output_type": "execute_result"
    }
   ],
   "source": [
    "\n",
    "features_train.head()"
   ]
  },
  {
   "cell_type": "code",
   "execution_count": 41,
   "metadata": {
    "scrolled": true
   },
   "outputs": [
    {
     "data": {
      "text/plain": [
       "Index(['credit_score', 'age', 'tenure', 'balance', 'numof_products',\n",
       "       'hascr_card', 'isactive_member', 'estimated_salary',\n",
       "       'geography_germany', 'geography_spain', 'gender_male'],\n",
       "      dtype='object')"
      ]
     },
     "execution_count": 41,
     "metadata": {},
     "output_type": "execute_result"
    }
   ],
   "source": [
    "features_train.columns"
   ]
  },
  {
   "cell_type": "code",
   "execution_count": 42,
   "metadata": {},
   "outputs": [],
   "source": [
    "scale = ['credit_score', 'age', 'tenure', 'balance', 'estimated_salary']"
   ]
  },
  {
   "cell_type": "code",
   "execution_count": 43,
   "metadata": {},
   "outputs": [],
   "source": [
    "from sklearn.preprocessing import StandardScaler\n",
    "scaler = StandardScaler()"
   ]
  },
  {
   "cell_type": "code",
   "execution_count": 44,
   "metadata": {},
   "outputs": [
    {
     "data": {
      "text/plain": [
       "StandardScaler()"
      ]
     },
     "execution_count": 44,
     "metadata": {},
     "output_type": "execute_result"
    }
   ],
   "source": [
    "scaler.fit(features_train[scale])"
   ]
  },
  {
   "cell_type": "code",
   "execution_count": 45,
   "metadata": {},
   "outputs": [],
   "source": [
    "#  продублируем выборки \n",
    "features_train_scaler = features_train.copy()\n",
    "features_valid_scaler = features_valid.copy()\n",
    "features_test_scaler = features_test.copy()"
   ]
  },
  {
   "cell_type": "code",
   "execution_count": 46,
   "metadata": {},
   "outputs": [],
   "source": [
    "# преобразование\n",
    "features_train_scaler[scale] = scaler.transform(features_train_scaler[scale])\n",
    "features_valid_scaler[scale] = scaler.transform(features_valid_scaler[scale])\n",
    "features_test_scaler[scale] = scaler.transform(features_test_scaler[scale])"
   ]
  },
  {
   "cell_type": "code",
   "execution_count": 47,
   "metadata": {},
   "outputs": [
    {
     "data": {
      "text/html": [
       "<div>\n",
       "<style scoped>\n",
       "    .dataframe tbody tr th:only-of-type {\n",
       "        vertical-align: middle;\n",
       "    }\n",
       "\n",
       "    .dataframe tbody tr th {\n",
       "        vertical-align: top;\n",
       "    }\n",
       "\n",
       "    .dataframe thead th {\n",
       "        text-align: right;\n",
       "    }\n",
       "</style>\n",
       "<table border=\"1\" class=\"dataframe\">\n",
       "  <thead>\n",
       "    <tr style=\"text-align: right;\">\n",
       "      <th></th>\n",
       "      <th>credit_score</th>\n",
       "      <th>age</th>\n",
       "      <th>tenure</th>\n",
       "      <th>balance</th>\n",
       "      <th>numof_products</th>\n",
       "      <th>hascr_card</th>\n",
       "      <th>isactive_member</th>\n",
       "      <th>estimated_salary</th>\n",
       "      <th>geography_germany</th>\n",
       "      <th>geography_spain</th>\n",
       "      <th>gender_male</th>\n",
       "    </tr>\n",
       "  </thead>\n",
       "  <tbody>\n",
       "    <tr>\n",
       "      <th>7479</th>\n",
       "      <td>-0.886751</td>\n",
       "      <td>-0.373192</td>\n",
       "      <td>1.082277</td>\n",
       "      <td>1.232271</td>\n",
       "      <td>1</td>\n",
       "      <td>1</td>\n",
       "      <td>0</td>\n",
       "      <td>-0.187705</td>\n",
       "      <td>0</td>\n",
       "      <td>1</td>\n",
       "      <td>1</td>\n",
       "    </tr>\n",
       "    <tr>\n",
       "      <th>3411</th>\n",
       "      <td>0.608663</td>\n",
       "      <td>-0.183385</td>\n",
       "      <td>1.082277</td>\n",
       "      <td>0.600563</td>\n",
       "      <td>1</td>\n",
       "      <td>0</td>\n",
       "      <td>0</td>\n",
       "      <td>-0.333945</td>\n",
       "      <td>0</td>\n",
       "      <td>0</td>\n",
       "      <td>0</td>\n",
       "    </tr>\n",
       "    <tr>\n",
       "      <th>6027</th>\n",
       "      <td>2.052152</td>\n",
       "      <td>0.480939</td>\n",
       "      <td>-0.737696</td>\n",
       "      <td>1.027098</td>\n",
       "      <td>2</td>\n",
       "      <td>0</td>\n",
       "      <td>1</td>\n",
       "      <td>1.503095</td>\n",
       "      <td>1</td>\n",
       "      <td>0</td>\n",
       "      <td>1</td>\n",
       "    </tr>\n",
       "    <tr>\n",
       "      <th>1247</th>\n",
       "      <td>-1.457915</td>\n",
       "      <td>-1.417129</td>\n",
       "      <td>0.354288</td>\n",
       "      <td>-1.233163</td>\n",
       "      <td>2</td>\n",
       "      <td>1</td>\n",
       "      <td>0</td>\n",
       "      <td>-1.071061</td>\n",
       "      <td>0</td>\n",
       "      <td>0</td>\n",
       "      <td>1</td>\n",
       "    </tr>\n",
       "    <tr>\n",
       "      <th>3716</th>\n",
       "      <td>0.130961</td>\n",
       "      <td>-1.132419</td>\n",
       "      <td>-1.101690</td>\n",
       "      <td>1.140475</td>\n",
       "      <td>1</td>\n",
       "      <td>0</td>\n",
       "      <td>0</td>\n",
       "      <td>1.524268</td>\n",
       "      <td>1</td>\n",
       "      <td>0</td>\n",
       "      <td>0</td>\n",
       "    </tr>\n",
       "  </tbody>\n",
       "</table>\n",
       "</div>"
      ],
      "text/plain": [
       "      credit_score       age    tenure   balance  numof_products  hascr_card  \\\n",
       "7479     -0.886751 -0.373192  1.082277  1.232271               1           1   \n",
       "3411      0.608663 -0.183385  1.082277  0.600563               1           0   \n",
       "6027      2.052152  0.480939 -0.737696  1.027098               2           0   \n",
       "1247     -1.457915 -1.417129  0.354288 -1.233163               2           1   \n",
       "3716      0.130961 -1.132419 -1.101690  1.140475               1           0   \n",
       "\n",
       "      isactive_member  estimated_salary  geography_germany  geography_spain  \\\n",
       "7479                0         -0.187705                  0                1   \n",
       "3411                0         -0.333945                  0                0   \n",
       "6027                1          1.503095                  1                0   \n",
       "1247                0         -1.071061                  0                0   \n",
       "3716                0          1.524268                  1                0   \n",
       "\n",
       "      gender_male  \n",
       "7479            1  \n",
       "3411            0  \n",
       "6027            1  \n",
       "1247            1  \n",
       "3716            0  "
      ]
     },
     "execution_count": 47,
     "metadata": {},
     "output_type": "execute_result"
    }
   ],
   "source": [
    "features_train_scaler.head()"
   ]
  },
  {
   "cell_type": "markdown",
   "metadata": {},
   "source": [
    "***Модель логистической регрессии без учёта дисбаланса***"
   ]
  },
  {
   "cell_type": "code",
   "execution_count": 48,
   "metadata": {},
   "outputs": [],
   "source": [
    "# инициируем модель логистической регрессии\n",
    "model_lene_reg = LogisticRegression(random_state=12345)"
   ]
  },
  {
   "cell_type": "code",
   "execution_count": 49,
   "metadata": {},
   "outputs": [
    {
     "data": {
      "text/plain": [
       "LogisticRegression(random_state=12345)"
      ]
     },
     "execution_count": 49,
     "metadata": {},
     "output_type": "execute_result"
    }
   ],
   "source": [
    "# обучим модель\n",
    "model_lene_reg.fit(features_train, target_train)"
   ]
  },
  {
   "cell_type": "code",
   "execution_count": 50,
   "metadata": {
    "scrolled": true
   },
   "outputs": [
    {
     "name": "stdout",
     "output_type": "stream",
     "text": [
      "0.7945\n",
      "0.782\n"
     ]
    }
   ],
   "source": [
    "print(model_lene_reg.score(features_train, target_train))\n",
    "print(model_lene_reg.score(features_valid, target_valid))"
   ]
  },
  {
   "cell_type": "code",
   "execution_count": 51,
   "metadata": {},
   "outputs": [],
   "source": [
    "# прогнозирование\n",
    "predicted_valid = model_lene_reg.predict(features_valid)"
   ]
  },
  {
   "cell_type": "code",
   "execution_count": 52,
   "metadata": {
    "scrolled": true
   },
   "outputs": [
    {
     "data": {
      "text/plain": [
       "0.08786610878661089"
      ]
     },
     "execution_count": 52,
     "metadata": {},
     "output_type": "execute_result"
    }
   ],
   "source": [
    "#критерий f1 лог. регрессия\n",
    "from sklearn.metrics import f1_score\n",
    "f1_score(predicted_valid, target_valid)"
   ]
  },
  {
   "cell_type": "markdown",
   "metadata": {},
   "source": [
    "***Модель дерева решений без учёта дисбаланса***"
   ]
  },
  {
   "cell_type": "code",
   "execution_count": 53,
   "metadata": {},
   "outputs": [],
   "source": [
    "\n",
    "model_tree = DecisionTreeClassifier(random_state=12345)"
   ]
  },
  {
   "cell_type": "code",
   "execution_count": 54,
   "metadata": {
    "scrolled": true
   },
   "outputs": [
    {
     "data": {
      "text/plain": [
       "DecisionTreeClassifier(random_state=12345)"
      ]
     },
     "execution_count": 54,
     "metadata": {},
     "output_type": "execute_result"
    }
   ],
   "source": [
    "model_tree.fit(features_train, target_train)"
   ]
  },
  {
   "cell_type": "code",
   "execution_count": 55,
   "metadata": {},
   "outputs": [],
   "source": [
    "predicted_valid_dt = model_tree.predict(features_valid)"
   ]
  },
  {
   "cell_type": "code",
   "execution_count": 56,
   "metadata": {},
   "outputs": [
    {
     "data": {
      "text/plain": [
       "0.5036319612590799"
      ]
     },
     "execution_count": 56,
     "metadata": {},
     "output_type": "execute_result"
    }
   ],
   "source": [
    "# f1 дерево решений\n",
    "f1_score(predicted_valid_dt, target_valid)"
   ]
  },
  {
   "cell_type": "markdown",
   "metadata": {},
   "source": [
    "***С учетом дисбаланса***"
   ]
  },
  {
   "cell_type": "code",
   "execution_count": 57,
   "metadata": {},
   "outputs": [],
   "source": [
    "# модель логистической регрессии\n",
    "model_lene_reg_balanced = LogisticRegression(random_state=12345, solver='liblinear', class_weight='balanced')"
   ]
  },
  {
   "cell_type": "code",
   "execution_count": 58,
   "metadata": {
    "scrolled": true
   },
   "outputs": [
    {
     "data": {
      "text/plain": [
       "LogisticRegression(class_weight='balanced', random_state=12345,\n",
       "                   solver='liblinear')"
      ]
     },
     "execution_count": 58,
     "metadata": {},
     "output_type": "execute_result"
    }
   ],
   "source": [
    "model_lene_reg_balanced.fit(features_train, target_train)"
   ]
  },
  {
   "cell_type": "code",
   "execution_count": 59,
   "metadata": {},
   "outputs": [],
   "source": [
    "# прогнозирование целевого параметра\n",
    "predicted_valid_balanced = model_lene_reg_balanced.predict(features_valid)"
   ]
  },
  {
   "cell_type": "code",
   "execution_count": 60,
   "metadata": {
    "scrolled": true
   },
   "outputs": [
    {
     "data": {
      "text/plain": [
       "0.45176848874598063"
      ]
     },
     "execution_count": 60,
     "metadata": {},
     "output_type": "execute_result"
    }
   ],
   "source": [
    "f1_score(predicted_valid_balanced, target_valid)"
   ]
  },
  {
   "cell_type": "markdown",
   "metadata": {},
   "source": [
    "Вывод: балансировка весов классов дала повышение f1 меры"
   ]
  },
  {
   "cell_type": "code",
   "execution_count": 61,
   "metadata": {
    "scrolled": true
   },
   "outputs": [
    {
     "name": "stdout",
     "output_type": "stream",
     "text": [
      "[[1382  200]\n",
      " [ 210  208]]\n"
     ]
    }
   ],
   "source": [
    "import pandas as pd\n",
    "from sklearn.tree import DecisionTreeClassifier\n",
    "from sklearn.metrics import confusion_matrix\n",
    "from sklearn.model_selection import train_test_split\n",
    "\n",
    "\n",
    "model = DecisionTreeClassifier(random_state=12345)\n",
    "model.fit(features_train, target_train)\n",
    "predicted_valid = model.predict(features_valid)\n",
    "\n",
    "print(confusion_matrix(target_valid, predicted_valid))"
   ]
  },
  {
   "cell_type": "markdown",
   "metadata": {},
   "source": [
    "левый верхний угол 1783, явный дисбаланс.\n",
    "\n",
    "получаем:\n",
    "\n",
    "По главной диагонали (от верхнего левого угла) выстроены правильные прогнозы:\n",
    "\n",
    "TN в левом верхнем углу;\n",
    "\n",
    "TP в правом нижнем углу.\n",
    "\n",
    "Вне главной диагонали — ошибочные варианты:\n",
    "\n",
    "FP в правом верхнем углу;\n",
    "\n",
    "FN в левом нижнем углу."
   ]
  },
  {
   "cell_type": "markdown",
   "metadata": {},
   "source": [
    "***Полнота***\n",
    "\n",
    "Выявляет, какую долю положительных среди всех ответов выделила модель. Обычно они на вес золота, и важно понимать, как хорошо модель их находит. "
   ]
  },
  {
   "cell_type": "code",
   "execution_count": 62,
   "metadata": {},
   "outputs": [
    {
     "name": "stdout",
     "output_type": "stream",
     "text": [
      "0.49760765550239233\n"
     ]
    }
   ],
   "source": [
    "from sklearn.metrics import recall_score \n",
    "print(recall_score(target_valid, predicted_valid))"
   ]
  },
  {
   "cell_type": "markdown",
   "metadata": {},
   "source": [
    "***Точность***\n",
    "\n",
    "Точность определяет, как много отрицательных ответов нашла модель, пока искала положительные. Чем больше отрицательных, тем ниже точность."
   ]
  },
  {
   "cell_type": "code",
   "execution_count": 63,
   "metadata": {},
   "outputs": [
    {
     "name": "stdout",
     "output_type": "stream",
     "text": [
      "0.5098039215686274\n"
     ]
    }
   ],
   "source": [
    "from sklearn.metrics import precision_score\n",
    "print(precision_score(target_valid, predicted_valid))"
   ]
  },
  {
   "cell_type": "markdown",
   "metadata": {},
   "source": [
    "***Точность против полноты***\n",
    "\n",
    "***F1-мера***\n",
    "\n",
    "среднее гармоническое полноты и точности."
   ]
  },
  {
   "cell_type": "code",
   "execution_count": 64,
   "metadata": {},
   "outputs": [
    {
     "name": "stdout",
     "output_type": "stream",
     "text": [
      "0.5036319612590799\n"
     ]
    }
   ],
   "source": [
    "from sklearn.metrics import f1_score\n",
    "\n",
    "print(f1_score(target_valid, predicted_valid))"
   ]
  },
  {
   "cell_type": "code",
   "execution_count": 65,
   "metadata": {},
   "outputs": [
    {
     "name": "stdout",
     "output_type": "stream",
     "text": [
      "auc_roc 0.6855927025931684\n"
     ]
    }
   ],
   "source": [
    "#AUC-ROC\n",
    "from sklearn.metrics import roc_auc_score\n",
    "from sklearn.metrics import roc_curve\n",
    "auc_roc = roc_auc_score(target_valid, predicted_valid)\n",
    "print('auc_roc', auc_roc)"
   ]
  },
  {
   "cell_type": "code",
   "execution_count": 66,
   "metadata": {},
   "outputs": [
    {
     "data": {
      "image/png": "[encoded data removed]",
      "text/plain": [
       "<Figure size 432x432 with 1 Axes>"
      ]
     },
     "metadata": {
      "needs_background": "light"
     },
     "output_type": "display_data"
    }
   ],
   "source": [
    "#ROC\n",
    "fpr, tpr, thresholds = roc_curve(target_valid, predicted_valid)\n",
    "plt.figure(figsize=(6,6))\n",
    "\n",
    "plt.plot(fpr, tpr,  color='red')\n",
    "\n",
    "plt.plot([0, 1], [0, 1], linestyle='--')\n",
    "plt.title('ROC - кривая')\n",
    "plt.xlabel('fpr False Positive Rate')\n",
    "plt.ylabel('tpr True Positive Rate')\n",
    "plt.show()"
   ]
  },
  {
   "cell_type": "markdown",
   "metadata": {},
   "source": [
    "мало что понятно"
   ]
  },
  {
   "cell_type": "code",
   "execution_count": 67,
   "metadata": {},
   "outputs": [
    {
     "name": "stdout",
     "output_type": "stream",
     "text": [
      "auc_roc 0.6855927025931684\n"
     ]
    }
   ],
   "source": [
    "predicted_valid_proba = model.predict_proba(features_valid)[:, 1]\n",
    "auc_roc = roc_auc_score(target_valid, predicted_valid_proba)\n",
    "print('auc_roc', auc_roc)"
   ]
  },
  {
   "cell_type": "markdown",
   "metadata": {},
   "source": [
    "## Борьба с дисбалансом"
   ]
  },
  {
   "cell_type": "markdown",
   "metadata": {},
   "source": [
    "Взвешивание классов"
   ]
  },
  {
   "cell_type": "code",
   "execution_count": 68,
   "metadata": {},
   "outputs": [],
   "source": [
    "model_LR = LogisticRegression(random_state=12345, solver='liblinear')\n",
    "model_LR.fit(features_train, target_train)\n",
    "predicted_valid_LR = model_LR.predict(features_valid)"
   ]
  },
  {
   "cell_type": "code",
   "execution_count": 69,
   "metadata": {},
   "outputs": [
    {
     "name": "stdout",
     "output_type": "stream",
     "text": [
      "F1: 0.08385744234800838\n"
     ]
    }
   ],
   "source": [
    "print(\"F1:\", f1_score(target_valid, predicted_valid_LR))"
   ]
  },
  {
   "cell_type": "markdown",
   "metadata": {},
   "source": [
    "Балансировка классов"
   ]
  },
  {
   "cell_type": "code",
   "execution_count": 70,
   "metadata": {},
   "outputs": [
    {
     "name": "stdout",
     "output_type": "stream",
     "text": [
      "F1: 0.45176848874598063\n"
     ]
    }
   ],
   "source": [
    "from sklearn.linear_model import LogisticRegression\n",
    "model_bal = LogisticRegression(random_state=12345, solver='liblinear', class_weight='balanced')\n",
    "model_bal.fit(features_train, target_train)\n",
    "predicted_valid_bal = model_bal.predict(features_valid)\n",
    "print(\"F1:\", f1_score(target_valid, predicted_valid_bal))"
   ]
  },
  {
   "cell_type": "markdown",
   "metadata": {},
   "source": [
    "***Увеличение выборки***"
   ]
  },
  {
   "cell_type": "code",
   "execution_count": 71,
   "metadata": {},
   "outputs": [
    {
     "name": "stdout",
     "output_type": "stream",
     "text": [
      "F1: 0.4512489927477841\n"
     ]
    }
   ],
   "source": [
    "from sklearn.utils import shuffle\n",
    "def upsample(features, target, repeat):\n",
    "    target_zeros = target[target == 0]\n",
    "    target_ones = target[target == 1]\n",
    "    \n",
    "    features_zeros = features[target == 0]\n",
    "    features_ones = features[target == 1]\n",
    "\n",
    "    features_upsampled = pd.concat([features_zeros] + [features_ones] * repeat)\n",
    "    target_upsampled = pd.concat([target_zeros] + [target_ones] * repeat)\n",
    "    \n",
    "    features_upsampled, target_upsampled = shuffle(\n",
    "        features_upsampled, target_upsampled, random_state=12345)\n",
    "    \n",
    "    return features_upsampled, target_upsampled\n",
    "\n",
    "repeat = round(len(target_train[target_train == 0]) / len(target_train[target_train == 1]))\n",
    "features_upsampled, target_upsampled = upsample(features_train, target_train, repeat)\n",
    "\n",
    "model = LogisticRegression(solver='liblinear', random_state=12345)\n",
    "model.fit(features_upsampled, target_upsampled)\n",
    "predicted_valid = model.predict(features_valid)\n",
    "print(\"F1:\", f1_score(target_valid, predicted_valid))\n",
    "\n"
   ]
  },
  {
   "cell_type": "markdown",
   "metadata": {},
   "source": [
    "***Уменьшение выборки***"
   ]
  },
  {
   "cell_type": "code",
   "execution_count": 72,
   "metadata": {},
   "outputs": [
    {
     "name": "stdout",
     "output_type": "stream",
     "text": [
      "F1: 0.45856798069187443\n"
     ]
    }
   ],
   "source": [
    "def downsample(features, target, fraction):\n",
    "    features_zeros = features[target == 0]\n",
    "    features_ones = features[target == 1]\n",
    "    target_zeros = target[target == 0]\n",
    "    target_ones = target[target == 1]\n",
    "\n",
    "    features_downsampled = pd.concat(\n",
    "        [features_zeros.sample(frac=fraction, random_state=12345)] + [features_ones])\n",
    "    target_downsampled = pd.concat(\n",
    "        [target_zeros.sample(frac=fraction, random_state=12345)] + [target_ones])\n",
    "    \n",
    "    features_downsampled, target_downsampled = shuffle(\n",
    "        features_downsampled, target_downsampled, random_state=12345)\n",
    "    \n",
    "    return features_downsampled, target_downsampled\n",
    "\n",
    "features_downsampled, target_downsampled = downsample(features_train, target_train, 0.25)\n",
    "\n",
    "# < moнапишите код здесь >\n",
    "model = LogisticRegression(solver='liblinear', random_state=12345)\n",
    "model.fit(features_downsampled, target_downsampled)\n",
    "predicted_valid = model.predict(features_valid)\n",
    "print(\"F1:\", f1_score(target_valid, predicted_valid))"
   ]
  },
  {
   "cell_type": "markdown",
   "metadata": {},
   "source": [
    "не понимаю"
   ]
  },
  {
   "cell_type": "markdown",
   "metadata": {},
   "source": [
    "Уменьшение и увеличение ыборки не влияют на качетсов модели, в обоих случаях оно плохое"
   ]
  },
  {
   "cell_type": "markdown",
   "metadata": {},
   "source": [
    "***Изменение порога***\n",
    "\n",
    "В библиотеке sklearn вероятность классов вычисляет функция predict_proba() (от англ. predict probabilities, «предсказать вероятности»). На вход она получает признаки объектов, а возвращает вероятности.\n",
    "\n",
    "Строки соответствуют объектам. В первом столбце указана вероятность отрицательного класса, а во втором — положительного (сумма вероятностей равна единице)."
   ]
  },
  {
   "cell_type": "code",
   "execution_count": 73,
   "metadata": {},
   "outputs": [
    {
     "name": "stdout",
     "output_type": "stream",
     "text": [
      "Порог = 0.00 | Точность = 0.209, Полнота = 1.000\n",
      "Порог = 0.02 | Точность = 0.209, Полнота = 1.000\n",
      "Порог = 0.04 | Точность = 0.210, Полнота = 1.000\n",
      "Порог = 0.06 | Точность = 0.215, Полнота = 0.995\n",
      "Порог = 0.08 | Точность = 0.222, Полнота = 0.976\n",
      "Порог = 0.10 | Точность = 0.235, Полнота = 0.957\n",
      "Порог = 0.12 | Точность = 0.247, Полнота = 0.921\n",
      "Порог = 0.14 | Точность = 0.257, Полнота = 0.849\n",
      "Порог = 0.16 | Точность = 0.271, Полнота = 0.792\n",
      "Порог = 0.18 | Точность = 0.284, Полнота = 0.720\n",
      "Порог = 0.20 | Точность = 0.305, Полнота = 0.646\n",
      "Порог = 0.22 | Точность = 0.321, Полнота = 0.577\n",
      "Порог = 0.24 | Точность = 0.337, Полнота = 0.517\n",
      "Порог = 0.26 | Точность = 0.335, Полнота = 0.445\n",
      "Порог = 0.28 | Точность = 0.350, Полнота = 0.400\n"
     ]
    }
   ],
   "source": [
    "import numpy as np\n",
    "model = LogisticRegression(random_state=12345, solver='liblinear')\n",
    "model.fit(features_train, target_train)\n",
    "probabilities_valid = model.predict_proba(features_valid)\n",
    "probabilities_one_valid = probabilities_valid[:, 1]\n",
    "\n",
    "for threshold in np.arange(0, 0.3, 0.02):\n",
    "    predicted_valid = probabilities_one_valid > threshold\n",
    "    precision = precision_score(target_valid, predicted_valid)\n",
    "    recall = recall_score(target_valid, predicted_valid)\n",
    "\n",
    "    print(\"Порог = {:.2f} | Точность = {:.3f}, Полнота = {:.3f}\".format(\n",
    "        threshold, precision, recall))"
   ]
  },
  {
   "cell_type": "markdown",
   "metadata": {},
   "source": [
    "***PR кривая***\n",
    "\n",
    "На графике по вертикали наносится значение точности, по горизонтали — полноты. Кривая, показывающая их значения, называется PR-кривой (от англ. Precision и Recall). Чем выше кривая, тем лучше модель."
   ]
  },
  {
   "cell_type": "code",
   "execution_count": 74,
   "metadata": {},
   "outputs": [
    {
     "data": {
      "image/png": "[encoded data removed]",
      "text/plain": [
       "<Figure size 432x432 with 1 Axes>"
      ]
     },
     "metadata": {
      "needs_background": "light"
     },
     "output_type": "display_data"
    }
   ],
   "source": [
    "from sklearn.metrics import precision_recall_curve\n",
    "precision, recall, thresholds = precision_recall_curve(target_valid, probabilities_valid[:, 1])\n",
    "\n",
    "plt.figure(figsize=(6, 6))\n",
    "plt.step(recall, precision, where='post')\n",
    "plt.xlabel('Recall')\n",
    "plt.ylabel('Precision')\n",
    "plt.ylim([0.0, 1.05])\n",
    "plt.xlim([0.0, 1.0])\n",
    "plt.title('Кривая Precision-Recall')\n",
    "plt.show() "
   ]
  },
  {
   "cell_type": "markdown",
   "metadata": {},
   "source": [
    "***TPR и FPR***\n",
    "\n",
    "По горизонтали нанесём долю ложноположительных ответов (FPR), а по вертикали — долю истинно положительных ответов (TPR)"
   ]
  },
  {
   "cell_type": "code",
   "execution_count": 75,
   "metadata": {},
   "outputs": [
    {
     "name": "stdout",
     "output_type": "stream",
     "text": [
      "0.6727947180904797\n"
     ]
    }
   ],
   "source": [
    "from sklearn.metrics import roc_curve\n",
    "from sklearn.metrics import roc_auc_score\n",
    "probabilities_valid = model.predict_proba(features_valid)\n",
    "probabilities_one_valid = probabilities_valid[:, 1]\n",
    "\n",
    "\n",
    "auc_roc = roc_auc_score(target_valid, probabilities_one_valid)\n",
    "\n",
    "print(auc_roc)"
   ]
  },
  {
   "cell_type": "code",
   "execution_count": 76,
   "metadata": {},
   "outputs": [
    {
     "name": "stdout",
     "output_type": "stream",
     "text": [
      "F1, для дерева решений: 0.48792270531400966\n"
     ]
    }
   ],
   "source": [
    "# дерево решени\n",
    "model = DecisionTreeClassifier(random_state=12345)\n",
    "model.fit(features_upsampled, target_upsampled)\n",
    "predicted_valid_dt = model.predict(features_valid)\n",
    "print(\"F1, для дерева решений:\", f1_score(target_valid, predicted_valid_dt))\n",
    "\n"
   ]
  },
  {
   "cell_type": "code",
   "execution_count": 77,
   "metadata": {},
   "outputs": [
    {
     "name": "stdout",
     "output_type": "stream",
     "text": [
      "F1, для случайного леса: 0.6039735099337747\n"
     ]
    }
   ],
   "source": [
    "# cлучайный лес\n",
    "model = RandomForestClassifier(random_state=12345)\n",
    "model.fit(features_upsampled, target_upsampled)\n",
    "predicted_valid_rf = model.predict(features_valid)\n",
    "print(\"F1, для случайного леса:\", f1_score(target_valid, predicted_valid_rf))"
   ]
  },
  {
   "cell_type": "markdown",
   "metadata": {},
   "source": [
    "***Вывод:***\n",
    "\n",
    "При сравнении базовых моделей без дополнительных гиперпараметров, наилучший результат по F1 показала модель случайного леса. Далее будем использовать её для подбора оптимальных гиперпараметров. Изменена формулировка."
   ]
  },
  {
   "cell_type": "markdown",
   "metadata": {},
   "source": [
    "## Тестирование модели"
   ]
  },
  {
   "cell_type": "markdown",
   "metadata": {},
   "source": [
    "Для тестирования модели можно использовать метрики, такие как точность (accuracy), полноту (recall), точность (precision) и F1-меру (F1-score). Можно также построить ROC-кривую и вычислить площадь под ней (AUC-ROC).\n",
    "\n"
   ]
  },
  {
   "cell_type": "code",
   "execution_count": 78,
   "metadata": {
    "scrolled": true
   },
   "outputs": [
    {
     "name": "stdout",
     "output_type": "stream",
     "text": [
      "f1 лучшие гиперпараметры 0.609673790776153\n"
     ]
    }
   ],
   "source": [
    "# Подбор гиперпараметров на тестовой выборке\n",
    "model = RandomForestClassifier(n_estimators=100, max_depth=11, random_state=12345)\n",
    "model.fit(features_upsampled, target_upsampled)\n",
    "predicted_test = model.predict(features_test)\n",
    "f1 = f1_score(predicted_test, target_test)\n",
    "print('f1 лучшие гиперпараметры', f1)"
   ]
  },
  {
   "cell_type": "code",
   "execution_count": 79,
   "metadata": {},
   "outputs": [],
   "source": [
    "# Создадим объект target_p\n",
    "target_p = pd.Series(list(0 for z in range(len(target_test))))"
   ]
  },
  {
   "cell_type": "code",
   "execution_count": 80,
   "metadata": {
    "scrolled": true
   },
   "outputs": [
    {
     "name": "stdout",
     "output_type": "stream",
     "text": [
      "Для правильных ответов accuracy в полученной модели 0.8265\n",
      "Для правильных ответов accuracy в случайной модели 0.7885\n"
     ]
    }
   ],
   "source": [
    "from sklearn.metrics import accuracy_score\n",
    "print('Для правильных ответов accuracy в полученной модели', accuracy_score(target_test, predicted_test))\n",
    "print('Для правильных ответов accuracy в случайной модели', accuracy_score(target_test, target_p))"
   ]
  },
  {
   "cell_type": "code",
   "execution_count": 85,
   "metadata": {},
   "outputs": [],
   "source": [
    "# Рассчитаем вероятность для построения ROC - кривой\n",
    "probabilities_test = model.predict_proba(features_test)\n",
    "probabilities_one_test = probabilities_test[:, 1]"
   ]
  },
  {
   "cell_type": "code",
   "execution_count": 86,
   "metadata": {
    "scrolled": true
   },
   "outputs": [
    {
     "data": {
      "text/plain": [
       "array([0.04676039, 0.53690725, 0.11117998, ..., 0.08170455, 0.2187072 ,\n",
       "       0.3632707 ])"
      ]
     },
     "execution_count": 86,
     "metadata": {},
     "output_type": "execute_result"
    }
   ],
   "source": [
    "probabilities_one_test"
   ]
  },
  {
   "cell_type": "code",
   "execution_count": 87,
   "metadata": {},
   "outputs": [
    {
     "data": {
      "image/png": "[encoded data removed]",
      "text/plain": [
       "<Figure size 432x432 with 1 Axes>"
      ]
     },
     "metadata": {
      "needs_background": "light"
     },
     "output_type": "display_data"
    }
   ],
   "source": [
    "# ROC \n",
    "fpr, tpr, thresholds = roc_curve(target_test, probabilities_one_test)\n",
    "plt.figure(figsize=(6,6))\n",
    "\n",
    "plt.plot(fpr, tpr,  color='red')\n",
    "# ROC-кривая \n",
    "plt.plot([0, 1], [0, 1], linestyle='--')\n",
    "plt.title('ROC - кривая')\n",
    "plt.xlabel('fpr False Positive Rate')\n",
    "plt.ylabel('tpr True Positive Rate')\n",
    "plt.show()"
   ]
  },
  {
   "cell_type": "code",
   "execution_count": 88,
   "metadata": {},
   "outputs": [
    {
     "name": "stdout",
     "output_type": "stream",
     "text": [
      "auc_roc 0.8572370857075183\n"
     ]
    }
   ],
   "source": [
    "#  измерим AUC-ROC\n",
    "auc_roc = roc_auc_score(target_test, probabilities_one_test)\n",
    "print('auc_roc', auc_roc)"
   ]
  },
  {
   "cell_type": "markdown",
   "metadata": {},
   "source": [
    "Также можно построить матрицу ошибок (confusion matrix) с помощью функции confusion_matrix и визуализировать ее с помощью библиотеки seaborn:\n",
    "\n"
   ]
  },
  {
   "cell_type": "markdown",
   "metadata": {},
   "source": [
    "Эти методы помогут оценить качество работы модели и понять, насколько она хорошо справляется с поставленной задачей."
   ]
  },
  {
   "cell_type": "markdown",
   "metadata": {},
   "source": [
    "Подбор гиперпараметров,\n",
    "\n",
    "с помощью цикла, просчитаем показатель f1 для различных значений гиперпараметров"
   ]
  },
  {
   "cell_type": "markdown",
   "metadata": {},
   "source": [
    "***Вывод***"
   ]
  },
  {
   "cell_type": "markdown",
   "metadata": {},
   "source": [
    "В ходе работы было проведено прогнозирование оттока клиентов банка на основе исторических данных о поведении клиентов. Для этого была построена модель с максимально возможным значением F1-меры, что позволяет достичь наилучших результатов при прогнозировании оттока.\n",
    "\n",
    "Для подготовки данных были скорректированы наименования полей, чтобы они были более понятными и информативными. Также были проанализированы выбросы и дубликаты в данных, чтобы исключить их влияние на модель. Были проработаны пропуски в данных, чтобы не потерять важную информацию.\n",
    "\n",
    "Одним из этапов подготовки данных было преобразование категориальных признаков в дамми переменные. Это позволяет учесть влияние каждой категории на целевую переменную отдельно, что может быть полезно при прогнозировании оттока клиентов.\n",
    "\n",
    "Для балансировки классов была использована техника upsampling, которая позволила увеличить показатель F1. \n",
    "\n",
    "Был проведен выбор лучшей модели для дальнейшего прогнозирования. Были проанализированы модели логистическая регресия, дерево решений и случайный лес.\n",
    "\n",
    "Таким образом, все необходимые шаги были выполнены для подготовки данных перед построением модели прогнозирования оттока клиентов банка.\n",
    "\n",
    "Построена ROC - кривая, AUC-ROC = 0.65"
   ]
  },
  {
   "cell_type": "markdown",
   "metadata": {},
   "source": [
    "## Чек-лист готовности проекта"
   ]
  },
  {
   "cell_type": "markdown",
   "metadata": {},
   "source": [
    "Поставьте 'x' в выполненных пунктах. Далее нажмите Shift+Enter."
   ]
  },
  {
   "cell_type": "markdown",
   "metadata": {},
   "source": [
    "- [x]  Jupyter Notebook открыт\n",
    "- [x]  Весь код выполняется без ошибок\n",
    "- [x]  Ячейки с кодом расположены в порядке исполнения\n",
    "- [x]  Выполнен шаг 1: данные подготовлены\n",
    "- [x]  Выполнен шаг 2: задача исследована\n",
    "    - [x]  Исследован баланс классов\n",
    "    - [x]  Изучены модели без учёта дисбаланса\n",
    "    - [x]  Написаны выводы по результатам исследования\n",
    "- [x]  Выполнен шаг 3: учтён дисбаланс\n",
    "    - [x]  Применено несколько способов борьбы с дисбалансом\n",
    "    - [x]  Написаны выводы по результатам исследования\n",
    "- [x]  Выполнен шаг 4: проведено тестирование\n",
    "- [x]  Удалось достичь *F1*-меры не менее 0.59\n",
    "- [x]  Исследована метрика *AUC-ROC*"
   ]
  },
  {
   "cell_type": "code",
   "execution_count": null,
   "metadata": {},
   "outputs": [],
   "source": []
  }
 ],
 "metadata": {
  "ExecuteTimeLog": [
   {
    "duration": 402,
    "start_time": "2023-06-24T19:22:54.812Z"
   },
   {
    "duration": 128,
    "start_time": "2023-06-24T19:24:23.127Z"
   },
   {
    "duration": 64,
    "start_time": "2023-06-24T19:24:44.923Z"
   },
   {
    "duration": 100,
    "start_time": "2023-06-24T19:25:02.384Z"
   },
   {
    "duration": 70,
    "start_time": "2023-06-24T19:26:11.868Z"
   },
   {
    "duration": 97,
    "start_time": "2023-06-24T19:26:32.168Z"
   },
   {
    "duration": 54,
    "start_time": "2023-06-24T19:27:03.615Z"
   },
   {
    "duration": 64,
    "start_time": "2023-06-24T19:27:25.353Z"
   },
   {
    "duration": 57,
    "start_time": "2023-06-24T19:27:44.344Z"
   },
   {
    "duration": 90,
    "start_time": "2023-06-24T19:28:31.838Z"
   },
   {
    "duration": 59,
    "start_time": "2023-06-24T19:28:43.850Z"
   },
   {
    "duration": 58,
    "start_time": "2023-06-24T19:28:59.174Z"
   },
   {
    "duration": 42,
    "start_time": "2023-06-24T19:29:09.037Z"
   },
   {
    "duration": 2534,
    "start_time": "2023-06-24T19:31:14.560Z"
   },
   {
    "duration": 89,
    "start_time": "2023-06-24T19:31:38.644Z"
   },
   {
    "duration": 84,
    "start_time": "2023-06-24T19:32:56.866Z"
   },
   {
    "duration": 18,
    "start_time": "2023-06-24T19:33:13.456Z"
   },
   {
    "duration": 93,
    "start_time": "2023-06-24T19:34:39.263Z"
   },
   {
    "duration": 13,
    "start_time": "2023-06-24T19:34:54.970Z"
   },
   {
    "duration": 2980,
    "start_time": "2023-06-24T19:35:38.293Z"
   },
   {
    "duration": 129,
    "start_time": "2023-06-24T19:36:02.111Z"
   },
   {
    "duration": 53,
    "start_time": "2023-06-24T19:36:23.856Z"
   },
   {
    "duration": 65,
    "start_time": "2023-06-24T19:36:33.864Z"
   },
   {
    "duration": 56,
    "start_time": "2023-06-24T19:36:45.133Z"
   },
   {
    "duration": 50,
    "start_time": "2023-06-24T19:36:55.533Z"
   },
   {
    "duration": 99,
    "start_time": "2023-06-24T19:39:36.158Z"
   },
   {
    "duration": 61,
    "start_time": "2023-06-24T19:39:48.752Z"
   },
   {
    "duration": 72,
    "start_time": "2023-06-24T19:40:22.487Z"
   },
   {
    "duration": 3,
    "start_time": "2023-06-24T19:40:56.479Z"
   },
   {
    "duration": 49,
    "start_time": "2023-06-24T19:41:00.534Z"
   },
   {
    "duration": 10,
    "start_time": "2023-06-24T19:50:10.787Z"
   },
   {
    "duration": 38,
    "start_time": "2023-06-24T19:51:56.929Z"
   },
   {
    "duration": 10,
    "start_time": "2023-06-24T19:52:13.450Z"
   },
   {
    "duration": 11,
    "start_time": "2023-06-24T19:53:45.838Z"
   },
   {
    "duration": 12,
    "start_time": "2023-06-24T19:54:05.297Z"
   },
   {
    "duration": 6,
    "start_time": "2023-06-24T19:54:17.548Z"
   },
   {
    "duration": 8,
    "start_time": "2023-06-24T19:54:46.467Z"
   },
   {
    "duration": 17,
    "start_time": "2023-06-24T19:54:53.696Z"
   },
   {
    "duration": 7,
    "start_time": "2023-06-24T19:55:02.155Z"
   },
   {
    "duration": 11,
    "start_time": "2023-06-24T19:55:24.999Z"
   },
   {
    "duration": 7,
    "start_time": "2023-06-24T19:55:35.459Z"
   },
   {
    "duration": 11,
    "start_time": "2023-06-24T19:55:54.149Z"
   },
   {
    "duration": 8,
    "start_time": "2023-06-24T19:56:00.855Z"
   },
   {
    "duration": 61,
    "start_time": "2023-06-26T19:21:05.412Z"
   },
   {
    "duration": 519,
    "start_time": "2023-06-26T19:21:11.156Z"
   },
   {
    "duration": 572,
    "start_time": "2023-06-26T19:21:17.957Z"
   },
   {
    "duration": 29,
    "start_time": "2023-06-26T19:21:19.531Z"
   },
   {
    "duration": 33,
    "start_time": "2023-06-26T19:21:22.156Z"
   },
   {
    "duration": 7,
    "start_time": "2023-06-26T19:21:23.009Z"
   },
   {
    "duration": 14,
    "start_time": "2023-06-26T19:21:26.218Z"
   },
   {
    "duration": 23,
    "start_time": "2023-06-26T19:21:27.351Z"
   },
   {
    "duration": 6,
    "start_time": "2023-06-26T19:22:18.849Z"
   },
   {
    "duration": 7,
    "start_time": "2023-06-26T19:22:49.320Z"
   },
   {
    "duration": 13,
    "start_time": "2023-06-26T19:39:47.425Z"
   },
   {
    "duration": 25,
    "start_time": "2023-06-26T19:40:07.920Z"
   },
   {
    "duration": 16,
    "start_time": "2023-06-26T20:03:31.926Z"
   },
   {
    "duration": 63,
    "start_time": "2023-06-26T20:04:08.401Z"
   },
   {
    "duration": 3305,
    "start_time": "2023-06-26T20:04:33.236Z"
   },
   {
    "duration": 265,
    "start_time": "2023-06-26T20:05:31.859Z"
   },
   {
    "duration": 400,
    "start_time": "2023-06-26T20:05:41.855Z"
   },
   {
    "duration": 373,
    "start_time": "2023-06-26T20:05:52.866Z"
   },
   {
    "duration": 336,
    "start_time": "2023-06-26T20:05:59.351Z"
   },
   {
    "duration": 234,
    "start_time": "2023-06-26T20:10:31.020Z"
   },
   {
    "duration": 191,
    "start_time": "2023-06-26T20:10:36.272Z"
   },
   {
    "duration": 285,
    "start_time": "2023-06-26T20:10:58.145Z"
   },
   {
    "duration": 252,
    "start_time": "2023-06-26T20:11:04.396Z"
   },
   {
    "duration": 317,
    "start_time": "2023-06-26T20:11:45.795Z"
   },
   {
    "duration": 201,
    "start_time": "2023-06-26T20:12:37.321Z"
   },
   {
    "duration": 239,
    "start_time": "2023-06-26T20:13:22.117Z"
   },
   {
    "duration": 323,
    "start_time": "2023-06-26T20:13:29.009Z"
   },
   {
    "duration": 1939,
    "start_time": "2023-06-26T20:13:34.015Z"
   },
   {
    "duration": 31,
    "start_time": "2023-06-26T20:14:54.720Z"
   },
   {
    "duration": 9,
    "start_time": "2023-06-26T20:15:27.254Z"
   },
   {
    "duration": 735,
    "start_time": "2023-06-26T20:16:11.811Z"
   },
   {
    "duration": 1497,
    "start_time": "2023-06-26T20:16:14.249Z"
   },
   {
    "duration": 13,
    "start_time": "2023-06-26T20:23:10.952Z"
   },
   {
    "duration": 11,
    "start_time": "2023-06-26T20:23:28.236Z"
   },
   {
    "duration": 1317,
    "start_time": "2023-06-28T19:00:06.960Z"
   },
   {
    "duration": 3,
    "start_time": "2023-06-28T19:00:22.693Z"
   },
   {
    "duration": 368,
    "start_time": "2023-06-28T19:00:23.264Z"
   },
   {
    "duration": 16,
    "start_time": "2023-06-28T19:00:23.993Z"
   },
   {
    "duration": 18,
    "start_time": "2023-06-28T19:00:24.749Z"
   },
   {
    "duration": 3,
    "start_time": "2023-06-28T19:00:25.590Z"
   },
   {
    "duration": 12,
    "start_time": "2023-06-28T19:00:26.292Z"
   },
   {
    "duration": 18,
    "start_time": "2023-06-28T19:00:27.001Z"
   },
   {
    "duration": 5,
    "start_time": "2023-06-28T19:00:27.897Z"
   },
   {
    "duration": 4,
    "start_time": "2023-06-28T19:00:28.515Z"
   },
   {
    "duration": 7,
    "start_time": "2023-06-28T19:00:29.107Z"
   },
   {
    "duration": 26,
    "start_time": "2023-06-28T19:00:29.766Z"
   },
   {
    "duration": 10,
    "start_time": "2023-06-28T19:00:30.394Z"
   },
   {
    "duration": 38,
    "start_time": "2023-06-28T19:00:31.102Z"
   },
   {
    "duration": 2193,
    "start_time": "2023-06-28T19:00:34.226Z"
   },
   {
    "duration": 207,
    "start_time": "2023-06-28T19:00:36.421Z"
   },
   {
    "duration": 169,
    "start_time": "2023-06-28T19:00:41.641Z"
   },
   {
    "duration": 131,
    "start_time": "2023-06-28T19:00:43.498Z"
   },
   {
    "duration": 128,
    "start_time": "2023-06-28T19:00:44.271Z"
   },
   {
    "duration": 1404,
    "start_time": "2023-06-28T19:00:46.066Z"
   },
   {
    "duration": 19,
    "start_time": "2023-06-28T19:00:49.797Z"
   },
   {
    "duration": 73,
    "start_time": "2023-06-28T19:00:54.144Z"
   },
   {
    "duration": 1122,
    "start_time": "2023-06-28T19:00:56.701Z"
   },
   {
    "duration": 10,
    "start_time": "2023-06-28T19:01:01.976Z"
   },
   {
    "duration": 51,
    "start_time": "2023-06-28T19:01:04.958Z"
   },
   {
    "duration": 1573,
    "start_time": "2023-06-28T19:02:32.313Z"
   },
   {
    "duration": 10,
    "start_time": "2023-06-28T19:04:51.445Z"
   },
   {
    "duration": 7,
    "start_time": "2023-06-28T19:05:07.226Z"
   },
   {
    "duration": 6,
    "start_time": "2023-06-28T19:09:34.855Z"
   },
   {
    "duration": 7,
    "start_time": "2023-06-28T19:12:31.897Z"
   },
   {
    "duration": 6,
    "start_time": "2023-06-28T19:15:05.496Z"
   },
   {
    "duration": 10,
    "start_time": "2023-06-28T19:16:36.149Z"
   },
   {
    "duration": 639,
    "start_time": "2023-06-28T19:16:50.231Z"
   },
   {
    "duration": 496,
    "start_time": "2023-06-28T19:18:18.904Z"
   },
   {
    "duration": 6,
    "start_time": "2023-06-28T19:18:20.503Z"
   },
   {
    "duration": 576,
    "start_time": "2023-06-28T19:18:29.794Z"
   },
   {
    "duration": 92,
    "start_time": "2023-06-28T19:19:54.644Z"
   },
   {
    "duration": 1521,
    "start_time": "2023-06-28T19:20:09.453Z"
   },
   {
    "duration": 301,
    "start_time": "2023-06-28T19:21:24.471Z"
   },
   {
    "duration": 246,
    "start_time": "2023-06-28T19:22:06.444Z"
   },
   {
    "duration": 138,
    "start_time": "2023-06-28T19:22:52.997Z"
   },
   {
    "duration": 578,
    "start_time": "2023-06-28T19:28:44.296Z"
   },
   {
    "duration": 720,
    "start_time": "2023-06-28T19:29:01.781Z"
   },
   {
    "duration": 121,
    "start_time": "2023-06-28T19:32:32.893Z"
   },
   {
    "duration": 118,
    "start_time": "2023-06-28T19:34:46.156Z"
   },
   {
    "duration": 69,
    "start_time": "2023-06-28T19:35:17.909Z"
   },
   {
    "duration": 62,
    "start_time": "2023-06-28T19:35:39.319Z"
   },
   {
    "duration": 73,
    "start_time": "2023-06-28T19:35:48.104Z"
   },
   {
    "duration": 133,
    "start_time": "2023-06-28T19:38:25.161Z"
   },
   {
    "duration": 13,
    "start_time": "2023-06-28T19:38:37.118Z"
   },
   {
    "duration": 243,
    "start_time": "2023-06-28T19:39:18.792Z"
   },
   {
    "duration": 1575,
    "start_time": "2023-06-28T19:44:34.393Z"
   },
   {
    "duration": 1125,
    "start_time": "2023-06-28T19:47:01.725Z"
   },
   {
    "duration": 11,
    "start_time": "2023-06-28T19:47:24.346Z"
   },
   {
    "duration": 13,
    "start_time": "2023-06-28T19:51:16.099Z"
   },
   {
    "duration": 499,
    "start_time": "2023-06-28T19:52:27.997Z"
   },
   {
    "duration": 114545,
    "start_time": "2023-06-28T19:53:20.504Z"
   },
   {
    "duration": 378,
    "start_time": "2023-06-28T19:55:37.897Z"
   },
   {
    "duration": 6,
    "start_time": "2023-06-28T19:56:00.362Z"
   },
   {
    "duration": 14,
    "start_time": "2023-06-28T19:57:07.047Z"
   },
   {
    "duration": 65541,
    "start_time": "2023-06-28T19:58:11.850Z"
   },
   {
    "duration": 344,
    "start_time": "2023-06-28T19:59:42.712Z"
   },
   {
    "duration": 4,
    "start_time": "2023-06-28T19:59:48.244Z"
   },
   {
    "duration": 4089,
    "start_time": "2023-06-28T20:00:36.813Z"
   },
   {
    "duration": 1514,
    "start_time": "2023-06-28T20:02:11.087Z"
   },
   {
    "duration": 2559,
    "start_time": "2023-06-28T20:02:25.722Z"
   },
   {
    "duration": 23342,
    "start_time": "2023-06-28T20:02:33.595Z"
   },
   {
    "duration": 148802,
    "start_time": "2023-06-28T20:03:17.672Z"
   },
   {
    "duration": 42285,
    "start_time": "2023-06-28T20:06:05.163Z"
   },
   {
    "duration": 63488,
    "start_time": "2023-06-28T20:09:28.573Z"
   },
   {
    "duration": 381,
    "start_time": "2023-06-28T20:11:25.865Z"
   },
   {
    "duration": 6,
    "start_time": "2023-06-28T20:11:34.608Z"
   },
   {
    "duration": 6,
    "start_time": "2023-06-28T20:12:18.336Z"
   },
   {
    "duration": 23,
    "start_time": "2023-06-28T20:12:37.760Z"
   },
   {
    "duration": 22,
    "start_time": "2023-06-28T20:12:44.149Z"
   },
   {
    "duration": 11,
    "start_time": "2023-06-28T20:12:48.652Z"
   },
   {
    "duration": 5,
    "start_time": "2023-06-28T20:12:59.420Z"
   },
   {
    "duration": 12,
    "start_time": "2023-06-28T20:13:04.610Z"
   },
   {
    "duration": 3,
    "start_time": "2023-06-28T20:13:18.467Z"
   },
   {
    "duration": 111,
    "start_time": "2023-06-28T20:13:25.928Z"
   },
   {
    "duration": 6,
    "start_time": "2023-06-28T20:13:31.461Z"
   },
   {
    "duration": 435,
    "start_time": "2023-06-28T20:55:02.765Z"
   },
   {
    "duration": 96,
    "start_time": "2023-06-28T20:55:03.203Z"
   },
   {
    "duration": 13,
    "start_time": "2023-06-28T20:55:03.300Z"
   },
   {
    "duration": 19,
    "start_time": "2023-06-28T20:55:03.315Z"
   },
   {
    "duration": 21,
    "start_time": "2023-06-28T20:55:03.335Z"
   },
   {
    "duration": 17,
    "start_time": "2023-06-28T20:55:03.357Z"
   },
   {
    "duration": 28,
    "start_time": "2023-06-28T20:55:03.376Z"
   },
   {
    "duration": 4,
    "start_time": "2023-06-28T20:55:03.406Z"
   },
   {
    "duration": 10,
    "start_time": "2023-06-28T20:55:03.411Z"
   },
   {
    "duration": 13,
    "start_time": "2023-06-28T20:55:03.424Z"
   },
   {
    "duration": 18,
    "start_time": "2023-06-28T20:55:03.438Z"
   },
   {
    "duration": 20,
    "start_time": "2023-06-28T20:55:03.475Z"
   },
   {
    "duration": 52,
    "start_time": "2023-06-28T20:55:03.496Z"
   },
   {
    "duration": 1943,
    "start_time": "2023-06-28T20:55:03.550Z"
   },
   {
    "duration": 198,
    "start_time": "2023-06-28T20:55:05.495Z"
   },
   {
    "duration": 148,
    "start_time": "2023-06-28T20:55:05.694Z"
   },
   {
    "duration": 146,
    "start_time": "2023-06-28T20:55:05.844Z"
   },
   {
    "duration": 143,
    "start_time": "2023-06-28T20:55:05.992Z"
   },
   {
    "duration": 1497,
    "start_time": "2023-06-28T20:55:06.137Z"
   },
   {
    "duration": 18,
    "start_time": "2023-06-28T20:55:07.636Z"
   },
   {
    "duration": 594,
    "start_time": "2023-06-28T20:55:07.656Z"
   },
   {
    "duration": 1183,
    "start_time": "2023-06-28T20:55:08.251Z"
   },
   {
    "duration": 9,
    "start_time": "2023-06-28T20:55:09.436Z"
   },
   {
    "duration": 3857,
    "start_time": "2023-06-28T20:55:09.446Z"
   },
   {
    "duration": 23,
    "start_time": "2023-06-28T20:55:13.306Z"
   },
   {
    "duration": 117,
    "start_time": "2023-07-07T21:19:23.323Z"
   },
   {
    "duration": 347,
    "start_time": "2023-07-07T21:20:25.374Z"
   },
   {
    "duration": 80,
    "start_time": "2023-07-07T21:20:27.515Z"
   },
   {
    "duration": 17,
    "start_time": "2023-07-07T21:20:29.664Z"
   },
   {
    "duration": 22,
    "start_time": "2023-07-07T21:20:32.168Z"
   },
   {
    "duration": 4,
    "start_time": "2023-07-07T21:20:33.338Z"
   },
   {
    "duration": 3,
    "start_time": "2023-07-07T21:20:37.617Z"
   },
   {
    "duration": 12,
    "start_time": "2023-07-07T21:20:38.448Z"
   },
   {
    "duration": 18,
    "start_time": "2023-07-07T21:20:39.444Z"
   },
   {
    "duration": 1312,
    "start_time": "2023-07-07T21:20:41.860Z"
   },
   {
    "duration": 39,
    "start_time": "2023-07-07T21:21:07.899Z"
   },
   {
    "duration": 12,
    "start_time": "2023-07-07T21:21:08.725Z"
   },
   {
    "duration": 11,
    "start_time": "2023-07-07T21:21:14.353Z"
   },
   {
    "duration": 3,
    "start_time": "2023-07-07T21:21:17.476Z"
   },
   {
    "duration": 3,
    "start_time": "2023-07-07T21:21:21.905Z"
   },
   {
    "duration": 15,
    "start_time": "2023-07-07T21:21:22.983Z"
   },
   {
    "duration": 17,
    "start_time": "2023-07-07T21:21:25.602Z"
   },
   {
    "duration": 5,
    "start_time": "2023-07-07T21:21:35.523Z"
   },
   {
    "duration": 7,
    "start_time": "2023-07-07T21:21:56.169Z"
   },
   {
    "duration": 19,
    "start_time": "2023-07-07T21:22:02.066Z"
   },
   {
    "duration": 9,
    "start_time": "2023-07-07T21:22:05.646Z"
   },
   {
    "duration": 37,
    "start_time": "2023-07-07T21:22:06.644Z"
   },
   {
    "duration": 4,
    "start_time": "2023-07-07T21:22:26.365Z"
   },
   {
    "duration": 13,
    "start_time": "2023-07-07T21:22:28.562Z"
   },
   {
    "duration": 11,
    "start_time": "2023-07-07T21:23:12.192Z"
   },
   {
    "duration": 5,
    "start_time": "2023-07-07T21:23:48.301Z"
   },
   {
    "duration": 16,
    "start_time": "2023-07-07T21:23:50.354Z"
   },
   {
    "duration": 907,
    "start_time": "2023-07-07T21:23:53.231Z"
   },
   {
    "duration": 908,
    "start_time": "2023-07-07T21:23:54.957Z"
   },
   {
    "duration": 1262,
    "start_time": "2023-07-07T21:24:54.790Z"
   },
   {
    "duration": 2824,
    "start_time": "2023-07-07T21:25:12.555Z"
   },
   {
    "duration": 8,
    "start_time": "2023-07-07T21:25:26.271Z"
   },
   {
    "duration": 10,
    "start_time": "2023-07-07T21:27:29.268Z"
   },
   {
    "duration": 4,
    "start_time": "2023-07-07T21:27:54.750Z"
   },
   {
    "duration": 12,
    "start_time": "2023-07-07T21:29:26.948Z"
   },
   {
    "duration": 12,
    "start_time": "2023-07-07T21:34:34.527Z"
   },
   {
    "duration": 10,
    "start_time": "2023-07-07T21:35:04.772Z"
   },
   {
    "duration": 2,
    "start_time": "2023-07-07T21:35:17.161Z"
   },
   {
    "duration": 5,
    "start_time": "2023-07-07T21:35:41.225Z"
   },
   {
    "duration": 9,
    "start_time": "2023-07-07T21:36:49.470Z"
   },
   {
    "duration": 285,
    "start_time": "2023-07-07T21:37:16.493Z"
   },
   {
    "duration": 6,
    "start_time": "2023-07-07T21:37:18.345Z"
   },
   {
    "duration": 6,
    "start_time": "2023-07-07T21:37:43.350Z"
   },
   {
    "duration": 5,
    "start_time": "2023-07-07T21:38:06.044Z"
   },
   {
    "duration": 4,
    "start_time": "2023-07-07T21:38:26.338Z"
   },
   {
    "duration": 7,
    "start_time": "2023-07-07T21:39:32.468Z"
   },
   {
    "duration": 377,
    "start_time": "2023-07-10T18:16:28.252Z"
   },
   {
    "duration": 87,
    "start_time": "2023-07-10T18:16:29.792Z"
   },
   {
    "duration": 13,
    "start_time": "2023-07-10T18:16:30.732Z"
   },
   {
    "duration": 17,
    "start_time": "2023-07-10T18:16:34.055Z"
   },
   {
    "duration": 4,
    "start_time": "2023-07-10T18:16:38.422Z"
   },
   {
    "duration": 3,
    "start_time": "2023-07-10T18:16:39.212Z"
   },
   {
    "duration": 11,
    "start_time": "2023-07-10T18:16:39.905Z"
   },
   {
    "duration": 19,
    "start_time": "2023-07-10T18:16:40.803Z"
   },
   {
    "duration": 4,
    "start_time": "2023-07-10T18:16:43.105Z"
   },
   {
    "duration": 4,
    "start_time": "2023-07-10T18:16:43.880Z"
   },
   {
    "duration": 8,
    "start_time": "2023-07-10T18:16:44.727Z"
   },
   {
    "duration": 17,
    "start_time": "2023-07-10T18:16:48.253Z"
   },
   {
    "duration": 9,
    "start_time": "2023-07-10T18:16:50.489Z"
   },
   {
    "duration": 43,
    "start_time": "2023-07-10T18:16:51.657Z"
   },
   {
    "duration": 1797,
    "start_time": "2023-07-10T18:17:00.917Z"
   },
   {
    "duration": 75,
    "start_time": "2023-07-10T18:17:07.535Z"
   },
   {
    "duration": 396,
    "start_time": "2023-07-10T18:17:30.032Z"
   },
   {
    "duration": 40,
    "start_time": "2023-07-10T18:17:31.824Z"
   },
   {
    "duration": 15,
    "start_time": "2023-07-10T18:17:32.480Z"
   },
   {
    "duration": 18,
    "start_time": "2023-07-10T18:17:36.779Z"
   },
   {
    "duration": 3,
    "start_time": "2023-07-10T18:17:37.498Z"
   },
   {
    "duration": 2,
    "start_time": "2023-07-10T18:17:38.180Z"
   },
   {
    "duration": 12,
    "start_time": "2023-07-10T18:17:38.830Z"
   },
   {
    "duration": 19,
    "start_time": "2023-07-10T18:17:39.658Z"
   },
   {
    "duration": 4,
    "start_time": "2023-07-10T18:17:46.544Z"
   },
   {
    "duration": 6,
    "start_time": "2023-07-10T18:17:47.556Z"
   },
   {
    "duration": 7,
    "start_time": "2023-07-10T18:17:48.275Z"
   },
   {
    "duration": 17,
    "start_time": "2023-07-10T18:17:51.620Z"
   },
   {
    "duration": 10,
    "start_time": "2023-07-10T18:17:54.196Z"
   },
   {
    "duration": 40,
    "start_time": "2023-07-10T18:17:54.898Z"
   },
   {
    "duration": 1772,
    "start_time": "2023-07-10T18:18:03.103Z"
   },
   {
    "duration": 70,
    "start_time": "2023-07-10T18:18:11.880Z"
   },
   {
    "duration": 207,
    "start_time": "2023-07-10T18:18:20.047Z"
   },
   {
    "duration": 12,
    "start_time": "2023-07-10T18:18:24.082Z"
   },
   {
    "duration": 127,
    "start_time": "2023-07-10T18:18:29.405Z"
   },
   {
    "duration": 128,
    "start_time": "2023-07-10T18:18:35.631Z"
   },
   {
    "duration": 124,
    "start_time": "2023-07-10T18:18:41.583Z"
   },
   {
    "duration": 1291,
    "start_time": "2023-07-10T18:22:37.264Z"
   },
   {
    "duration": 12,
    "start_time": "2023-07-10T18:22:38.578Z"
   },
   {
    "duration": 259,
    "start_time": "2023-07-10T18:22:45.327Z"
   },
   {
    "duration": 13,
    "start_time": "2023-07-10T18:22:49.203Z"
   },
   {
    "duration": 5,
    "start_time": "2023-07-10T18:22:52.237Z"
   },
   {
    "duration": 7,
    "start_time": "2023-07-10T18:22:53.125Z"
   },
   {
    "duration": 18,
    "start_time": "2023-07-10T18:22:54.594Z"
   },
   {
    "duration": 619,
    "start_time": "2023-07-10T18:23:28.384Z"
   },
   {
    "duration": 948,
    "start_time": "2023-07-10T18:23:29.499Z"
   },
   {
    "duration": 12,
    "start_time": "2023-07-10T18:23:34.769Z"
   },
   {
    "duration": 10,
    "start_time": "2023-07-10T18:23:43.945Z"
   },
   {
    "duration": 5,
    "start_time": "2023-07-10T18:23:45.141Z"
   },
   {
    "duration": 13,
    "start_time": "2023-07-10T18:23:48.545Z"
   },
   {
    "duration": 3,
    "start_time": "2023-07-10T18:23:52.699Z"
   },
   {
    "duration": 5,
    "start_time": "2023-07-10T18:23:53.625Z"
   },
   {
    "duration": 347,
    "start_time": "2023-07-10T18:24:01.217Z"
   },
   {
    "duration": 8,
    "start_time": "2023-07-10T18:24:03.809Z"
   },
   {
    "duration": 10,
    "start_time": "2023-07-10T18:24:04.543Z"
   },
   {
    "duration": 10,
    "start_time": "2023-07-10T18:24:05.229Z"
   },
   {
    "duration": 7,
    "start_time": "2023-07-10T18:24:25.847Z"
   },
   {
    "duration": 137,
    "start_time": "2023-07-10T18:24:43.086Z"
   },
   {
    "duration": 149,
    "start_time": "2023-07-10T18:24:56.103Z"
   },
   {
    "duration": 11,
    "start_time": "2023-07-10T18:25:55.800Z"
   },
   {
    "duration": 5,
    "start_time": "2023-07-10T18:26:09.753Z"
   },
   {
    "duration": 3,
    "start_time": "2023-07-10T18:26:54.113Z"
   },
   {
    "duration": 59,
    "start_time": "2023-07-10T18:27:06.629Z"
   },
   {
    "duration": 13,
    "start_time": "2023-07-10T18:27:37.030Z"
   },
   {
    "duration": 9,
    "start_time": "2023-07-10T18:28:01.058Z"
   },
   {
    "duration": 2,
    "start_time": "2023-07-10T18:28:24.289Z"
   },
   {
    "duration": 2,
    "start_time": "2023-07-10T18:43:17.010Z"
   },
   {
    "duration": 27,
    "start_time": "2023-07-10T18:44:04.846Z"
   },
   {
    "duration": 10,
    "start_time": "2023-07-10T18:44:22.666Z"
   },
   {
    "duration": 9,
    "start_time": "2023-07-10T18:45:31.258Z"
   },
   {
    "duration": 9,
    "start_time": "2023-07-10T18:46:08.804Z"
   },
   {
    "duration": 3,
    "start_time": "2023-07-10T18:46:15.708Z"
   },
   {
    "duration": 191,
    "start_time": "2023-07-10T18:49:49.451Z"
   },
   {
    "duration": 11,
    "start_time": "2023-07-10T18:50:04.392Z"
   },
   {
    "duration": 18,
    "start_time": "2023-07-10T18:50:20.214Z"
   },
   {
    "duration": 9,
    "start_time": "2023-07-10T18:50:50.908Z"
   },
   {
    "duration": 7,
    "start_time": "2023-07-10T18:51:01.265Z"
   },
   {
    "duration": 9,
    "start_time": "2023-07-10T18:51:17.621Z"
   },
   {
    "duration": 6,
    "start_time": "2023-07-10T18:52:08.688Z"
   },
   {
    "duration": 1425,
    "start_time": "2023-07-10T18:52:37.786Z"
   },
   {
    "duration": 3,
    "start_time": "2023-07-10T18:53:32.017Z"
   },
   {
    "duration": 43,
    "start_time": "2023-07-10T18:53:46.929Z"
   },
   {
    "duration": 5,
    "start_time": "2023-07-10T18:54:10.505Z"
   },
   {
    "duration": 5,
    "start_time": "2023-07-10T18:54:16.761Z"
   },
   {
    "duration": 7,
    "start_time": "2023-07-10T18:55:03.584Z"
   },
   {
    "duration": 98,
    "start_time": "2023-07-10T18:56:42.101Z"
   },
   {
    "duration": 3,
    "start_time": "2023-07-10T18:56:48.553Z"
   },
   {
    "duration": 17,
    "start_time": "2023-07-10T18:57:14.145Z"
   },
   {
    "duration": 10,
    "start_time": "2023-07-10T18:57:54.071Z"
   },
   {
    "duration": 7,
    "start_time": "2023-07-10T18:58:29.249Z"
   },
   {
    "duration": 5,
    "start_time": "2023-07-10T19:00:32.214Z"
   },
   {
    "duration": 6,
    "start_time": "2023-07-10T19:00:36.681Z"
   },
   {
    "duration": 5,
    "start_time": "2023-07-10T19:00:41.029Z"
   },
   {
    "duration": 55,
    "start_time": "2023-07-10T19:01:03.494Z"
   },
   {
    "duration": 5,
    "start_time": "2023-07-10T19:01:08.617Z"
   },
   {
    "duration": 6,
    "start_time": "2023-07-10T19:01:12.397Z"
   },
   {
    "duration": 7,
    "start_time": "2023-07-10T19:01:16.144Z"
   },
   {
    "duration": 10,
    "start_time": "2023-07-10T19:02:41.813Z"
   },
   {
    "duration": 3,
    "start_time": "2023-07-10T19:03:28.726Z"
   },
   {
    "duration": 11,
    "start_time": "2023-07-10T19:03:30.354Z"
   },
   {
    "duration": 6,
    "start_time": "2023-07-10T19:04:41.760Z"
   },
   {
    "duration": 4,
    "start_time": "2023-07-10T19:04:53.553Z"
   },
   {
    "duration": 121,
    "start_time": "2023-07-10T19:04:56.100Z"
   },
   {
    "duration": 6,
    "start_time": "2023-07-10T19:05:17.667Z"
   },
   {
    "duration": 5,
    "start_time": "2023-07-10T19:05:53.172Z"
   },
   {
    "duration": 92,
    "start_time": "2023-07-10T19:06:10.165Z"
   },
   {
    "duration": 17,
    "start_time": "2023-07-10T19:08:29.088Z"
   },
   {
    "duration": 12,
    "start_time": "2023-07-10T19:10:09.314Z"
   },
   {
    "duration": 12,
    "start_time": "2023-07-10T19:10:36.791Z"
   },
   {
    "duration": 83,
    "start_time": "2023-07-10T19:11:43.559Z"
   },
   {
    "duration": 100,
    "start_time": "2023-07-10T19:12:05.141Z"
   },
   {
    "duration": 95,
    "start_time": "2023-07-10T19:12:48.492Z"
   },
   {
    "duration": 95,
    "start_time": "2023-07-10T19:13:28.371Z"
   },
   {
    "duration": 9,
    "start_time": "2023-07-10T19:14:48.552Z"
   },
   {
    "duration": 29,
    "start_time": "2023-07-10T19:15:16.841Z"
   },
   {
    "duration": 24,
    "start_time": "2023-07-10T19:15:22.641Z"
   },
   {
    "duration": 228,
    "start_time": "2023-07-10T19:15:33.341Z"
   },
   {
    "duration": 107,
    "start_time": "2023-07-10T19:17:56.548Z"
   },
   {
    "duration": 16,
    "start_time": "2023-07-10T19:18:04.758Z"
   },
   {
    "duration": 115,
    "start_time": "2023-07-10T19:18:12.878Z"
   },
   {
    "duration": 11,
    "start_time": "2023-07-10T19:18:16.781Z"
   },
   {
    "duration": 14,
    "start_time": "2023-07-10T19:18:21.248Z"
   },
   {
    "duration": 87,
    "start_time": "2023-07-10T19:18:28.451Z"
   },
   {
    "duration": 56,
    "start_time": "2023-07-10T19:19:36.285Z"
   },
   {
    "duration": 44,
    "start_time": "2023-07-10T19:20:45.399Z"
   },
   {
    "duration": 12,
    "start_time": "2023-07-10T19:20:53.813Z"
   },
   {
    "duration": 60,
    "start_time": "2023-07-10T19:21:00.889Z"
   },
   {
    "duration": 12,
    "start_time": "2023-07-10T19:21:32.843Z"
   },
   {
    "duration": 12,
    "start_time": "2023-07-10T19:22:54.597Z"
   },
   {
    "duration": 13,
    "start_time": "2023-07-10T19:23:12.088Z"
   },
   {
    "duration": 12,
    "start_time": "2023-07-10T19:23:38.594Z"
   },
   {
    "duration": 12,
    "start_time": "2023-07-10T19:23:48.650Z"
   },
   {
    "duration": 5,
    "start_time": "2023-07-10T19:31:08.447Z"
   },
   {
    "duration": 13,
    "start_time": "2023-07-10T19:31:30.249Z"
   },
   {
    "duration": 130,
    "start_time": "2023-07-10T19:31:55.137Z"
   },
   {
    "duration": 1707,
    "start_time": "2023-07-10T19:32:40.453Z"
   },
   {
    "duration": 56,
    "start_time": "2023-07-10T19:33:00.746Z"
   },
   {
    "duration": 21,
    "start_time": "2023-07-10T19:33:02.818Z"
   },
   {
    "duration": 1995,
    "start_time": "2023-07-10T19:33:09.906Z"
   },
   {
    "duration": 152,
    "start_time": "2023-07-10T19:33:15.202Z"
   },
   {
    "duration": 13,
    "start_time": "2023-07-10T19:33:32.891Z"
   },
   {
    "duration": 1984,
    "start_time": "2023-07-10T19:33:45.169Z"
   },
   {
    "duration": 153,
    "start_time": "2023-07-10T19:33:59.895Z"
   },
   {
    "duration": 13,
    "start_time": "2023-07-10T19:34:07.255Z"
   },
   {
    "duration": 448,
    "start_time": "2023-07-10T19:36:34.645Z"
   },
   {
    "duration": 887,
    "start_time": "2023-07-10T19:36:35.095Z"
   },
   {
    "duration": 41,
    "start_time": "2023-07-10T19:36:35.984Z"
   },
   {
    "duration": 17,
    "start_time": "2023-07-10T19:36:36.027Z"
   },
   {
    "duration": 65,
    "start_time": "2023-07-10T19:36:36.046Z"
   },
   {
    "duration": 26,
    "start_time": "2023-07-10T19:36:36.113Z"
   },
   {
    "duration": 14,
    "start_time": "2023-07-10T19:36:36.145Z"
   },
   {
    "duration": 19,
    "start_time": "2023-07-10T19:36:36.160Z"
   },
   {
    "duration": 19,
    "start_time": "2023-07-10T19:36:36.181Z"
   },
   {
    "duration": 5,
    "start_time": "2023-07-10T19:36:36.203Z"
   },
   {
    "duration": 21,
    "start_time": "2023-07-10T19:36:36.209Z"
   },
   {
    "duration": 36,
    "start_time": "2023-07-10T19:36:36.232Z"
   },
   {
    "duration": 32,
    "start_time": "2023-07-10T19:36:36.270Z"
   },
   {
    "duration": 12,
    "start_time": "2023-07-10T19:36:36.303Z"
   },
   {
    "duration": 48,
    "start_time": "2023-07-10T19:36:36.316Z"
   },
   {
    "duration": 1808,
    "start_time": "2023-07-10T19:36:36.365Z"
   },
   {
    "duration": 188,
    "start_time": "2023-07-10T19:36:38.174Z"
   },
   {
    "duration": 153,
    "start_time": "2023-07-10T19:36:38.364Z"
   },
   {
    "duration": 151,
    "start_time": "2023-07-10T19:36:38.519Z"
   },
   {
    "duration": 178,
    "start_time": "2023-07-10T19:36:38.672Z"
   },
   {
    "duration": 247,
    "start_time": "2023-07-10T19:36:38.852Z"
   },
   {
    "duration": 14,
    "start_time": "2023-07-10T19:36:39.101Z"
   },
   {
    "duration": 20,
    "start_time": "2023-07-10T19:36:39.117Z"
   },
   {
    "duration": 21,
    "start_time": "2023-07-10T19:36:39.138Z"
   },
   {
    "duration": 16,
    "start_time": "2023-07-10T19:36:39.161Z"
   },
   {
    "duration": 67,
    "start_time": "2023-07-10T19:36:39.179Z"
   },
   {
    "duration": 907,
    "start_time": "2023-07-10T19:36:39.248Z"
   },
   {
    "duration": 122,
    "start_time": "2023-07-10T19:36:40.160Z"
   },
   {
    "duration": 10,
    "start_time": "2023-07-10T19:36:40.284Z"
   },
   {
    "duration": 6,
    "start_time": "2023-07-10T19:36:40.296Z"
   },
   {
    "duration": 30,
    "start_time": "2023-07-10T19:36:40.304Z"
   },
   {
    "duration": 6,
    "start_time": "2023-07-10T19:36:40.335Z"
   },
   {
    "duration": 14,
    "start_time": "2023-07-10T19:36:40.342Z"
   },
   {
    "duration": 4,
    "start_time": "2023-07-10T19:36:40.358Z"
   },
   {
    "duration": 19,
    "start_time": "2023-07-10T19:36:40.363Z"
   },
   {
    "duration": 26,
    "start_time": "2023-07-10T19:36:40.384Z"
   },
   {
    "duration": 10,
    "start_time": "2023-07-10T19:36:40.411Z"
   },
   {
    "duration": 26,
    "start_time": "2023-07-10T19:36:40.422Z"
   },
   {
    "duration": 155,
    "start_time": "2023-07-10T19:36:40.450Z"
   },
   {
    "duration": 11,
    "start_time": "2023-07-10T19:36:40.607Z"
   },
   {
    "duration": 17,
    "start_time": "2023-07-10T19:36:40.619Z"
   },
   {
    "duration": 14,
    "start_time": "2023-07-10T19:36:40.638Z"
   },
   {
    "duration": 13,
    "start_time": "2023-07-10T19:36:40.654Z"
   },
   {
    "duration": 25,
    "start_time": "2023-07-10T19:36:40.669Z"
   },
   {
    "duration": 9,
    "start_time": "2023-07-10T19:36:40.696Z"
   },
   {
    "duration": 24,
    "start_time": "2023-07-10T19:36:40.706Z"
   },
   {
    "duration": 21,
    "start_time": "2023-07-10T19:36:40.732Z"
   },
   {
    "duration": 5,
    "start_time": "2023-07-10T19:36:40.754Z"
   },
   {
    "duration": 296,
    "start_time": "2023-07-10T19:36:40.761Z"
   },
   {
    "duration": 33,
    "start_time": "2023-07-10T19:36:41.132Z"
   },
   {
    "duration": 120,
    "start_time": "2023-07-10T19:36:41.236Z"
   },
   {
    "duration": 197,
    "start_time": "2023-07-10T19:36:41.359Z"
   },
   {
    "duration": 3,
    "start_time": "2023-07-10T19:36:41.558Z"
   },
   {
    "duration": 34,
    "start_time": "2023-07-10T19:36:41.562Z"
   },
   {
    "duration": 5,
    "start_time": "2023-07-10T19:36:41.597Z"
   },
   {
    "duration": 8,
    "start_time": "2023-07-10T19:36:41.604Z"
   },
   {
    "duration": 5,
    "start_time": "2023-07-10T19:36:41.614Z"
   },
   {
    "duration": 28,
    "start_time": "2023-07-10T19:36:41.621Z"
   },
   {
    "duration": 16,
    "start_time": "2023-07-10T19:36:41.651Z"
   },
   {
    "duration": 114,
    "start_time": "2023-07-10T19:36:41.738Z"
   },
   {
    "duration": 46,
    "start_time": "2023-07-10T19:36:41.854Z"
   },
   {
    "duration": 5,
    "start_time": "2023-07-10T19:36:41.902Z"
   },
   {
    "duration": 5,
    "start_time": "2023-07-10T19:36:41.909Z"
   },
   {
    "duration": 25,
    "start_time": "2023-07-10T19:36:41.915Z"
   },
   {
    "duration": 5,
    "start_time": "2023-07-10T19:36:41.943Z"
   },
   {
    "duration": 13,
    "start_time": "2023-07-10T19:36:41.950Z"
   },
   {
    "duration": 6,
    "start_time": "2023-07-10T19:36:41.965Z"
   },
   {
    "duration": 123,
    "start_time": "2023-07-10T19:36:41.972Z"
   },
   {
    "duration": 6,
    "start_time": "2023-07-10T19:36:42.097Z"
   },
   {
    "duration": 166,
    "start_time": "2023-07-10T19:36:42.105Z"
   },
   {
    "duration": 0,
    "start_time": "2023-07-10T19:36:42.273Z"
   },
   {
    "duration": 0,
    "start_time": "2023-07-10T19:36:42.274Z"
   },
   {
    "duration": 0,
    "start_time": "2023-07-10T19:36:42.275Z"
   },
   {
    "duration": 0,
    "start_time": "2023-07-10T19:36:42.275Z"
   },
   {
    "duration": 0,
    "start_time": "2023-07-10T19:36:42.276Z"
   },
   {
    "duration": 0,
    "start_time": "2023-07-10T19:36:42.277Z"
   },
   {
    "duration": 0,
    "start_time": "2023-07-10T19:36:42.280Z"
   },
   {
    "duration": 0,
    "start_time": "2023-07-10T19:36:42.281Z"
   },
   {
    "duration": 0,
    "start_time": "2023-07-10T19:36:42.282Z"
   },
   {
    "duration": 0,
    "start_time": "2023-07-10T19:36:42.283Z"
   },
   {
    "duration": 0,
    "start_time": "2023-07-10T19:36:42.284Z"
   },
   {
    "duration": 0,
    "start_time": "2023-07-10T19:36:42.285Z"
   },
   {
    "duration": 0,
    "start_time": "2023-07-10T19:36:42.286Z"
   },
   {
    "duration": 0,
    "start_time": "2023-07-10T19:36:42.288Z"
   },
   {
    "duration": 0,
    "start_time": "2023-07-10T19:36:42.289Z"
   },
   {
    "duration": 50,
    "start_time": "2023-07-10T19:37:21.563Z"
   },
   {
    "duration": 6,
    "start_time": "2023-07-10T19:37:22.603Z"
   },
   {
    "duration": 452,
    "start_time": "2023-07-10T19:37:29.999Z"
   },
   {
    "duration": 755,
    "start_time": "2023-07-10T19:37:30.453Z"
   },
   {
    "duration": 52,
    "start_time": "2023-07-10T19:37:31.209Z"
   },
   {
    "duration": 13,
    "start_time": "2023-07-10T19:37:31.262Z"
   },
   {
    "duration": 45,
    "start_time": "2023-07-10T19:37:31.276Z"
   },
   {
    "duration": 44,
    "start_time": "2023-07-10T19:37:31.322Z"
   },
   {
    "duration": 31,
    "start_time": "2023-07-10T19:37:31.367Z"
   },
   {
    "duration": 56,
    "start_time": "2023-07-10T19:37:31.400Z"
   },
   {
    "duration": 54,
    "start_time": "2023-07-10T19:37:31.458Z"
   },
   {
    "duration": 42,
    "start_time": "2023-07-10T19:37:31.515Z"
   },
   {
    "duration": 51,
    "start_time": "2023-07-10T19:37:31.559Z"
   },
   {
    "duration": 40,
    "start_time": "2023-07-10T19:37:31.612Z"
   },
   {
    "duration": 64,
    "start_time": "2023-07-10T19:37:31.654Z"
   },
   {
    "duration": 38,
    "start_time": "2023-07-10T19:37:31.720Z"
   },
   {
    "duration": 62,
    "start_time": "2023-07-10T19:37:31.760Z"
   },
   {
    "duration": 1778,
    "start_time": "2023-07-10T19:37:31.824Z"
   },
   {
    "duration": 230,
    "start_time": "2023-07-10T19:37:33.604Z"
   },
   {
    "duration": 167,
    "start_time": "2023-07-10T19:37:33.837Z"
   },
   {
    "duration": 154,
    "start_time": "2023-07-10T19:37:34.005Z"
   },
   {
    "duration": 147,
    "start_time": "2023-07-10T19:37:34.161Z"
   },
   {
    "duration": 255,
    "start_time": "2023-07-10T19:37:34.310Z"
   },
   {
    "duration": 14,
    "start_time": "2023-07-10T19:37:34.567Z"
   },
   {
    "duration": 39,
    "start_time": "2023-07-10T19:37:34.582Z"
   },
   {
    "duration": 43,
    "start_time": "2023-07-10T19:37:34.623Z"
   },
   {
    "duration": 44,
    "start_time": "2023-07-10T19:37:34.670Z"
   },
   {
    "duration": 76,
    "start_time": "2023-07-10T19:37:34.716Z"
   },
   {
    "duration": 991,
    "start_time": "2023-07-10T19:37:34.794Z"
   },
   {
    "duration": 113,
    "start_time": "2023-07-10T19:37:35.789Z"
   },
   {
    "duration": 18,
    "start_time": "2023-07-10T19:37:35.903Z"
   },
   {
    "duration": 25,
    "start_time": "2023-07-10T19:37:35.922Z"
   },
   {
    "duration": 17,
    "start_time": "2023-07-10T19:37:35.948Z"
   },
   {
    "duration": 2,
    "start_time": "2023-07-10T19:37:35.967Z"
   },
   {
    "duration": 33,
    "start_time": "2023-07-10T19:37:35.971Z"
   },
   {
    "duration": 24,
    "start_time": "2023-07-10T19:37:36.005Z"
   },
   {
    "duration": 33,
    "start_time": "2023-07-10T19:37:36.031Z"
   },
   {
    "duration": 10,
    "start_time": "2023-07-10T19:37:36.065Z"
   },
   {
    "duration": 26,
    "start_time": "2023-07-10T19:37:36.076Z"
   },
   {
    "duration": 27,
    "start_time": "2023-07-10T19:37:36.104Z"
   },
   {
    "duration": 157,
    "start_time": "2023-07-10T19:37:36.133Z"
   },
   {
    "duration": 10,
    "start_time": "2023-07-10T19:37:36.292Z"
   },
   {
    "duration": 36,
    "start_time": "2023-07-10T19:37:36.303Z"
   },
   {
    "duration": 31,
    "start_time": "2023-07-10T19:37:36.340Z"
   },
   {
    "duration": 17,
    "start_time": "2023-07-10T19:37:36.372Z"
   },
   {
    "duration": 11,
    "start_time": "2023-07-10T19:37:36.390Z"
   },
   {
    "duration": 4,
    "start_time": "2023-07-10T19:37:36.402Z"
   },
   {
    "duration": 39,
    "start_time": "2023-07-10T19:37:36.408Z"
   },
   {
    "duration": 11,
    "start_time": "2023-07-10T19:37:36.448Z"
   },
   {
    "duration": 10,
    "start_time": "2023-07-10T19:37:36.461Z"
   },
   {
    "duration": 579,
    "start_time": "2023-07-10T19:37:36.472Z"
   },
   {
    "duration": 182,
    "start_time": "2023-07-10T19:37:37.055Z"
   },
   {
    "duration": 109,
    "start_time": "2023-07-10T19:37:37.242Z"
   },
   {
    "duration": 86,
    "start_time": "2023-07-10T19:37:37.358Z"
   },
   {
    "duration": 113,
    "start_time": "2023-07-10T19:37:37.448Z"
   },
   {
    "duration": 37,
    "start_time": "2023-07-10T19:37:37.563Z"
   },
   {
    "duration": 5,
    "start_time": "2023-07-10T19:37:37.602Z"
   },
   {
    "duration": 36,
    "start_time": "2023-07-10T19:37:37.608Z"
   },
   {
    "duration": 9,
    "start_time": "2023-07-10T19:37:37.646Z"
   },
   {
    "duration": 22,
    "start_time": "2023-07-10T19:37:37.657Z"
   },
   {
    "duration": 11,
    "start_time": "2023-07-10T19:37:37.681Z"
   },
   {
    "duration": 158,
    "start_time": "2023-07-10T19:37:37.733Z"
   },
   {
    "duration": 57,
    "start_time": "2023-07-10T19:37:37.893Z"
   },
   {
    "duration": 7,
    "start_time": "2023-07-10T19:37:37.952Z"
   },
   {
    "duration": 20,
    "start_time": "2023-07-10T19:37:37.960Z"
   },
   {
    "duration": 15,
    "start_time": "2023-07-10T19:37:37.982Z"
   },
   {
    "duration": 4,
    "start_time": "2023-07-10T19:37:37.999Z"
   },
   {
    "duration": 8,
    "start_time": "2023-07-10T19:37:38.004Z"
   },
   {
    "duration": 9,
    "start_time": "2023-07-10T19:37:38.013Z"
   },
   {
    "duration": 132,
    "start_time": "2023-07-10T19:37:38.023Z"
   },
   {
    "duration": 6,
    "start_time": "2023-07-10T19:37:38.157Z"
   },
   {
    "duration": 86,
    "start_time": "2023-07-10T19:37:38.165Z"
   },
   {
    "duration": 92,
    "start_time": "2023-07-10T19:37:38.253Z"
   },
   {
    "duration": 169,
    "start_time": "2023-07-10T19:37:38.346Z"
   },
   {
    "duration": 229,
    "start_time": "2023-07-10T19:37:38.536Z"
   },
   {
    "duration": 0,
    "start_time": "2023-07-10T19:37:38.767Z"
   },
   {
    "duration": 0,
    "start_time": "2023-07-10T19:37:38.768Z"
   },
   {
    "duration": 0,
    "start_time": "2023-07-10T19:37:38.769Z"
   },
   {
    "duration": 0,
    "start_time": "2023-07-10T19:37:38.770Z"
   },
   {
    "duration": 0,
    "start_time": "2023-07-10T19:37:38.771Z"
   },
   {
    "duration": 0,
    "start_time": "2023-07-10T19:37:38.772Z"
   },
   {
    "duration": 0,
    "start_time": "2023-07-10T19:37:38.773Z"
   },
   {
    "duration": 0,
    "start_time": "2023-07-10T19:37:38.774Z"
   },
   {
    "duration": 0,
    "start_time": "2023-07-10T19:37:38.775Z"
   },
   {
    "duration": 0,
    "start_time": "2023-07-10T19:37:38.776Z"
   },
   {
    "duration": 0,
    "start_time": "2023-07-10T19:37:38.777Z"
   },
   {
    "duration": 0,
    "start_time": "2023-07-10T19:37:38.778Z"
   },
   {
    "duration": 23,
    "start_time": "2023-07-10T19:38:51.198Z"
   },
   {
    "duration": 75,
    "start_time": "2023-07-10T19:40:30.159Z"
   },
   {
    "duration": 410,
    "start_time": "2023-07-10T19:40:36.580Z"
   },
   {
    "duration": 752,
    "start_time": "2023-07-10T19:40:36.992Z"
   },
   {
    "duration": 43,
    "start_time": "2023-07-10T19:40:37.746Z"
   },
   {
    "duration": 13,
    "start_time": "2023-07-10T19:40:37.790Z"
   },
   {
    "duration": 73,
    "start_time": "2023-07-10T19:40:37.805Z"
   },
   {
    "duration": 4,
    "start_time": "2023-07-10T19:40:37.880Z"
   },
   {
    "duration": 19,
    "start_time": "2023-07-10T19:40:37.885Z"
   },
   {
    "duration": 24,
    "start_time": "2023-07-10T19:40:37.906Z"
   },
   {
    "duration": 27,
    "start_time": "2023-07-10T19:40:37.933Z"
   },
   {
    "duration": 5,
    "start_time": "2023-07-10T19:40:37.962Z"
   },
   {
    "duration": 24,
    "start_time": "2023-07-10T19:40:37.969Z"
   },
   {
    "duration": 13,
    "start_time": "2023-07-10T19:40:37.995Z"
   },
   {
    "duration": 33,
    "start_time": "2023-07-10T19:40:38.010Z"
   },
   {
    "duration": 23,
    "start_time": "2023-07-10T19:40:38.046Z"
   },
   {
    "duration": 45,
    "start_time": "2023-07-10T19:40:38.070Z"
   },
   {
    "duration": 1715,
    "start_time": "2023-07-10T19:40:38.117Z"
   },
   {
    "duration": 179,
    "start_time": "2023-07-10T19:40:39.839Z"
   },
   {
    "duration": 161,
    "start_time": "2023-07-10T19:40:40.021Z"
   },
   {
    "duration": 153,
    "start_time": "2023-07-10T19:40:40.184Z"
   },
   {
    "duration": 140,
    "start_time": "2023-07-10T19:40:40.338Z"
   },
   {
    "duration": 267,
    "start_time": "2023-07-10T19:40:40.480Z"
   },
   {
    "duration": 13,
    "start_time": "2023-07-10T19:40:40.748Z"
   },
   {
    "duration": 10,
    "start_time": "2023-07-10T19:40:40.763Z"
   },
   {
    "duration": 10,
    "start_time": "2023-07-10T19:40:40.775Z"
   },
   {
    "duration": 21,
    "start_time": "2023-07-10T19:40:40.786Z"
   },
   {
    "duration": 64,
    "start_time": "2023-07-10T19:40:40.808Z"
   },
   {
    "duration": 903,
    "start_time": "2023-07-10T19:40:40.873Z"
   },
   {
    "duration": 10,
    "start_time": "2023-07-10T19:40:41.778Z"
   },
   {
    "duration": 134,
    "start_time": "2023-07-10T19:40:41.789Z"
   },
   {
    "duration": 4,
    "start_time": "2023-07-10T19:40:41.925Z"
   },
   {
    "duration": 21,
    "start_time": "2023-07-10T19:40:41.938Z"
   },
   {
    "duration": 2,
    "start_time": "2023-07-10T19:40:41.961Z"
   },
   {
    "duration": 7,
    "start_time": "2023-07-10T19:40:41.965Z"
   },
   {
    "duration": 9,
    "start_time": "2023-07-10T19:40:41.974Z"
   },
   {
    "duration": 10,
    "start_time": "2023-07-10T19:40:41.984Z"
   },
   {
    "duration": 5,
    "start_time": "2023-07-10T19:40:41.996Z"
   },
   {
    "duration": 7,
    "start_time": "2023-07-10T19:40:42.003Z"
   },
   {
    "duration": 10,
    "start_time": "2023-07-10T19:40:42.011Z"
   },
   {
    "duration": 150,
    "start_time": "2023-07-10T19:40:42.022Z"
   },
   {
    "duration": 11,
    "start_time": "2023-07-10T19:40:42.173Z"
   },
   {
    "duration": 9,
    "start_time": "2023-07-10T19:40:42.189Z"
   },
   {
    "duration": 30,
    "start_time": "2023-07-10T19:40:42.200Z"
   },
   {
    "duration": 32,
    "start_time": "2023-07-10T19:40:42.236Z"
   },
   {
    "duration": 11,
    "start_time": "2023-07-10T19:40:42.269Z"
   },
   {
    "duration": 4,
    "start_time": "2023-07-10T19:40:42.282Z"
   },
   {
    "duration": 24,
    "start_time": "2023-07-10T19:40:42.287Z"
   },
   {
    "duration": 10,
    "start_time": "2023-07-10T19:40:42.313Z"
   },
   {
    "duration": 27,
    "start_time": "2023-07-10T19:40:42.324Z"
   },
   {
    "duration": 198,
    "start_time": "2023-07-10T19:40:42.353Z"
   },
   {
    "duration": 98,
    "start_time": "2023-07-10T19:40:42.553Z"
   },
   {
    "duration": 201,
    "start_time": "2023-07-10T19:40:42.654Z"
   },
   {
    "duration": 89,
    "start_time": "2023-07-10T19:40:42.857Z"
   },
   {
    "duration": 106,
    "start_time": "2023-07-10T19:40:42.948Z"
   },
   {
    "duration": 32,
    "start_time": "2023-07-10T19:40:43.056Z"
   },
   {
    "duration": 5,
    "start_time": "2023-07-10T19:40:43.090Z"
   },
   {
    "duration": 22,
    "start_time": "2023-07-10T19:40:43.096Z"
   },
   {
    "duration": 35,
    "start_time": "2023-07-10T19:40:43.120Z"
   },
   {
    "duration": 57,
    "start_time": "2023-07-10T19:40:43.157Z"
   },
   {
    "duration": 24,
    "start_time": "2023-07-10T19:40:43.215Z"
   },
   {
    "duration": 195,
    "start_time": "2023-07-10T19:40:43.243Z"
   },
   {
    "duration": 69,
    "start_time": "2023-07-10T19:40:43.441Z"
   },
   {
    "duration": 6,
    "start_time": "2023-07-10T19:40:43.512Z"
   },
   {
    "duration": 37,
    "start_time": "2023-07-10T19:40:43.520Z"
   },
   {
    "duration": 47,
    "start_time": "2023-07-10T19:40:43.558Z"
   },
   {
    "duration": 13,
    "start_time": "2023-07-10T19:40:43.607Z"
   },
   {
    "duration": 47,
    "start_time": "2023-07-10T19:40:43.622Z"
   },
   {
    "duration": 36,
    "start_time": "2023-07-10T19:40:43.671Z"
   },
   {
    "duration": 156,
    "start_time": "2023-07-10T19:40:43.708Z"
   },
   {
    "duration": 5,
    "start_time": "2023-07-10T19:40:43.866Z"
   },
   {
    "duration": 159,
    "start_time": "2023-07-10T19:40:43.872Z"
   },
   {
    "duration": 16,
    "start_time": "2023-07-10T19:40:44.039Z"
   },
   {
    "duration": 96,
    "start_time": "2023-07-10T19:40:44.057Z"
   },
   {
    "duration": 227,
    "start_time": "2023-07-10T19:40:44.155Z"
   },
   {
    "duration": 146,
    "start_time": "2023-07-10T19:40:44.436Z"
   },
   {
    "duration": 0,
    "start_time": "2023-07-10T19:40:44.584Z"
   },
   {
    "duration": 0,
    "start_time": "2023-07-10T19:40:44.586Z"
   },
   {
    "duration": 0,
    "start_time": "2023-07-10T19:40:44.588Z"
   },
   {
    "duration": 0,
    "start_time": "2023-07-10T19:40:44.589Z"
   },
   {
    "duration": 0,
    "start_time": "2023-07-10T19:40:44.592Z"
   },
   {
    "duration": 0,
    "start_time": "2023-07-10T19:40:44.593Z"
   },
   {
    "duration": 0,
    "start_time": "2023-07-10T19:40:44.595Z"
   },
   {
    "duration": 0,
    "start_time": "2023-07-10T19:40:44.596Z"
   },
   {
    "duration": 0,
    "start_time": "2023-07-10T19:40:44.598Z"
   },
   {
    "duration": 0,
    "start_time": "2023-07-10T19:40:44.599Z"
   },
   {
    "duration": 0,
    "start_time": "2023-07-10T19:40:44.601Z"
   },
   {
    "duration": 439,
    "start_time": "2023-07-10T19:41:13.529Z"
   },
   {
    "duration": 991,
    "start_time": "2023-07-10T19:41:13.970Z"
   },
   {
    "duration": 41,
    "start_time": "2023-07-10T19:41:14.962Z"
   },
   {
    "duration": 15,
    "start_time": "2023-07-10T19:41:15.004Z"
   },
   {
    "duration": 60,
    "start_time": "2023-07-10T19:41:15.022Z"
   },
   {
    "duration": 11,
    "start_time": "2023-07-10T19:41:15.083Z"
   },
   {
    "duration": 18,
    "start_time": "2023-07-10T19:41:15.096Z"
   },
   {
    "duration": 48,
    "start_time": "2023-07-10T19:41:15.116Z"
   },
   {
    "duration": 35,
    "start_time": "2023-07-10T19:41:15.165Z"
   },
   {
    "duration": 37,
    "start_time": "2023-07-10T19:41:15.202Z"
   },
   {
    "duration": 15,
    "start_time": "2023-07-10T19:41:15.242Z"
   },
   {
    "duration": 19,
    "start_time": "2023-07-10T19:41:15.259Z"
   },
   {
    "duration": 35,
    "start_time": "2023-07-10T19:41:15.281Z"
   },
   {
    "duration": 15,
    "start_time": "2023-07-10T19:41:15.320Z"
   },
   {
    "duration": 51,
    "start_time": "2023-07-10T19:41:15.336Z"
   },
   {
    "duration": 1794,
    "start_time": "2023-07-10T19:41:15.388Z"
   },
   {
    "duration": 229,
    "start_time": "2023-07-10T19:41:17.185Z"
   },
   {
    "duration": 153,
    "start_time": "2023-07-10T19:41:17.416Z"
   },
   {
    "duration": 152,
    "start_time": "2023-07-10T19:41:17.571Z"
   },
   {
    "duration": 168,
    "start_time": "2023-07-10T19:41:17.724Z"
   },
   {
    "duration": 269,
    "start_time": "2023-07-10T19:41:17.894Z"
   },
   {
    "duration": 12,
    "start_time": "2023-07-10T19:41:18.165Z"
   },
   {
    "duration": 6,
    "start_time": "2023-07-10T19:41:18.180Z"
   },
   {
    "duration": 11,
    "start_time": "2023-07-10T19:41:18.188Z"
   },
   {
    "duration": 45,
    "start_time": "2023-07-10T19:41:18.201Z"
   },
   {
    "duration": 50,
    "start_time": "2023-07-10T19:41:18.248Z"
   },
   {
    "duration": 948,
    "start_time": "2023-07-10T19:41:18.300Z"
   },
   {
    "duration": 10,
    "start_time": "2023-07-10T19:41:19.250Z"
   },
   {
    "duration": 122,
    "start_time": "2023-07-10T19:41:19.262Z"
   },
   {
    "duration": 4,
    "start_time": "2023-07-10T19:41:19.385Z"
   },
   {
    "duration": 37,
    "start_time": "2023-07-10T19:41:19.391Z"
   },
   {
    "duration": 43,
    "start_time": "2023-07-10T19:41:19.430Z"
   },
   {
    "duration": 37,
    "start_time": "2023-07-10T19:41:19.475Z"
   },
   {
    "duration": 8,
    "start_time": "2023-07-10T19:41:19.514Z"
   },
   {
    "duration": 37,
    "start_time": "2023-07-10T19:41:19.524Z"
   },
   {
    "duration": 10,
    "start_time": "2023-07-10T19:41:19.563Z"
   },
   {
    "duration": 19,
    "start_time": "2023-07-10T19:41:19.574Z"
   },
   {
    "duration": 15,
    "start_time": "2023-07-10T19:41:19.594Z"
   },
   {
    "duration": 152,
    "start_time": "2023-07-10T19:41:19.611Z"
   },
   {
    "duration": 11,
    "start_time": "2023-07-10T19:41:19.764Z"
   },
   {
    "duration": 10,
    "start_time": "2023-07-10T19:41:19.778Z"
   },
   {
    "duration": 19,
    "start_time": "2023-07-10T19:41:19.789Z"
   },
   {
    "duration": 16,
    "start_time": "2023-07-10T19:41:19.809Z"
   },
   {
    "duration": 33,
    "start_time": "2023-07-10T19:41:19.827Z"
   },
   {
    "duration": 5,
    "start_time": "2023-07-10T19:41:19.861Z"
   },
   {
    "duration": 49,
    "start_time": "2023-07-10T19:41:19.867Z"
   },
   {
    "duration": 10,
    "start_time": "2023-07-10T19:41:19.917Z"
   },
   {
    "duration": 28,
    "start_time": "2023-07-10T19:41:19.928Z"
   },
   {
    "duration": 690,
    "start_time": "2023-07-10T19:41:19.958Z"
   },
   {
    "duration": 18,
    "start_time": "2023-07-10T19:41:20.733Z"
   },
   {
    "duration": 192,
    "start_time": "2023-07-10T19:41:20.757Z"
   },
   {
    "duration": 85,
    "start_time": "2023-07-10T19:41:20.952Z"
   },
   {
    "duration": 122,
    "start_time": "2023-07-10T19:41:21.039Z"
   },
   {
    "duration": 42,
    "start_time": "2023-07-10T19:41:21.163Z"
   },
   {
    "duration": 5,
    "start_time": "2023-07-10T19:41:21.206Z"
   },
   {
    "duration": 12,
    "start_time": "2023-07-10T19:41:21.213Z"
   },
   {
    "duration": 31,
    "start_time": "2023-07-10T19:41:21.226Z"
   },
   {
    "duration": 28,
    "start_time": "2023-07-10T19:41:21.259Z"
   },
   {
    "duration": 14,
    "start_time": "2023-07-10T19:41:21.288Z"
   },
   {
    "duration": 43,
    "start_time": "2023-07-10T19:41:21.304Z"
   },
   {
    "duration": 128,
    "start_time": "2023-07-10T19:41:21.348Z"
   },
   {
    "duration": 6,
    "start_time": "2023-07-10T19:41:21.478Z"
   },
   {
    "duration": 9,
    "start_time": "2023-07-10T19:41:21.486Z"
   },
   {
    "duration": 10,
    "start_time": "2023-07-10T19:41:21.497Z"
   },
   {
    "duration": 23,
    "start_time": "2023-07-10T19:41:21.509Z"
   },
   {
    "duration": 8,
    "start_time": "2023-07-10T19:41:21.537Z"
   },
   {
    "duration": 21,
    "start_time": "2023-07-10T19:41:21.546Z"
   },
   {
    "duration": 153,
    "start_time": "2023-07-10T19:41:21.569Z"
   },
   {
    "duration": 18,
    "start_time": "2023-07-10T19:41:21.724Z"
   },
   {
    "duration": 54,
    "start_time": "2023-07-10T19:41:21.744Z"
   },
   {
    "duration": 34,
    "start_time": "2023-07-10T19:41:21.800Z"
   },
   {
    "duration": 149,
    "start_time": "2023-07-10T19:41:21.836Z"
   },
   {
    "duration": 192,
    "start_time": "2023-07-10T19:41:22.044Z"
   },
   {
    "duration": 112,
    "start_time": "2023-07-10T19:41:22.237Z"
   },
   {
    "duration": 215,
    "start_time": "2023-07-10T19:41:22.356Z"
   },
   {
    "duration": 391,
    "start_time": "2023-07-10T19:41:22.575Z"
   },
   {
    "duration": 128,
    "start_time": "2023-07-10T19:41:22.967Z"
   },
   {
    "duration": 47,
    "start_time": "2023-07-10T19:41:23.097Z"
   },
   {
    "duration": 374,
    "start_time": "2023-07-10T19:41:23.146Z"
   },
   {
    "duration": 0,
    "start_time": "2023-07-10T19:41:23.521Z"
   },
   {
    "duration": 0,
    "start_time": "2023-07-10T19:41:23.523Z"
   },
   {
    "duration": 0,
    "start_time": "2023-07-10T19:41:23.533Z"
   },
   {
    "duration": 0,
    "start_time": "2023-07-10T19:41:23.536Z"
   },
   {
    "duration": 0,
    "start_time": "2023-07-10T19:41:23.539Z"
   },
   {
    "duration": 78,
    "start_time": "2023-07-10T19:42:57.354Z"
   },
   {
    "duration": 499,
    "start_time": "2023-07-10T19:43:03.627Z"
   },
   {
    "duration": 788,
    "start_time": "2023-07-10T19:43:04.128Z"
   },
   {
    "duration": 54,
    "start_time": "2023-07-10T19:43:04.918Z"
   },
   {
    "duration": 17,
    "start_time": "2023-07-10T19:43:04.975Z"
   },
   {
    "duration": 26,
    "start_time": "2023-07-10T19:43:04.994Z"
   },
   {
    "duration": 18,
    "start_time": "2023-07-10T19:43:05.022Z"
   },
   {
    "duration": 15,
    "start_time": "2023-07-10T19:43:05.043Z"
   },
   {
    "duration": 27,
    "start_time": "2023-07-10T19:43:05.060Z"
   },
   {
    "duration": 31,
    "start_time": "2023-07-10T19:43:05.089Z"
   },
   {
    "duration": 19,
    "start_time": "2023-07-10T19:43:05.124Z"
   },
   {
    "duration": 15,
    "start_time": "2023-07-10T19:43:05.144Z"
   },
   {
    "duration": 13,
    "start_time": "2023-07-10T19:43:05.161Z"
   },
   {
    "duration": 31,
    "start_time": "2023-07-10T19:43:05.176Z"
   },
   {
    "duration": 26,
    "start_time": "2023-07-10T19:43:05.209Z"
   },
   {
    "duration": 54,
    "start_time": "2023-07-10T19:43:05.237Z"
   },
   {
    "duration": 1671,
    "start_time": "2023-07-10T19:43:05.292Z"
   },
   {
    "duration": 187,
    "start_time": "2023-07-10T19:43:06.965Z"
   },
   {
    "duration": 148,
    "start_time": "2023-07-10T19:43:07.154Z"
   },
   {
    "duration": 143,
    "start_time": "2023-07-10T19:43:07.304Z"
   },
   {
    "duration": 133,
    "start_time": "2023-07-10T19:43:07.449Z"
   },
   {
    "duration": 277,
    "start_time": "2023-07-10T19:43:07.584Z"
   },
   {
    "duration": 13,
    "start_time": "2023-07-10T19:43:07.862Z"
   },
   {
    "duration": 20,
    "start_time": "2023-07-10T19:43:07.876Z"
   },
   {
    "duration": 9,
    "start_time": "2023-07-10T19:43:07.897Z"
   },
   {
    "duration": 23,
    "start_time": "2023-07-10T19:43:07.907Z"
   },
   {
    "duration": 54,
    "start_time": "2023-07-10T19:43:07.935Z"
   },
   {
    "duration": 934,
    "start_time": "2023-07-10T19:43:07.990Z"
   },
   {
    "duration": 115,
    "start_time": "2023-07-10T19:43:08.929Z"
   },
   {
    "duration": 12,
    "start_time": "2023-07-10T19:43:09.045Z"
   },
   {
    "duration": 10,
    "start_time": "2023-07-10T19:43:09.059Z"
   },
   {
    "duration": 21,
    "start_time": "2023-07-10T19:43:09.071Z"
   },
   {
    "duration": 16,
    "start_time": "2023-07-10T19:43:09.093Z"
   },
   {
    "duration": 37,
    "start_time": "2023-07-10T19:43:09.110Z"
   },
   {
    "duration": 8,
    "start_time": "2023-07-10T19:43:09.149Z"
   },
   {
    "duration": 9,
    "start_time": "2023-07-10T19:43:09.159Z"
   },
   {
    "duration": 43,
    "start_time": "2023-07-10T19:43:09.170Z"
   },
   {
    "duration": 4,
    "start_time": "2023-07-10T19:43:09.215Z"
   },
   {
    "duration": 10,
    "start_time": "2023-07-10T19:43:09.220Z"
   },
   {
    "duration": 148,
    "start_time": "2023-07-10T19:43:09.231Z"
   },
   {
    "duration": 10,
    "start_time": "2023-07-10T19:43:09.381Z"
   },
   {
    "duration": 5,
    "start_time": "2023-07-10T19:43:09.393Z"
   },
   {
    "duration": 7,
    "start_time": "2023-07-10T19:43:09.400Z"
   },
   {
    "duration": 6,
    "start_time": "2023-07-10T19:43:09.408Z"
   },
   {
    "duration": 30,
    "start_time": "2023-07-10T19:43:09.416Z"
   },
   {
    "duration": 3,
    "start_time": "2023-07-10T19:43:09.448Z"
   },
   {
    "duration": 30,
    "start_time": "2023-07-10T19:43:09.452Z"
   },
   {
    "duration": 13,
    "start_time": "2023-07-10T19:43:09.483Z"
   },
   {
    "duration": 7,
    "start_time": "2023-07-10T19:43:09.498Z"
   },
   {
    "duration": 340,
    "start_time": "2023-07-10T19:43:09.507Z"
   },
   {
    "duration": 183,
    "start_time": "2023-07-10T19:43:09.850Z"
   },
   {
    "duration": 105,
    "start_time": "2023-07-10T19:43:10.049Z"
   },
   {
    "duration": 85,
    "start_time": "2023-07-10T19:43:10.156Z"
   },
   {
    "duration": 111,
    "start_time": "2023-07-10T19:43:10.243Z"
   },
   {
    "duration": 44,
    "start_time": "2023-07-10T19:43:10.356Z"
   },
   {
    "duration": 8,
    "start_time": "2023-07-10T19:43:10.401Z"
   },
   {
    "duration": 11,
    "start_time": "2023-07-10T19:43:10.410Z"
   },
   {
    "duration": 30,
    "start_time": "2023-07-10T19:43:10.423Z"
   },
   {
    "duration": 23,
    "start_time": "2023-07-10T19:43:10.454Z"
   },
   {
    "duration": 5,
    "start_time": "2023-07-10T19:43:10.478Z"
   },
   {
    "duration": 153,
    "start_time": "2023-07-10T19:43:10.487Z"
   },
   {
    "duration": 51,
    "start_time": "2023-07-10T19:43:10.642Z"
   },
   {
    "duration": 6,
    "start_time": "2023-07-10T19:43:10.695Z"
   },
   {
    "duration": 6,
    "start_time": "2023-07-10T19:43:10.702Z"
   },
   {
    "duration": 43,
    "start_time": "2023-07-10T19:43:10.710Z"
   },
   {
    "duration": 11,
    "start_time": "2023-07-10T19:43:10.755Z"
   },
   {
    "duration": 23,
    "start_time": "2023-07-10T19:43:10.768Z"
   },
   {
    "duration": 9,
    "start_time": "2023-07-10T19:43:10.793Z"
   },
   {
    "duration": 121,
    "start_time": "2023-07-10T19:43:10.804Z"
   },
   {
    "duration": 16,
    "start_time": "2023-07-10T19:43:10.927Z"
   },
   {
    "duration": 42,
    "start_time": "2023-07-10T19:43:10.944Z"
   },
   {
    "duration": 54,
    "start_time": "2023-07-10T19:43:10.990Z"
   },
   {
    "duration": 185,
    "start_time": "2023-07-10T19:43:11.046Z"
   },
   {
    "duration": 152,
    "start_time": "2023-07-10T19:43:11.233Z"
   },
   {
    "duration": 36,
    "start_time": "2023-07-10T19:43:11.531Z"
   },
   {
    "duration": 125,
    "start_time": "2023-07-10T19:43:11.632Z"
   },
   {
    "duration": 400,
    "start_time": "2023-07-10T19:43:11.759Z"
   },
   {
    "duration": 127,
    "start_time": "2023-07-10T19:43:12.160Z"
   },
   {
    "duration": 46,
    "start_time": "2023-07-10T19:43:12.289Z"
   },
   {
    "duration": 201,
    "start_time": "2023-07-10T19:43:12.339Z"
   },
   {
    "duration": 92,
    "start_time": "2023-07-10T19:43:12.542Z"
   },
   {
    "duration": 136,
    "start_time": "2023-07-10T19:43:12.638Z"
   },
   {
    "duration": 66,
    "start_time": "2023-07-10T19:43:12.779Z"
   },
   {
    "duration": 11,
    "start_time": "2023-07-10T19:43:12.847Z"
   },
   {
    "duration": 2047,
    "start_time": "2023-07-10T19:43:12.860Z"
   },
   {
    "duration": 458,
    "start_time": "2023-07-10T21:22:32.856Z"
   },
   {
    "duration": 3213,
    "start_time": "2023-07-10T21:22:33.316Z"
   },
   {
    "duration": 184,
    "start_time": "2023-07-10T21:22:36.531Z"
   },
   {
    "duration": 15,
    "start_time": "2023-07-10T21:22:36.717Z"
   },
   {
    "duration": 20,
    "start_time": "2023-07-10T21:22:36.734Z"
   },
   {
    "duration": 4,
    "start_time": "2023-07-10T21:22:36.756Z"
   },
   {
    "duration": 11,
    "start_time": "2023-07-10T21:22:36.762Z"
   },
   {
    "duration": 19,
    "start_time": "2023-07-10T21:22:36.779Z"
   },
   {
    "duration": 18,
    "start_time": "2023-07-10T21:22:36.800Z"
   },
   {
    "duration": 16,
    "start_time": "2023-07-10T21:22:36.821Z"
   },
   {
    "duration": 6,
    "start_time": "2023-07-10T21:22:36.839Z"
   },
   {
    "duration": 33,
    "start_time": "2023-07-10T21:22:36.847Z"
   },
   {
    "duration": 19,
    "start_time": "2023-07-10T21:22:36.882Z"
   },
   {
    "duration": 11,
    "start_time": "2023-07-10T21:22:36.903Z"
   },
   {
    "duration": 62,
    "start_time": "2023-07-10T21:22:36.916Z"
   },
   {
    "duration": 2240,
    "start_time": "2023-07-10T21:22:36.980Z"
   },
   {
    "duration": 212,
    "start_time": "2023-07-10T21:22:39.222Z"
   },
   {
    "duration": 167,
    "start_time": "2023-07-10T21:22:39.436Z"
   },
   {
    "duration": 157,
    "start_time": "2023-07-10T21:22:39.605Z"
   },
   {
    "duration": 164,
    "start_time": "2023-07-10T21:22:39.766Z"
   },
   {
    "duration": 286,
    "start_time": "2023-07-10T21:22:39.931Z"
   },
   {
    "duration": 15,
    "start_time": "2023-07-10T21:22:40.219Z"
   },
   {
    "duration": 9,
    "start_time": "2023-07-10T21:22:40.236Z"
   },
   {
    "duration": 21,
    "start_time": "2023-07-10T21:22:40.247Z"
   },
   {
    "duration": 20,
    "start_time": "2023-07-10T21:22:40.269Z"
   },
   {
    "duration": 56,
    "start_time": "2023-07-10T21:22:40.290Z"
   },
   {
    "duration": 1149,
    "start_time": "2023-07-10T21:22:40.348Z"
   },
   {
    "duration": 10,
    "start_time": "2023-07-10T21:22:41.502Z"
   },
   {
    "duration": 12,
    "start_time": "2023-07-10T21:22:41.515Z"
   },
   {
    "duration": 5,
    "start_time": "2023-07-10T21:22:41.528Z"
   },
   {
    "duration": 16,
    "start_time": "2023-07-10T21:22:41.534Z"
   },
   {
    "duration": 3,
    "start_time": "2023-07-10T21:22:41.552Z"
   },
   {
    "duration": 6,
    "start_time": "2023-07-10T21:22:41.567Z"
   },
   {
    "duration": 4,
    "start_time": "2023-07-10T21:22:41.576Z"
   },
   {
    "duration": 8,
    "start_time": "2023-07-10T21:22:41.582Z"
   },
   {
    "duration": 11,
    "start_time": "2023-07-10T21:22:41.592Z"
   },
   {
    "duration": 6,
    "start_time": "2023-07-10T21:22:41.605Z"
   },
   {
    "duration": 11,
    "start_time": "2023-07-10T21:22:41.612Z"
   },
   {
    "duration": 183,
    "start_time": "2023-07-10T21:22:41.624Z"
   },
   {
    "duration": 13,
    "start_time": "2023-07-10T21:22:41.809Z"
   },
   {
    "duration": 10,
    "start_time": "2023-07-10T21:22:41.823Z"
   },
   {
    "duration": 6,
    "start_time": "2023-07-10T21:22:41.835Z"
   },
   {
    "duration": 4,
    "start_time": "2023-07-10T21:22:41.843Z"
   },
   {
    "duration": 10,
    "start_time": "2023-07-10T21:22:41.866Z"
   },
   {
    "duration": 13,
    "start_time": "2023-07-10T21:22:41.878Z"
   },
   {
    "duration": 34,
    "start_time": "2023-07-10T21:22:41.893Z"
   },
   {
    "duration": 5,
    "start_time": "2023-07-10T21:22:41.929Z"
   },
   {
    "duration": 4,
    "start_time": "2023-07-10T21:22:42.544Z"
   },
   {
    "duration": 389,
    "start_time": "2023-07-11T21:18:15.559Z"
   },
   {
    "duration": 794,
    "start_time": "2023-07-11T21:18:15.950Z"
   },
   {
    "duration": 368,
    "start_time": "2023-07-11T21:18:16.745Z"
   },
   {
    "duration": 13,
    "start_time": "2023-07-11T21:18:17.115Z"
   },
   {
    "duration": 38,
    "start_time": "2023-07-11T21:18:17.131Z"
   },
   {
    "duration": 4,
    "start_time": "2023-07-11T21:18:17.171Z"
   },
   {
    "duration": 16,
    "start_time": "2023-07-11T21:18:17.176Z"
   },
   {
    "duration": 15,
    "start_time": "2023-07-11T21:18:17.193Z"
   },
   {
    "duration": 34,
    "start_time": "2023-07-11T21:18:17.210Z"
   },
   {
    "duration": 5,
    "start_time": "2023-07-11T21:18:17.246Z"
   },
   {
    "duration": 18,
    "start_time": "2023-07-11T21:18:17.253Z"
   },
   {
    "duration": 16,
    "start_time": "2023-07-11T21:18:17.272Z"
   },
   {
    "duration": 29,
    "start_time": "2023-07-11T21:18:17.289Z"
   },
   {
    "duration": 14,
    "start_time": "2023-07-11T21:18:17.322Z"
   },
   {
    "duration": 40,
    "start_time": "2023-07-11T21:18:17.338Z"
   },
   {
    "duration": 2085,
    "start_time": "2023-07-11T21:18:17.380Z"
   },
   {
    "duration": 254,
    "start_time": "2023-07-11T21:18:19.467Z"
   },
   {
    "duration": 224,
    "start_time": "2023-07-11T21:18:19.723Z"
   },
   {
    "duration": 197,
    "start_time": "2023-07-11T21:18:19.950Z"
   },
   {
    "duration": 157,
    "start_time": "2023-07-11T21:18:20.149Z"
   },
   {
    "duration": 283,
    "start_time": "2023-07-11T21:18:20.308Z"
   },
   {
    "duration": 21,
    "start_time": "2023-07-11T21:18:20.593Z"
   },
   {
    "duration": 47,
    "start_time": "2023-07-11T21:18:20.616Z"
   },
   {
    "duration": 60,
    "start_time": "2023-07-11T21:18:20.665Z"
   },
   {
    "duration": 46,
    "start_time": "2023-07-11T21:18:20.727Z"
   },
   {
    "duration": 74,
    "start_time": "2023-07-11T21:18:20.775Z"
   },
   {
    "duration": 1147,
    "start_time": "2023-07-11T21:18:20.851Z"
   },
   {
    "duration": 18,
    "start_time": "2023-07-11T21:18:22.001Z"
   },
   {
    "duration": 11,
    "start_time": "2023-07-11T21:18:22.020Z"
   },
   {
    "duration": 6,
    "start_time": "2023-07-11T21:18:22.032Z"
   },
   {
    "duration": 20,
    "start_time": "2023-07-11T21:18:22.040Z"
   },
   {
    "duration": 3,
    "start_time": "2023-07-11T21:18:22.062Z"
   },
   {
    "duration": 8,
    "start_time": "2023-07-11T21:18:22.067Z"
   },
   {
    "duration": 36,
    "start_time": "2023-07-11T21:18:22.077Z"
   },
   {
    "duration": 7,
    "start_time": "2023-07-11T21:18:22.115Z"
   },
   {
    "duration": 6,
    "start_time": "2023-07-11T21:18:22.124Z"
   },
   {
    "duration": 29,
    "start_time": "2023-07-11T21:18:22.132Z"
   },
   {
    "duration": 33,
    "start_time": "2023-07-11T21:18:22.163Z"
   },
   {
    "duration": 157,
    "start_time": "2023-07-11T21:18:22.198Z"
   },
   {
    "duration": 12,
    "start_time": "2023-07-11T21:18:22.357Z"
   },
   {
    "duration": 4,
    "start_time": "2023-07-11T21:18:22.375Z"
   },
   {
    "duration": 13,
    "start_time": "2023-07-11T21:18:22.383Z"
   },
   {
    "duration": 16,
    "start_time": "2023-07-11T21:18:22.398Z"
   },
   {
    "duration": 23,
    "start_time": "2023-07-11T21:18:22.416Z"
   },
   {
    "duration": 6,
    "start_time": "2023-07-11T21:18:22.441Z"
   },
   {
    "duration": 37,
    "start_time": "2023-07-11T21:18:22.449Z"
   },
   {
    "duration": 12,
    "start_time": "2023-07-11T21:18:22.488Z"
   },
   {
    "duration": 4,
    "start_time": "2023-07-11T21:18:22.502Z"
   },
   {
    "duration": 111,
    "start_time": "2023-07-11T21:18:22.513Z"
   },
   {
    "duration": 190,
    "start_time": "2023-07-11T21:18:22.626Z"
   },
   {
    "duration": 164,
    "start_time": "2023-07-11T21:18:22.822Z"
   },
   {
    "duration": 25,
    "start_time": "2023-07-11T21:18:22.993Z"
   },
   {
    "duration": 124,
    "start_time": "2023-07-11T21:18:23.024Z"
   },
   {
    "duration": 60,
    "start_time": "2023-07-11T21:18:23.150Z"
   },
   {
    "duration": 6,
    "start_time": "2023-07-11T21:18:23.212Z"
   },
   {
    "duration": 19,
    "start_time": "2023-07-11T21:18:23.220Z"
   },
   {
    "duration": 6,
    "start_time": "2023-07-11T21:18:23.241Z"
   },
   {
    "duration": 25,
    "start_time": "2023-07-11T21:18:23.249Z"
   },
   {
    "duration": 6,
    "start_time": "2023-07-11T21:18:23.275Z"
   },
   {
    "duration": 8,
    "start_time": "2023-07-11T21:18:23.315Z"
   },
   {
    "duration": 133,
    "start_time": "2023-07-11T21:18:23.326Z"
   },
   {
    "duration": 5,
    "start_time": "2023-07-11T21:18:23.461Z"
   },
   {
    "duration": 6,
    "start_time": "2023-07-11T21:18:23.467Z"
   },
   {
    "duration": 39,
    "start_time": "2023-07-11T21:18:23.474Z"
   },
   {
    "duration": 72,
    "start_time": "2023-07-11T21:18:23.515Z"
   },
   {
    "duration": 8,
    "start_time": "2023-07-11T21:18:23.589Z"
   },
   {
    "duration": 5,
    "start_time": "2023-07-11T21:18:23.599Z"
   },
   {
    "duration": 150,
    "start_time": "2023-07-11T21:18:23.606Z"
   },
   {
    "duration": 7,
    "start_time": "2023-07-11T21:18:23.758Z"
   },
   {
    "duration": 59,
    "start_time": "2023-07-11T21:18:23.767Z"
   },
   {
    "duration": 92,
    "start_time": "2023-07-11T21:18:23.828Z"
   },
   {
    "duration": 192,
    "start_time": "2023-07-11T21:18:23.923Z"
   },
   {
    "duration": 156,
    "start_time": "2023-07-11T21:18:24.121Z"
   },
   {
    "duration": 114,
    "start_time": "2023-07-11T21:18:24.315Z"
   },
   {
    "duration": 191,
    "start_time": "2023-07-11T21:18:24.432Z"
   },
   {
    "duration": 419,
    "start_time": "2023-07-11T21:18:24.625Z"
   },
   {
    "duration": 151,
    "start_time": "2023-07-11T21:18:25.046Z"
   },
   {
    "duration": 21,
    "start_time": "2023-07-11T21:18:25.198Z"
   },
   {
    "duration": 294,
    "start_time": "2023-07-11T21:18:25.221Z"
   },
   {
    "duration": 4,
    "start_time": "2023-07-11T21:18:25.518Z"
   },
   {
    "duration": 195,
    "start_time": "2023-07-11T21:18:25.525Z"
   },
   {
    "duration": 56,
    "start_time": "2023-07-11T21:18:25.723Z"
   },
   {
    "duration": 44,
    "start_time": "2023-07-11T21:18:25.780Z"
   },
   {
    "duration": 2144,
    "start_time": "2023-07-11T21:18:25.826Z"
   },
   {
    "duration": 3,
    "start_time": "2023-07-11T21:19:06.526Z"
   },
   {
    "duration": 460,
    "start_time": "2023-07-11T21:19:12.542Z"
   },
   {
    "duration": 805,
    "start_time": "2023-07-11T21:19:13.005Z"
   },
   {
    "duration": 45,
    "start_time": "2023-07-11T21:19:13.811Z"
   },
   {
    "duration": 15,
    "start_time": "2023-07-11T21:19:13.859Z"
   },
   {
    "duration": 45,
    "start_time": "2023-07-11T21:19:13.876Z"
   },
   {
    "duration": 21,
    "start_time": "2023-07-11T21:19:13.923Z"
   },
   {
    "duration": 14,
    "start_time": "2023-07-11T21:19:13.946Z"
   },
   {
    "duration": 25,
    "start_time": "2023-07-11T21:19:13.962Z"
   },
   {
    "duration": 20,
    "start_time": "2023-07-11T21:19:13.989Z"
   },
   {
    "duration": 5,
    "start_time": "2023-07-11T21:19:14.011Z"
   },
   {
    "duration": 14,
    "start_time": "2023-07-11T21:19:14.018Z"
   },
   {
    "duration": 27,
    "start_time": "2023-07-11T21:19:14.034Z"
   },
   {
    "duration": 19,
    "start_time": "2023-07-11T21:19:14.063Z"
   },
   {
    "duration": 23,
    "start_time": "2023-07-11T21:19:14.083Z"
   },
   {
    "duration": 53,
    "start_time": "2023-07-11T21:19:14.108Z"
   },
   {
    "duration": 1841,
    "start_time": "2023-07-11T21:19:14.163Z"
   },
   {
    "duration": 209,
    "start_time": "2023-07-11T21:19:16.006Z"
   },
   {
    "duration": 162,
    "start_time": "2023-07-11T21:19:16.217Z"
   },
   {
    "duration": 150,
    "start_time": "2023-07-11T21:19:16.380Z"
   },
   {
    "duration": 159,
    "start_time": "2023-07-11T21:19:16.532Z"
   },
   {
    "duration": 292,
    "start_time": "2023-07-11T21:19:16.692Z"
   },
   {
    "duration": 13,
    "start_time": "2023-07-11T21:19:16.986Z"
   },
   {
    "duration": 5,
    "start_time": "2023-07-11T21:19:17.001Z"
   },
   {
    "duration": 6,
    "start_time": "2023-07-11T21:19:17.013Z"
   },
   {
    "duration": 23,
    "start_time": "2023-07-11T21:19:17.020Z"
   },
   {
    "duration": 88,
    "start_time": "2023-07-11T21:19:17.044Z"
   },
   {
    "duration": 935,
    "start_time": "2023-07-11T21:19:17.134Z"
   },
   {
    "duration": 119,
    "start_time": "2023-07-11T21:19:18.073Z"
   },
   {
    "duration": 30,
    "start_time": "2023-07-11T21:19:18.196Z"
   },
   {
    "duration": 5,
    "start_time": "2023-07-11T21:19:18.228Z"
   },
   {
    "duration": 21,
    "start_time": "2023-07-11T21:19:18.235Z"
   },
   {
    "duration": 11,
    "start_time": "2023-07-11T21:19:18.257Z"
   },
   {
    "duration": 16,
    "start_time": "2023-07-11T21:19:18.270Z"
   },
   {
    "duration": 7,
    "start_time": "2023-07-11T21:19:18.288Z"
   },
   {
    "duration": 20,
    "start_time": "2023-07-11T21:19:18.296Z"
   },
   {
    "duration": 5,
    "start_time": "2023-07-11T21:19:18.318Z"
   },
   {
    "duration": 5,
    "start_time": "2023-07-11T21:19:18.325Z"
   },
   {
    "duration": 9,
    "start_time": "2023-07-11T21:19:18.332Z"
   },
   {
    "duration": 186,
    "start_time": "2023-07-11T21:19:18.343Z"
   },
   {
    "duration": 12,
    "start_time": "2023-07-11T21:19:18.531Z"
   },
   {
    "duration": 6,
    "start_time": "2023-07-11T21:19:18.545Z"
   },
   {
    "duration": 5,
    "start_time": "2023-07-11T21:19:18.553Z"
   },
   {
    "duration": 12,
    "start_time": "2023-07-11T21:19:18.559Z"
   },
   {
    "duration": 21,
    "start_time": "2023-07-11T21:19:18.573Z"
   },
   {
    "duration": 5,
    "start_time": "2023-07-11T21:19:18.595Z"
   },
   {
    "duration": 29,
    "start_time": "2023-07-11T21:19:18.613Z"
   },
   {
    "duration": 12,
    "start_time": "2023-07-11T21:19:18.644Z"
   },
   {
    "duration": 13,
    "start_time": "2023-07-11T21:19:18.658Z"
   },
   {
    "duration": 451,
    "start_time": "2023-07-11T21:19:18.673Z"
   },
   {
    "duration": 194,
    "start_time": "2023-07-11T21:19:19.125Z"
   },
   {
    "duration": 94,
    "start_time": "2023-07-11T21:19:19.322Z"
   },
   {
    "duration": 101,
    "start_time": "2023-07-11T21:19:19.418Z"
   },
   {
    "duration": 2,
    "start_time": "2023-07-11T21:19:19.522Z"
   },
   {
    "duration": 148,
    "start_time": "2023-07-11T21:19:19.526Z"
   },
   {
    "duration": 8,
    "start_time": "2023-07-11T21:19:19.676Z"
   },
   {
    "duration": 8,
    "start_time": "2023-07-11T21:19:19.686Z"
   },
   {
    "duration": 4,
    "start_time": "2023-07-11T21:19:19.696Z"
   },
   {
    "duration": 28,
    "start_time": "2023-07-11T21:19:19.714Z"
   },
   {
    "duration": 69,
    "start_time": "2023-07-11T21:19:19.745Z"
   },
   {
    "duration": 9,
    "start_time": "2023-07-11T21:19:19.816Z"
   },
   {
    "duration": 136,
    "start_time": "2023-07-11T21:19:19.827Z"
   },
   {
    "duration": 6,
    "start_time": "2023-07-11T21:19:19.966Z"
   },
   {
    "duration": 6,
    "start_time": "2023-07-11T21:19:19.974Z"
   },
   {
    "duration": 35,
    "start_time": "2023-07-11T21:19:19.982Z"
   },
   {
    "duration": 7,
    "start_time": "2023-07-11T21:19:20.019Z"
   },
   {
    "duration": 18,
    "start_time": "2023-07-11T21:19:20.028Z"
   },
   {
    "duration": 53,
    "start_time": "2023-07-11T21:19:20.048Z"
   },
   {
    "duration": 147,
    "start_time": "2023-07-11T21:19:20.102Z"
   },
   {
    "duration": 6,
    "start_time": "2023-07-11T21:19:20.251Z"
   },
   {
    "duration": 58,
    "start_time": "2023-07-11T21:19:20.258Z"
   },
   {
    "duration": 96,
    "start_time": "2023-07-11T21:19:20.318Z"
   },
   {
    "duration": 206,
    "start_time": "2023-07-11T21:19:20.416Z"
   },
   {
    "duration": 196,
    "start_time": "2023-07-11T21:19:20.624Z"
   },
   {
    "duration": 200,
    "start_time": "2023-07-11T21:19:20.822Z"
   },
   {
    "duration": 199,
    "start_time": "2023-07-11T21:19:21.023Z"
   },
   {
    "duration": 418,
    "start_time": "2023-07-11T21:19:21.224Z"
   },
   {
    "duration": 131,
    "start_time": "2023-07-11T21:19:21.644Z"
   },
   {
    "duration": 41,
    "start_time": "2023-07-11T21:19:21.777Z"
   },
   {
    "duration": 195,
    "start_time": "2023-07-11T21:19:21.820Z"
   },
   {
    "duration": 6,
    "start_time": "2023-07-11T21:19:22.017Z"
   },
   {
    "duration": 207,
    "start_time": "2023-07-11T21:19:22.029Z"
   },
   {
    "duration": 76,
    "start_time": "2023-07-11T21:19:22.241Z"
   },
   {
    "duration": 13,
    "start_time": "2023-07-11T21:19:22.318Z"
   },
   {
    "duration": 2097,
    "start_time": "2023-07-11T21:19:22.333Z"
   },
   {
    "duration": 7,
    "start_time": "2023-07-11T21:20:18.816Z"
   },
   {
    "duration": 6,
    "start_time": "2023-07-11T21:20:35.308Z"
   },
   {
    "duration": 122,
    "start_time": "2023-07-11T21:21:46.490Z"
   },
   {
    "duration": 14,
    "start_time": "2023-07-11T21:22:04.179Z"
   },
   {
    "duration": 137,
    "start_time": "2023-07-11T21:22:34.238Z"
   },
   {
    "duration": 421,
    "start_time": "2023-07-11T21:23:36.152Z"
   },
   {
    "duration": 810,
    "start_time": "2023-07-11T21:23:36.575Z"
   },
   {
    "duration": 43,
    "start_time": "2023-07-11T21:23:37.386Z"
   },
   {
    "duration": 14,
    "start_time": "2023-07-11T21:23:37.431Z"
   },
   {
    "duration": 21,
    "start_time": "2023-07-11T21:23:37.449Z"
   },
   {
    "duration": 5,
    "start_time": "2023-07-11T21:23:37.472Z"
   },
   {
    "duration": 34,
    "start_time": "2023-07-11T21:23:37.479Z"
   },
   {
    "duration": 20,
    "start_time": "2023-07-11T21:23:37.515Z"
   },
   {
    "duration": 19,
    "start_time": "2023-07-11T21:23:37.538Z"
   },
   {
    "duration": 5,
    "start_time": "2023-07-11T21:23:37.558Z"
   },
   {
    "duration": 9,
    "start_time": "2023-07-11T21:23:37.565Z"
   },
   {
    "duration": 43,
    "start_time": "2023-07-11T21:23:37.576Z"
   },
   {
    "duration": 32,
    "start_time": "2023-07-11T21:23:37.622Z"
   },
   {
    "duration": 11,
    "start_time": "2023-07-11T21:23:37.656Z"
   },
   {
    "duration": 64,
    "start_time": "2023-07-11T21:23:37.669Z"
   },
   {
    "duration": 1938,
    "start_time": "2023-07-11T21:23:37.735Z"
   },
   {
    "duration": 277,
    "start_time": "2023-07-11T21:23:39.675Z"
   },
   {
    "duration": 170,
    "start_time": "2023-07-11T21:23:39.954Z"
   },
   {
    "duration": 157,
    "start_time": "2023-07-11T21:23:40.126Z"
   },
   {
    "duration": 164,
    "start_time": "2023-07-11T21:23:40.285Z"
   },
   {
    "duration": 284,
    "start_time": "2023-07-11T21:23:40.451Z"
   },
   {
    "duration": 15,
    "start_time": "2023-07-11T21:23:40.737Z"
   },
   {
    "duration": 28,
    "start_time": "2023-07-11T21:23:40.754Z"
   },
   {
    "duration": 27,
    "start_time": "2023-07-11T21:23:40.784Z"
   },
   {
    "duration": 48,
    "start_time": "2023-07-11T21:23:40.812Z"
   },
   {
    "duration": 63,
    "start_time": "2023-07-11T21:23:40.862Z"
   },
   {
    "duration": 927,
    "start_time": "2023-07-11T21:23:40.929Z"
   },
   {
    "duration": 10,
    "start_time": "2023-07-11T21:23:41.860Z"
   },
   {
    "duration": 141,
    "start_time": "2023-07-11T21:23:41.872Z"
   },
   {
    "duration": 4,
    "start_time": "2023-07-11T21:23:42.015Z"
   },
   {
    "duration": 35,
    "start_time": "2023-07-11T21:23:42.021Z"
   },
   {
    "duration": 22,
    "start_time": "2023-07-11T21:23:42.057Z"
   },
   {
    "duration": 26,
    "start_time": "2023-07-11T21:23:42.081Z"
   },
   {
    "duration": 13,
    "start_time": "2023-07-11T21:23:42.109Z"
   },
   {
    "duration": 30,
    "start_time": "2023-07-11T21:23:42.123Z"
   },
   {
    "duration": 24,
    "start_time": "2023-07-11T21:23:42.155Z"
   },
   {
    "duration": 10,
    "start_time": "2023-07-11T21:23:42.181Z"
   },
   {
    "duration": 31,
    "start_time": "2023-07-11T21:23:42.193Z"
   },
   {
    "duration": 169,
    "start_time": "2023-07-11T21:23:42.226Z"
   },
   {
    "duration": 21,
    "start_time": "2023-07-11T21:23:42.397Z"
   },
   {
    "duration": 5,
    "start_time": "2023-07-11T21:23:42.420Z"
   },
   {
    "duration": 8,
    "start_time": "2023-07-11T21:23:42.427Z"
   },
   {
    "duration": 14,
    "start_time": "2023-07-11T21:23:42.437Z"
   },
   {
    "duration": 15,
    "start_time": "2023-07-11T21:23:42.453Z"
   },
   {
    "duration": 17,
    "start_time": "2023-07-11T21:23:42.471Z"
   },
   {
    "duration": 42,
    "start_time": "2023-07-11T21:23:42.490Z"
   },
   {
    "duration": 22,
    "start_time": "2023-07-11T21:23:42.534Z"
   },
   {
    "duration": 27,
    "start_time": "2023-07-11T21:23:42.558Z"
   },
   {
    "duration": 133,
    "start_time": "2023-07-11T21:23:42.586Z"
   },
   {
    "duration": 100,
    "start_time": "2023-07-11T21:23:42.721Z"
   },
   {
    "duration": 100,
    "start_time": "2023-07-11T21:23:42.914Z"
   },
   {
    "duration": 193,
    "start_time": "2023-07-11T21:23:43.021Z"
   },
   {
    "duration": 3,
    "start_time": "2023-07-11T21:23:43.216Z"
   },
   {
    "duration": 37,
    "start_time": "2023-07-11T21:23:43.220Z"
   },
   {
    "duration": 5,
    "start_time": "2023-07-11T21:23:43.259Z"
   },
   {
    "duration": 8,
    "start_time": "2023-07-11T21:23:43.266Z"
   },
   {
    "duration": 3,
    "start_time": "2023-07-11T21:23:43.276Z"
   },
   {
    "duration": 43,
    "start_time": "2023-07-11T21:23:43.280Z"
   },
   {
    "duration": 5,
    "start_time": "2023-07-11T21:23:43.325Z"
   },
   {
    "duration": 84,
    "start_time": "2023-07-11T21:23:43.332Z"
   },
   {
    "duration": 137,
    "start_time": "2023-07-11T21:23:43.419Z"
   },
   {
    "duration": 6,
    "start_time": "2023-07-11T21:23:43.558Z"
   },
   {
    "duration": 5,
    "start_time": "2023-07-11T21:23:43.566Z"
   },
   {
    "duration": 5,
    "start_time": "2023-07-11T21:23:43.573Z"
   },
   {
    "duration": 151,
    "start_time": "2023-07-11T21:23:43.580Z"
   },
   {
    "duration": 0,
    "start_time": "2023-07-11T21:23:43.733Z"
   },
   {
    "duration": 0,
    "start_time": "2023-07-11T21:23:43.735Z"
   },
   {
    "duration": 0,
    "start_time": "2023-07-11T21:23:43.736Z"
   },
   {
    "duration": 0,
    "start_time": "2023-07-11T21:23:43.737Z"
   },
   {
    "duration": 0,
    "start_time": "2023-07-11T21:23:43.738Z"
   },
   {
    "duration": 0,
    "start_time": "2023-07-11T21:23:43.740Z"
   },
   {
    "duration": 0,
    "start_time": "2023-07-11T21:23:43.740Z"
   },
   {
    "duration": 0,
    "start_time": "2023-07-11T21:23:43.742Z"
   },
   {
    "duration": 0,
    "start_time": "2023-07-11T21:23:43.744Z"
   },
   {
    "duration": 0,
    "start_time": "2023-07-11T21:23:43.745Z"
   },
   {
    "duration": 0,
    "start_time": "2023-07-11T21:23:43.747Z"
   },
   {
    "duration": 0,
    "start_time": "2023-07-11T21:23:43.748Z"
   },
   {
    "duration": 0,
    "start_time": "2023-07-11T21:23:43.750Z"
   },
   {
    "duration": 0,
    "start_time": "2023-07-11T21:23:43.751Z"
   },
   {
    "duration": 0,
    "start_time": "2023-07-11T21:23:43.753Z"
   },
   {
    "duration": 0,
    "start_time": "2023-07-11T21:23:43.757Z"
   },
   {
    "duration": 531,
    "start_time": "2023-07-11T21:25:33.703Z"
   },
   {
    "duration": 800,
    "start_time": "2023-07-11T21:25:34.236Z"
   },
   {
    "duration": 47,
    "start_time": "2023-07-11T21:25:35.038Z"
   },
   {
    "duration": 13,
    "start_time": "2023-07-11T21:25:35.088Z"
   },
   {
    "duration": 28,
    "start_time": "2023-07-11T21:25:35.103Z"
   },
   {
    "duration": 5,
    "start_time": "2023-07-11T21:25:35.133Z"
   },
   {
    "duration": 24,
    "start_time": "2023-07-11T21:25:35.140Z"
   },
   {
    "duration": 24,
    "start_time": "2023-07-11T21:25:35.167Z"
   },
   {
    "duration": 32,
    "start_time": "2023-07-11T21:25:35.193Z"
   },
   {
    "duration": 5,
    "start_time": "2023-07-11T21:25:35.229Z"
   },
   {
    "duration": 24,
    "start_time": "2023-07-11T21:25:35.236Z"
   },
   {
    "duration": 15,
    "start_time": "2023-07-11T21:25:35.263Z"
   },
   {
    "duration": 43,
    "start_time": "2023-07-11T21:25:35.280Z"
   },
   {
    "duration": 15,
    "start_time": "2023-07-11T21:25:35.325Z"
   },
   {
    "duration": 50,
    "start_time": "2023-07-11T21:25:35.342Z"
   },
   {
    "duration": 2045,
    "start_time": "2023-07-11T21:25:35.393Z"
   },
   {
    "duration": 235,
    "start_time": "2023-07-11T21:25:37.440Z"
   },
   {
    "duration": 166,
    "start_time": "2023-07-11T21:25:37.678Z"
   },
   {
    "duration": 158,
    "start_time": "2023-07-11T21:25:37.845Z"
   },
   {
    "duration": 167,
    "start_time": "2023-07-11T21:25:38.005Z"
   },
   {
    "duration": 290,
    "start_time": "2023-07-11T21:25:38.175Z"
   },
   {
    "duration": 16,
    "start_time": "2023-07-11T21:25:38.467Z"
   },
   {
    "duration": 20,
    "start_time": "2023-07-11T21:25:38.485Z"
   },
   {
    "duration": 11,
    "start_time": "2023-07-11T21:25:38.514Z"
   },
   {
    "duration": 35,
    "start_time": "2023-07-11T21:25:38.528Z"
   },
   {
    "duration": 68,
    "start_time": "2023-07-11T21:25:38.566Z"
   },
   {
    "duration": 980,
    "start_time": "2023-07-11T21:25:38.636Z"
   },
   {
    "duration": 155,
    "start_time": "2023-07-11T21:25:39.623Z"
   },
   {
    "duration": 13,
    "start_time": "2023-07-11T21:25:39.782Z"
   },
   {
    "duration": 5,
    "start_time": "2023-07-11T21:25:39.813Z"
   },
   {
    "duration": 23,
    "start_time": "2023-07-11T21:25:39.820Z"
   },
   {
    "duration": 3,
    "start_time": "2023-07-11T21:25:39.845Z"
   },
   {
    "duration": 14,
    "start_time": "2023-07-11T21:25:39.851Z"
   },
   {
    "duration": 7,
    "start_time": "2023-07-11T21:25:39.868Z"
   },
   {
    "duration": 40,
    "start_time": "2023-07-11T21:25:39.877Z"
   },
   {
    "duration": 8,
    "start_time": "2023-07-11T21:25:39.919Z"
   },
   {
    "duration": 17,
    "start_time": "2023-07-11T21:25:39.929Z"
   },
   {
    "duration": 14,
    "start_time": "2023-07-11T21:25:39.948Z"
   },
   {
    "duration": 183,
    "start_time": "2023-07-11T21:25:39.965Z"
   },
   {
    "duration": 12,
    "start_time": "2023-07-11T21:25:40.150Z"
   },
   {
    "duration": 11,
    "start_time": "2023-07-11T21:25:40.163Z"
   },
   {
    "duration": 27,
    "start_time": "2023-07-11T21:25:40.176Z"
   },
   {
    "duration": 7,
    "start_time": "2023-07-11T21:25:40.205Z"
   },
   {
    "duration": 18,
    "start_time": "2023-07-11T21:25:40.214Z"
   },
   {
    "duration": 3,
    "start_time": "2023-07-11T21:25:40.234Z"
   },
   {
    "duration": 25,
    "start_time": "2023-07-11T21:25:40.239Z"
   },
   {
    "duration": 13,
    "start_time": "2023-07-11T21:25:40.266Z"
   },
   {
    "duration": 32,
    "start_time": "2023-07-11T21:25:40.281Z"
   },
   {
    "duration": 111,
    "start_time": "2023-07-11T21:25:40.315Z"
   },
   {
    "duration": 190,
    "start_time": "2023-07-11T21:25:40.427Z"
   },
   {
    "duration": 97,
    "start_time": "2023-07-11T21:25:40.618Z"
   },
   {
    "duration": 95,
    "start_time": "2023-07-11T21:25:40.721Z"
   },
   {
    "duration": 7,
    "start_time": "2023-07-11T21:25:40.818Z"
   },
   {
    "duration": 118,
    "start_time": "2023-07-11T21:25:40.827Z"
   },
   {
    "duration": 6,
    "start_time": "2023-07-11T21:25:40.947Z"
   },
   {
    "duration": 25,
    "start_time": "2023-07-11T21:25:40.955Z"
   },
   {
    "duration": 3,
    "start_time": "2023-07-11T21:25:40.982Z"
   },
   {
    "duration": 39,
    "start_time": "2023-07-11T21:25:40.987Z"
   },
   {
    "duration": 91,
    "start_time": "2023-07-11T21:25:41.028Z"
   },
   {
    "duration": 87,
    "start_time": "2023-07-11T21:25:41.127Z"
   },
   {
    "duration": 55,
    "start_time": "2023-07-11T21:25:41.216Z"
   },
   {
    "duration": 6,
    "start_time": "2023-07-11T21:25:41.272Z"
   },
   {
    "duration": 36,
    "start_time": "2023-07-11T21:25:41.280Z"
   },
   {
    "duration": 7,
    "start_time": "2023-07-11T21:25:41.318Z"
   },
   {
    "duration": 6,
    "start_time": "2023-07-11T21:25:41.326Z"
   },
   {
    "duration": 139,
    "start_time": "2023-07-11T21:25:41.334Z"
   },
   {
    "duration": 0,
    "start_time": "2023-07-11T21:25:41.475Z"
   },
   {
    "duration": 0,
    "start_time": "2023-07-11T21:25:41.476Z"
   },
   {
    "duration": 0,
    "start_time": "2023-07-11T21:25:41.477Z"
   },
   {
    "duration": 1,
    "start_time": "2023-07-11T21:25:41.478Z"
   },
   {
    "duration": 0,
    "start_time": "2023-07-11T21:25:41.480Z"
   },
   {
    "duration": 0,
    "start_time": "2023-07-11T21:25:41.481Z"
   },
   {
    "duration": 0,
    "start_time": "2023-07-11T21:25:41.482Z"
   },
   {
    "duration": 0,
    "start_time": "2023-07-11T21:25:41.483Z"
   },
   {
    "duration": 0,
    "start_time": "2023-07-11T21:25:41.484Z"
   },
   {
    "duration": 0,
    "start_time": "2023-07-11T21:25:41.485Z"
   },
   {
    "duration": 0,
    "start_time": "2023-07-11T21:25:41.487Z"
   },
   {
    "duration": 0,
    "start_time": "2023-07-11T21:25:41.487Z"
   },
   {
    "duration": 0,
    "start_time": "2023-07-11T21:25:41.514Z"
   },
   {
    "duration": 0,
    "start_time": "2023-07-11T21:25:41.515Z"
   },
   {
    "duration": 0,
    "start_time": "2023-07-11T21:25:41.516Z"
   },
   {
    "duration": 8,
    "start_time": "2023-07-11T21:27:54.565Z"
   },
   {
    "duration": 6,
    "start_time": "2023-07-11T21:28:02.751Z"
   },
   {
    "duration": 135,
    "start_time": "2023-07-11T21:28:05.995Z"
   },
   {
    "duration": 445,
    "start_time": "2023-07-11T21:28:12.409Z"
   },
   {
    "duration": 748,
    "start_time": "2023-07-11T21:28:12.857Z"
   },
   {
    "duration": 46,
    "start_time": "2023-07-11T21:28:13.607Z"
   },
   {
    "duration": 16,
    "start_time": "2023-07-11T21:28:13.655Z"
   },
   {
    "duration": 26,
    "start_time": "2023-07-11T21:28:13.674Z"
   },
   {
    "duration": 5,
    "start_time": "2023-07-11T21:28:13.702Z"
   },
   {
    "duration": 7,
    "start_time": "2023-07-11T21:28:13.709Z"
   },
   {
    "duration": 20,
    "start_time": "2023-07-11T21:28:13.718Z"
   },
   {
    "duration": 20,
    "start_time": "2023-07-11T21:28:13.740Z"
   },
   {
    "duration": 5,
    "start_time": "2023-07-11T21:28:13.762Z"
   },
   {
    "duration": 9,
    "start_time": "2023-07-11T21:28:13.769Z"
   },
   {
    "duration": 9,
    "start_time": "2023-07-11T21:28:13.813Z"
   },
   {
    "duration": 47,
    "start_time": "2023-07-11T21:28:13.824Z"
   },
   {
    "duration": 13,
    "start_time": "2023-07-11T21:28:13.875Z"
   },
   {
    "duration": 71,
    "start_time": "2023-07-11T21:28:13.890Z"
   },
   {
    "duration": 1926,
    "start_time": "2023-07-11T21:28:13.963Z"
   },
   {
    "duration": 212,
    "start_time": "2023-07-11T21:28:15.891Z"
   },
   {
    "duration": 164,
    "start_time": "2023-07-11T21:28:16.105Z"
   },
   {
    "duration": 161,
    "start_time": "2023-07-11T21:28:16.271Z"
   },
   {
    "duration": 169,
    "start_time": "2023-07-11T21:28:16.434Z"
   },
   {
    "duration": 291,
    "start_time": "2023-07-11T21:28:16.605Z"
   },
   {
    "duration": 22,
    "start_time": "2023-07-11T21:28:16.898Z"
   },
   {
    "duration": 8,
    "start_time": "2023-07-11T21:28:16.922Z"
   },
   {
    "duration": 11,
    "start_time": "2023-07-11T21:28:16.932Z"
   },
   {
    "duration": 24,
    "start_time": "2023-07-11T21:28:16.945Z"
   },
   {
    "duration": 77,
    "start_time": "2023-07-11T21:28:16.971Z"
   },
   {
    "duration": 938,
    "start_time": "2023-07-11T21:28:17.050Z"
   },
   {
    "duration": 23,
    "start_time": "2023-07-11T21:28:17.990Z"
   },
   {
    "duration": 125,
    "start_time": "2023-07-11T21:28:18.015Z"
   },
   {
    "duration": 6,
    "start_time": "2023-07-11T21:28:18.142Z"
   },
   {
    "duration": 20,
    "start_time": "2023-07-11T21:28:18.150Z"
   },
   {
    "duration": 13,
    "start_time": "2023-07-11T21:28:18.175Z"
   },
   {
    "duration": 26,
    "start_time": "2023-07-11T21:28:18.190Z"
   },
   {
    "duration": 4,
    "start_time": "2023-07-11T21:28:18.218Z"
   },
   {
    "duration": 13,
    "start_time": "2023-07-11T21:28:18.225Z"
   },
   {
    "duration": 8,
    "start_time": "2023-07-11T21:28:18.241Z"
   },
   {
    "duration": 25,
    "start_time": "2023-07-11T21:28:18.250Z"
   },
   {
    "duration": 16,
    "start_time": "2023-07-11T21:28:18.277Z"
   },
   {
    "duration": 162,
    "start_time": "2023-07-11T21:28:18.294Z"
   },
   {
    "duration": 12,
    "start_time": "2023-07-11T21:28:18.458Z"
   },
   {
    "duration": 19,
    "start_time": "2023-07-11T21:28:18.474Z"
   },
   {
    "duration": 18,
    "start_time": "2023-07-11T21:28:18.495Z"
   },
   {
    "duration": 3,
    "start_time": "2023-07-11T21:28:18.515Z"
   },
   {
    "duration": 14,
    "start_time": "2023-07-11T21:28:18.519Z"
   },
   {
    "duration": 6,
    "start_time": "2023-07-11T21:28:18.535Z"
   },
   {
    "duration": 37,
    "start_time": "2023-07-11T21:28:18.543Z"
   },
   {
    "duration": 11,
    "start_time": "2023-07-11T21:28:18.582Z"
   },
   {
    "duration": 19,
    "start_time": "2023-07-11T21:28:18.595Z"
   },
   {
    "duration": 205,
    "start_time": "2023-07-11T21:28:18.616Z"
   },
   {
    "duration": 103,
    "start_time": "2023-07-11T21:28:18.824Z"
   },
   {
    "duration": 99,
    "start_time": "2023-07-11T21:28:19.014Z"
   },
   {
    "duration": 98,
    "start_time": "2023-07-11T21:28:19.116Z"
   },
   {
    "duration": 12,
    "start_time": "2023-07-11T21:28:19.216Z"
   },
   {
    "duration": 44,
    "start_time": "2023-07-11T21:28:19.230Z"
   },
   {
    "duration": 5,
    "start_time": "2023-07-11T21:28:19.276Z"
   },
   {
    "duration": 15,
    "start_time": "2023-07-11T21:28:19.283Z"
   },
   {
    "duration": 13,
    "start_time": "2023-07-11T21:28:19.300Z"
   },
   {
    "duration": 19,
    "start_time": "2023-07-11T21:28:19.315Z"
   },
   {
    "duration": 80,
    "start_time": "2023-07-11T21:28:19.336Z"
   },
   {
    "duration": 7,
    "start_time": "2023-07-11T21:28:19.418Z"
   },
   {
    "duration": 50,
    "start_time": "2023-07-11T21:28:19.513Z"
   },
   {
    "duration": 55,
    "start_time": "2023-07-11T21:28:19.564Z"
   },
   {
    "duration": 8,
    "start_time": "2023-07-11T21:28:19.621Z"
   },
   {
    "duration": 18,
    "start_time": "2023-07-11T21:28:19.631Z"
   },
   {
    "duration": 12,
    "start_time": "2023-07-11T21:28:19.651Z"
   },
   {
    "duration": 238,
    "start_time": "2023-07-11T21:28:19.665Z"
   },
   {
    "duration": 46,
    "start_time": "2023-07-11T21:28:19.912Z"
   },
   {
    "duration": 59,
    "start_time": "2023-07-11T21:28:19.960Z"
   },
   {
    "duration": 146,
    "start_time": "2023-07-11T21:28:20.021Z"
   },
   {
    "duration": 201,
    "start_time": "2023-07-11T21:28:20.214Z"
   },
   {
    "duration": 118,
    "start_time": "2023-07-11T21:28:20.417Z"
   },
   {
    "duration": 189,
    "start_time": "2023-07-11T21:28:20.537Z"
   },
   {
    "duration": 425,
    "start_time": "2023-07-11T21:28:20.730Z"
   },
   {
    "duration": 150,
    "start_time": "2023-07-11T21:28:21.157Z"
   },
   {
    "duration": 104,
    "start_time": "2023-07-11T21:28:21.310Z"
   },
   {
    "duration": 206,
    "start_time": "2023-07-11T21:28:21.418Z"
   },
   {
    "duration": 90,
    "start_time": "2023-07-11T21:28:21.628Z"
   },
   {
    "duration": 159,
    "start_time": "2023-07-11T21:28:21.720Z"
   },
   {
    "duration": 69,
    "start_time": "2023-07-11T21:28:21.882Z"
   },
   {
    "duration": 12,
    "start_time": "2023-07-11T21:28:21.953Z"
   },
   {
    "duration": 2203,
    "start_time": "2023-07-11T21:28:21.967Z"
   },
   {
    "duration": 121,
    "start_time": "2023-07-11T21:28:47.739Z"
   },
   {
    "duration": 140,
    "start_time": "2023-07-11T21:28:58.702Z"
   },
   {
    "duration": 42,
    "start_time": "2023-07-11T21:29:40.323Z"
   },
   {
    "duration": 113,
    "start_time": "2023-07-11T21:29:55.837Z"
   },
   {
    "duration": 108,
    "start_time": "2023-07-11T21:30:44.107Z"
   },
   {
    "duration": 535,
    "start_time": "2023-07-12T18:24:13.591Z"
   },
   {
    "duration": 818,
    "start_time": "2023-07-12T18:24:14.129Z"
   },
   {
    "duration": 54,
    "start_time": "2023-07-12T18:24:14.949Z"
   },
   {
    "duration": 14,
    "start_time": "2023-07-12T18:24:15.005Z"
   },
   {
    "duration": 76,
    "start_time": "2023-07-12T18:24:15.022Z"
   },
   {
    "duration": 28,
    "start_time": "2023-07-12T18:24:15.099Z"
   },
   {
    "duration": 26,
    "start_time": "2023-07-12T18:24:15.128Z"
   },
   {
    "duration": 39,
    "start_time": "2023-07-12T18:24:15.156Z"
   },
   {
    "duration": 26,
    "start_time": "2023-07-12T18:24:15.197Z"
   },
   {
    "duration": 5,
    "start_time": "2023-07-12T18:24:15.225Z"
   },
   {
    "duration": 15,
    "start_time": "2023-07-12T18:24:15.232Z"
   },
   {
    "duration": 30,
    "start_time": "2023-07-12T18:24:15.249Z"
   },
   {
    "duration": 35,
    "start_time": "2023-07-12T18:24:15.281Z"
   },
   {
    "duration": 10,
    "start_time": "2023-07-12T18:24:15.319Z"
   },
   {
    "duration": 68,
    "start_time": "2023-07-12T18:24:15.331Z"
   },
   {
    "duration": 2071,
    "start_time": "2023-07-12T18:24:15.401Z"
   },
   {
    "duration": 251,
    "start_time": "2023-07-12T18:24:17.475Z"
   },
   {
    "duration": 179,
    "start_time": "2023-07-12T18:24:17.729Z"
   },
   {
    "duration": 161,
    "start_time": "2023-07-12T18:24:17.912Z"
   },
   {
    "duration": 193,
    "start_time": "2023-07-12T18:24:18.076Z"
   },
   {
    "duration": 337,
    "start_time": "2023-07-12T18:24:18.271Z"
   },
   {
    "duration": 17,
    "start_time": "2023-07-12T18:24:18.613Z"
   },
   {
    "duration": 362,
    "start_time": "2023-07-12T18:24:18.632Z"
   },
   {
    "duration": 52,
    "start_time": "2023-07-12T18:24:18.995Z"
   },
   {
    "duration": 35,
    "start_time": "2023-07-12T18:24:19.049Z"
   },
   {
    "duration": 71,
    "start_time": "2023-07-12T18:24:19.085Z"
   },
   {
    "duration": 1248,
    "start_time": "2023-07-12T18:24:19.158Z"
   },
   {
    "duration": 13,
    "start_time": "2023-07-12T18:24:20.408Z"
   },
   {
    "duration": 143,
    "start_time": "2023-07-12T18:24:20.423Z"
   },
   {
    "duration": 27,
    "start_time": "2023-07-12T18:24:20.568Z"
   },
   {
    "duration": 58,
    "start_time": "2023-07-12T18:24:20.597Z"
   },
   {
    "duration": 93,
    "start_time": "2023-07-12T18:24:20.657Z"
   },
   {
    "duration": 41,
    "start_time": "2023-07-12T18:24:20.753Z"
   },
   {
    "duration": 30,
    "start_time": "2023-07-12T18:24:20.796Z"
   },
   {
    "duration": 44,
    "start_time": "2023-07-12T18:24:20.828Z"
   },
   {
    "duration": 58,
    "start_time": "2023-07-12T18:24:20.874Z"
   },
   {
    "duration": 55,
    "start_time": "2023-07-12T18:24:20.935Z"
   },
   {
    "duration": 51,
    "start_time": "2023-07-12T18:24:20.992Z"
   },
   {
    "duration": 200,
    "start_time": "2023-07-12T18:24:21.045Z"
   },
   {
    "duration": 13,
    "start_time": "2023-07-12T18:24:21.246Z"
   },
   {
    "duration": 37,
    "start_time": "2023-07-12T18:24:21.264Z"
   },
   {
    "duration": 42,
    "start_time": "2023-07-12T18:24:21.303Z"
   },
   {
    "duration": 23,
    "start_time": "2023-07-12T18:24:21.348Z"
   },
   {
    "duration": 22,
    "start_time": "2023-07-12T18:24:21.373Z"
   },
   {
    "duration": 7,
    "start_time": "2023-07-12T18:24:21.398Z"
   },
   {
    "duration": 54,
    "start_time": "2023-07-12T18:24:21.407Z"
   },
   {
    "duration": 13,
    "start_time": "2023-07-12T18:24:21.463Z"
   },
   {
    "duration": 17,
    "start_time": "2023-07-12T18:24:21.478Z"
   },
   {
    "duration": 123,
    "start_time": "2023-07-12T18:24:21.498Z"
   },
   {
    "duration": 194,
    "start_time": "2023-07-12T18:24:21.623Z"
   },
   {
    "duration": 94,
    "start_time": "2023-07-12T18:24:21.820Z"
   },
   {
    "duration": 117,
    "start_time": "2023-07-12T18:24:21.917Z"
   },
   {
    "duration": 7,
    "start_time": "2023-07-12T18:24:22.036Z"
   },
   {
    "duration": 68,
    "start_time": "2023-07-12T18:24:22.045Z"
   },
   {
    "duration": 60,
    "start_time": "2023-07-12T18:24:22.115Z"
   },
   {
    "duration": 26,
    "start_time": "2023-07-12T18:24:22.177Z"
   },
   {
    "duration": 9,
    "start_time": "2023-07-12T18:24:22.205Z"
   },
   {
    "duration": 31,
    "start_time": "2023-07-12T18:24:22.216Z"
   },
   {
    "duration": 65,
    "start_time": "2023-07-12T18:24:22.249Z"
   },
   {
    "duration": 103,
    "start_time": "2023-07-12T18:24:22.316Z"
   },
   {
    "duration": 92,
    "start_time": "2023-07-12T18:24:22.421Z"
   },
   {
    "duration": 6,
    "start_time": "2023-07-12T18:24:22.515Z"
   },
   {
    "duration": 21,
    "start_time": "2023-07-12T18:24:22.523Z"
   },
   {
    "duration": 36,
    "start_time": "2023-07-12T18:24:22.545Z"
   },
   {
    "duration": 58,
    "start_time": "2023-07-12T18:24:22.583Z"
   },
   {
    "duration": 179,
    "start_time": "2023-07-12T18:24:22.643Z"
   },
   {
    "duration": 89,
    "start_time": "2023-07-12T18:24:22.825Z"
   },
   {
    "duration": 7,
    "start_time": "2023-07-12T18:24:22.917Z"
   },
   {
    "duration": 199,
    "start_time": "2023-07-12T18:24:22.926Z"
   },
   {
    "duration": 293,
    "start_time": "2023-07-12T18:24:23.127Z"
   },
   {
    "duration": 118,
    "start_time": "2023-07-12T18:24:23.422Z"
   },
   {
    "duration": 124,
    "start_time": "2023-07-12T18:24:23.615Z"
   },
   {
    "duration": 399,
    "start_time": "2023-07-12T18:24:23.742Z"
   },
   {
    "duration": 148,
    "start_time": "2023-07-12T18:24:24.143Z"
   },
   {
    "duration": 27,
    "start_time": "2023-07-12T18:24:24.293Z"
   },
   {
    "duration": 193,
    "start_time": "2023-07-12T18:24:24.322Z"
   },
   {
    "duration": 132,
    "start_time": "2023-07-12T18:24:24.517Z"
   },
   {
    "duration": 14,
    "start_time": "2023-07-12T18:24:24.651Z"
   },
   {
    "duration": 2305,
    "start_time": "2023-07-12T18:24:24.667Z"
   },
   {
    "duration": 12,
    "start_time": "2023-07-12T18:28:39.314Z"
   },
   {
    "duration": 5,
    "start_time": "2023-07-12T18:31:17.208Z"
   },
   {
    "duration": 15,
    "start_time": "2023-07-12T18:31:31.723Z"
   },
   {
    "duration": 118,
    "start_time": "2023-07-12T18:31:52.092Z"
   },
   {
    "duration": 4,
    "start_time": "2023-07-12T18:32:33.058Z"
   },
   {
    "duration": 17,
    "start_time": "2023-07-12T18:32:49.494Z"
   },
   {
    "duration": 108,
    "start_time": "2023-07-12T18:36:09.035Z"
   },
   {
    "duration": 1901,
    "start_time": "2023-07-12T18:38:49.151Z"
   },
   {
    "duration": 28,
    "start_time": "2023-07-12T18:40:55.105Z"
   },
   {
    "duration": 123,
    "start_time": "2023-07-12T18:42:09.392Z"
   },
   {
    "duration": 3,
    "start_time": "2023-07-12T18:44:12.831Z"
   },
   {
    "duration": 50,
    "start_time": "2023-07-12T18:44:46.131Z"
   },
   {
    "duration": 6,
    "start_time": "2023-07-12T18:45:11.992Z"
   },
   {
    "duration": 20,
    "start_time": "2023-07-12T18:45:26.540Z"
   },
   {
    "duration": 54,
    "start_time": "2023-07-12T18:46:53.027Z"
   },
   {
    "duration": 1458,
    "start_time": "2023-07-12T18:50:15.720Z"
   },
   {
    "duration": 1259,
    "start_time": "2023-07-12T18:51:05.869Z"
   },
   {
    "duration": 1332,
    "start_time": "2023-07-12T18:51:38.321Z"
   },
   {
    "duration": 202,
    "start_time": "2023-07-12T18:52:14.861Z"
   },
   {
    "duration": 192,
    "start_time": "2023-07-12T18:55:19.954Z"
   },
   {
    "duration": 1118,
    "start_time": "2023-07-12T18:58:01.826Z"
   },
   {
    "duration": 5,
    "start_time": "2023-07-12T18:58:19.227Z"
   },
   {
    "duration": 6,
    "start_time": "2023-07-12T18:58:37.289Z"
   },
   {
    "duration": 41,
    "start_time": "2023-07-12T18:58:54.052Z"
   },
   {
    "duration": 7,
    "start_time": "2023-07-12T18:59:08.035Z"
   },
   {
    "duration": 175,
    "start_time": "2023-07-12T18:59:24.532Z"
   },
   {
    "duration": 9,
    "start_time": "2023-07-12T18:59:42.927Z"
   },
   {
    "duration": 1115,
    "start_time": "2023-07-12T19:00:51.971Z"
   },
   {
    "duration": 4,
    "start_time": "2023-07-12T19:01:16.389Z"
   },
   {
    "duration": 7,
    "start_time": "2023-07-12T19:01:43.258Z"
   },
   {
    "duration": 8,
    "start_time": "2023-07-12T19:01:44.026Z"
   },
   {
    "duration": 45,
    "start_time": "2023-07-12T19:01:48.292Z"
   },
   {
    "duration": 16,
    "start_time": "2023-07-12T19:01:49.727Z"
   },
   {
    "duration": 193,
    "start_time": "2023-07-12T19:01:52.632Z"
   },
   {
    "duration": 197,
    "start_time": "2023-07-12T19:02:17.651Z"
   },
   {
    "duration": 9,
    "start_time": "2023-07-12T19:02:21.856Z"
   },
   {
    "duration": 396,
    "start_time": "2023-07-13T12:34:00.722Z"
   },
   {
    "duration": 12,
    "start_time": "2023-07-13T12:34:11.887Z"
   },
   {
    "duration": 43,
    "start_time": "2023-07-13T12:34:11.901Z"
   },
   {
    "duration": 14,
    "start_time": "2023-07-13T12:34:11.946Z"
   },
   {
    "duration": 19,
    "start_time": "2023-07-13T12:34:14.553Z"
   },
   {
    "duration": 4,
    "start_time": "2023-07-13T12:34:15.116Z"
   },
   {
    "duration": 3,
    "start_time": "2023-07-13T12:34:15.629Z"
   },
   {
    "duration": 14,
    "start_time": "2023-07-13T12:34:15.706Z"
   },
   {
    "duration": 18,
    "start_time": "2023-07-13T12:34:15.775Z"
   },
   {
    "duration": 4,
    "start_time": "2023-07-13T12:34:15.907Z"
   },
   {
    "duration": 5,
    "start_time": "2023-07-13T12:34:15.962Z"
   },
   {
    "duration": 9,
    "start_time": "2023-07-13T12:34:16.040Z"
   },
   {
    "duration": 18,
    "start_time": "2023-07-13T12:34:16.230Z"
   },
   {
    "duration": 11,
    "start_time": "2023-07-13T12:34:16.280Z"
   },
   {
    "duration": 42,
    "start_time": "2023-07-13T12:34:16.426Z"
   },
   {
    "duration": 1848,
    "start_time": "2023-07-13T12:34:17.922Z"
   },
   {
    "duration": 215,
    "start_time": "2023-07-13T12:34:19.771Z"
   },
   {
    "duration": 162,
    "start_time": "2023-07-13T12:34:19.988Z"
   },
   {
    "duration": 148,
    "start_time": "2023-07-13T12:34:20.152Z"
   },
   {
    "duration": 150,
    "start_time": "2023-07-13T12:34:20.302Z"
   },
   {
    "duration": 269,
    "start_time": "2023-07-13T12:34:20.453Z"
   },
   {
    "duration": 14,
    "start_time": "2023-07-13T12:34:20.724Z"
   },
   {
    "duration": 21,
    "start_time": "2023-07-13T12:34:20.740Z"
   },
   {
    "duration": 25,
    "start_time": "2023-07-13T12:34:20.763Z"
   },
   {
    "duration": 24,
    "start_time": "2023-07-13T12:34:20.790Z"
   },
   {
    "duration": 57,
    "start_time": "2023-07-13T12:34:20.816Z"
   },
   {
    "duration": 898,
    "start_time": "2023-07-13T12:34:20.875Z"
   },
   {
    "duration": 10,
    "start_time": "2023-07-13T12:34:21.775Z"
   },
   {
    "duration": 11,
    "start_time": "2023-07-13T12:34:21.787Z"
   },
   {
    "duration": 4,
    "start_time": "2023-07-13T12:34:22.206Z"
   },
   {
    "duration": 12,
    "start_time": "2023-07-13T12:34:22.318Z"
   },
   {
    "duration": 3,
    "start_time": "2023-07-13T12:34:22.410Z"
   },
   {
    "duration": 5,
    "start_time": "2023-07-13T12:34:22.454Z"
   },
   {
    "duration": 4,
    "start_time": "2023-07-13T12:34:23.110Z"
   },
   {
    "duration": 6,
    "start_time": "2023-07-13T12:34:23.503Z"
   },
   {
    "duration": 149,
    "start_time": "2023-07-13T12:34:24.010Z"
   },
   {
    "duration": 9,
    "start_time": "2023-07-13T12:34:24.162Z"
   },
   {
    "duration": 9,
    "start_time": "2023-07-13T12:34:24.251Z"
   },
   {
    "duration": 147,
    "start_time": "2023-07-13T12:34:24.353Z"
   },
   {
    "duration": 12,
    "start_time": "2023-07-13T12:34:24.505Z"
   },
   {
    "duration": 4,
    "start_time": "2023-07-13T12:34:24.610Z"
   },
   {
    "duration": 3,
    "start_time": "2023-07-13T12:34:25.202Z"
   },
   {
    "duration": 2,
    "start_time": "2023-07-13T12:34:25.406Z"
   },
   {
    "duration": 8,
    "start_time": "2023-07-13T12:34:25.610Z"
   },
   {
    "duration": 3,
    "start_time": "2023-07-13T12:34:25.810Z"
   },
   {
    "duration": 21,
    "start_time": "2023-07-13T12:34:27.033Z"
   },
   {
    "duration": 12,
    "start_time": "2023-07-13T12:34:27.806Z"
   },
   {
    "duration": 3,
    "start_time": "2023-07-13T12:34:31.206Z"
   },
   {
    "duration": 153,
    "start_time": "2023-07-13T12:34:31.406Z"
   },
   {
    "duration": 11,
    "start_time": "2023-07-13T12:34:31.660Z"
   },
   {
    "duration": 9,
    "start_time": "2023-07-13T12:34:31.860Z"
   },
   {
    "duration": 6,
    "start_time": "2023-07-13T12:34:32.059Z"
   },
   {
    "duration": 3,
    "start_time": "2023-07-13T12:34:32.574Z"
   },
   {
    "duration": 31,
    "start_time": "2023-07-13T12:34:32.776Z"
   },
   {
    "duration": 7,
    "start_time": "2023-07-13T12:34:32.953Z"
   },
   {
    "duration": 6,
    "start_time": "2023-07-13T12:34:33.174Z"
   },
   {
    "duration": 3,
    "start_time": "2023-07-13T12:34:33.850Z"
   },
   {
    "duration": 23,
    "start_time": "2023-07-13T12:34:34.076Z"
   },
   {
    "duration": 13,
    "start_time": "2023-07-13T12:34:34.278Z"
   },
   {
    "duration": 6,
    "start_time": "2023-07-13T12:34:34.810Z"
   },
   {
    "duration": 107,
    "start_time": "2023-07-13T12:37:17.614Z"
   },
   {
    "duration": 25,
    "start_time": "2023-07-13T12:37:29.582Z"
   },
   {
    "duration": 390,
    "start_time": "2023-07-13T18:06:57.715Z"
   },
   {
    "duration": 646,
    "start_time": "2023-07-13T18:06:58.106Z"
   },
   {
    "duration": 78,
    "start_time": "2023-07-13T18:06:58.753Z"
   },
   {
    "duration": 11,
    "start_time": "2023-07-13T18:06:58.832Z"
   },
   {
    "duration": 16,
    "start_time": "2023-07-13T18:06:58.845Z"
   },
   {
    "duration": 4,
    "start_time": "2023-07-13T18:06:58.862Z"
   },
   {
    "duration": 3,
    "start_time": "2023-07-13T18:06:58.867Z"
   },
   {
    "duration": 20,
    "start_time": "2023-07-13T18:06:58.872Z"
   },
   {
    "duration": 20,
    "start_time": "2023-07-13T18:06:58.893Z"
   },
   {
    "duration": 4,
    "start_time": "2023-07-13T18:06:58.914Z"
   },
   {
    "duration": 9,
    "start_time": "2023-07-13T18:06:58.919Z"
   },
   {
    "duration": 15,
    "start_time": "2023-07-13T18:06:58.930Z"
   },
   {
    "duration": 20,
    "start_time": "2023-07-13T18:06:58.946Z"
   },
   {
    "duration": 38,
    "start_time": "2023-07-13T18:06:58.968Z"
   },
   {
    "duration": 44,
    "start_time": "2023-07-13T18:06:59.007Z"
   },
   {
    "duration": 1576,
    "start_time": "2023-07-13T18:06:59.053Z"
   },
   {
    "duration": 156,
    "start_time": "2023-07-13T18:07:00.631Z"
   },
   {
    "duration": 127,
    "start_time": "2023-07-13T18:07:00.788Z"
   },
   {
    "duration": 122,
    "start_time": "2023-07-13T18:07:00.917Z"
   },
   {
    "duration": 159,
    "start_time": "2023-07-13T18:07:01.040Z"
   },
   {
    "duration": 215,
    "start_time": "2023-07-13T18:07:01.201Z"
   },
   {
    "duration": 11,
    "start_time": "2023-07-13T18:07:01.417Z"
   },
   {
    "duration": 46,
    "start_time": "2023-07-13T18:07:01.429Z"
   },
   {
    "duration": 57,
    "start_time": "2023-07-13T18:07:01.477Z"
   },
   {
    "duration": 51,
    "start_time": "2023-07-13T18:07:01.536Z"
   },
   {
    "duration": 88,
    "start_time": "2023-07-13T18:07:01.588Z"
   },
   {
    "duration": 925,
    "start_time": "2023-07-13T18:07:01.678Z"
   },
   {
    "duration": 8,
    "start_time": "2023-07-13T18:07:02.604Z"
   },
   {
    "duration": 27,
    "start_time": "2023-07-13T18:07:02.614Z"
   },
   {
    "duration": 17,
    "start_time": "2023-07-13T18:07:02.643Z"
   },
   {
    "duration": 36,
    "start_time": "2023-07-13T18:07:02.662Z"
   },
   {
    "duration": 28,
    "start_time": "2023-07-13T18:07:02.700Z"
   },
   {
    "duration": 17,
    "start_time": "2023-07-13T18:07:02.729Z"
   },
   {
    "duration": 23,
    "start_time": "2023-07-13T18:07:02.747Z"
   },
   {
    "duration": 15,
    "start_time": "2023-07-13T18:07:02.772Z"
   },
   {
    "duration": 11,
    "start_time": "2023-07-13T18:07:02.788Z"
   },
   {
    "duration": 13,
    "start_time": "2023-07-13T18:07:02.800Z"
   },
   {
    "duration": 30,
    "start_time": "2023-07-13T18:07:02.815Z"
   },
   {
    "duration": 140,
    "start_time": "2023-07-13T18:07:02.846Z"
   },
   {
    "duration": 13,
    "start_time": "2023-07-13T18:07:02.987Z"
   },
   {
    "duration": 19,
    "start_time": "2023-07-13T18:07:03.004Z"
   },
   {
    "duration": 14,
    "start_time": "2023-07-13T18:07:03.024Z"
   },
   {
    "duration": 7,
    "start_time": "2023-07-13T18:07:03.039Z"
   },
   {
    "duration": 23,
    "start_time": "2023-07-13T18:07:03.048Z"
   },
   {
    "duration": 29,
    "start_time": "2023-07-13T18:07:03.072Z"
   },
   {
    "duration": 22,
    "start_time": "2023-07-13T18:07:03.102Z"
   },
   {
    "duration": 9,
    "start_time": "2023-07-13T18:07:03.125Z"
   },
   {
    "duration": 7,
    "start_time": "2023-07-13T18:07:03.135Z"
   },
   {
    "duration": 263,
    "start_time": "2023-07-13T18:07:03.144Z"
   },
   {
    "duration": 193,
    "start_time": "2023-07-13T18:07:03.409Z"
   },
   {
    "duration": 104,
    "start_time": "2023-07-13T18:07:03.604Z"
   },
   {
    "duration": 103,
    "start_time": "2023-07-13T18:07:03.710Z"
   },
   {
    "duration": 88,
    "start_time": "2023-07-13T18:07:03.814Z"
   },
   {
    "duration": 36,
    "start_time": "2023-07-13T18:07:03.904Z"
   },
   {
    "duration": 4,
    "start_time": "2023-07-13T18:07:03.942Z"
   },
   {
    "duration": 10,
    "start_time": "2023-07-13T18:07:03.947Z"
   },
   {
    "duration": 6,
    "start_time": "2023-07-13T18:07:03.958Z"
   },
   {
    "duration": 35,
    "start_time": "2023-07-13T18:07:03.965Z"
   },
   {
    "duration": 6,
    "start_time": "2023-07-13T18:07:04.002Z"
   },
   {
    "duration": 95,
    "start_time": "2023-07-13T18:07:04.010Z"
   },
   {
    "duration": 129,
    "start_time": "2023-07-13T18:07:04.107Z"
   },
   {
    "duration": 6,
    "start_time": "2023-07-13T18:07:04.237Z"
   },
   {
    "duration": 8,
    "start_time": "2023-07-13T18:07:04.244Z"
   },
   {
    "duration": 8,
    "start_time": "2023-07-13T18:07:04.254Z"
   },
   {
    "duration": 7,
    "start_time": "2023-07-13T18:07:04.263Z"
   },
   {
    "duration": 131,
    "start_time": "2023-07-13T18:07:04.271Z"
   },
   {
    "duration": 6,
    "start_time": "2023-07-13T18:07:04.403Z"
   },
   {
    "duration": 40,
    "start_time": "2023-07-13T18:07:04.410Z"
   },
   {
    "duration": 48,
    "start_time": "2023-07-13T18:07:04.452Z"
   },
   {
    "duration": 154,
    "start_time": "2023-07-13T18:07:04.502Z"
   },
   {
    "duration": 183,
    "start_time": "2023-07-13T18:07:04.659Z"
   },
   {
    "duration": 198,
    "start_time": "2023-07-13T18:07:04.914Z"
   },
   {
    "duration": 0,
    "start_time": "2023-07-13T18:07:05.113Z"
   },
   {
    "duration": 0,
    "start_time": "2023-07-13T18:07:05.114Z"
   },
   {
    "duration": 0,
    "start_time": "2023-07-13T18:07:05.115Z"
   },
   {
    "duration": 0,
    "start_time": "2023-07-13T18:07:05.116Z"
   },
   {
    "duration": 0,
    "start_time": "2023-07-13T18:07:05.117Z"
   },
   {
    "duration": 0,
    "start_time": "2023-07-13T18:07:05.118Z"
   },
   {
    "duration": 0,
    "start_time": "2023-07-13T18:07:05.118Z"
   },
   {
    "duration": 0,
    "start_time": "2023-07-13T18:07:05.120Z"
   },
   {
    "duration": 0,
    "start_time": "2023-07-13T18:07:05.120Z"
   },
   {
    "duration": 0,
    "start_time": "2023-07-13T18:07:05.121Z"
   },
   {
    "duration": 0,
    "start_time": "2023-07-13T18:07:05.122Z"
   },
   {
    "duration": 0,
    "start_time": "2023-07-13T18:07:05.123Z"
   },
   {
    "duration": 0,
    "start_time": "2023-07-13T18:07:05.124Z"
   },
   {
    "duration": 15,
    "start_time": "2023-07-13T18:07:30.332Z"
   },
   {
    "duration": 36,
    "start_time": "2023-07-13T18:08:37.532Z"
   },
   {
    "duration": 51,
    "start_time": "2023-07-13T18:09:20.157Z"
   },
   {
    "duration": 122,
    "start_time": "2023-07-13T18:10:38.944Z"
   },
   {
    "duration": 106,
    "start_time": "2023-07-13T18:12:23.306Z"
   },
   {
    "duration": 429,
    "start_time": "2023-07-13T18:13:37.921Z"
   },
   {
    "duration": 651,
    "start_time": "2023-07-13T18:13:38.351Z"
   },
   {
    "duration": 39,
    "start_time": "2023-07-13T18:13:39.004Z"
   },
   {
    "duration": 12,
    "start_time": "2023-07-13T18:13:39.045Z"
   },
   {
    "duration": 16,
    "start_time": "2023-07-13T18:13:39.059Z"
   },
   {
    "duration": 3,
    "start_time": "2023-07-13T18:13:39.076Z"
   },
   {
    "duration": 4,
    "start_time": "2023-07-13T18:13:39.081Z"
   },
   {
    "duration": 18,
    "start_time": "2023-07-13T18:13:39.087Z"
   },
   {
    "duration": 16,
    "start_time": "2023-07-13T18:13:39.107Z"
   },
   {
    "duration": 3,
    "start_time": "2023-07-13T18:13:39.127Z"
   },
   {
    "duration": 6,
    "start_time": "2023-07-13T18:13:39.132Z"
   },
   {
    "duration": 8,
    "start_time": "2023-07-13T18:13:39.139Z"
   },
   {
    "duration": 64,
    "start_time": "2023-07-13T18:13:39.148Z"
   },
   {
    "duration": 11,
    "start_time": "2023-07-13T18:13:39.214Z"
   },
   {
    "duration": 81,
    "start_time": "2023-07-13T18:13:39.226Z"
   },
   {
    "duration": 1449,
    "start_time": "2023-07-13T18:13:39.308Z"
   },
   {
    "duration": 154,
    "start_time": "2023-07-13T18:13:40.758Z"
   },
   {
    "duration": 133,
    "start_time": "2023-07-13T18:13:40.914Z"
   },
   {
    "duration": 128,
    "start_time": "2023-07-13T18:13:41.049Z"
   },
   {
    "duration": 148,
    "start_time": "2023-07-13T18:13:41.178Z"
   },
   {
    "duration": 234,
    "start_time": "2023-07-13T18:13:41.327Z"
   },
   {
    "duration": 12,
    "start_time": "2023-07-13T18:13:41.563Z"
   },
   {
    "duration": 8,
    "start_time": "2023-07-13T18:13:41.577Z"
   },
   {
    "duration": 16,
    "start_time": "2023-07-13T18:13:41.586Z"
   },
   {
    "duration": 20,
    "start_time": "2023-07-13T18:13:41.604Z"
   },
   {
    "duration": 53,
    "start_time": "2023-07-13T18:13:41.626Z"
   },
   {
    "duration": 846,
    "start_time": "2023-07-13T18:13:41.681Z"
   },
   {
    "duration": 88,
    "start_time": "2023-07-13T18:13:42.530Z"
   },
   {
    "duration": 19,
    "start_time": "2023-07-13T18:13:42.620Z"
   },
   {
    "duration": 18,
    "start_time": "2023-07-13T18:13:42.641Z"
   },
   {
    "duration": 36,
    "start_time": "2023-07-13T18:13:42.661Z"
   },
   {
    "duration": 15,
    "start_time": "2023-07-13T18:13:42.699Z"
   },
   {
    "duration": 25,
    "start_time": "2023-07-13T18:13:42.715Z"
   },
   {
    "duration": 17,
    "start_time": "2023-07-13T18:13:42.742Z"
   },
   {
    "duration": 24,
    "start_time": "2023-07-13T18:13:42.761Z"
   },
   {
    "duration": 6,
    "start_time": "2023-07-13T18:13:42.787Z"
   },
   {
    "duration": 10,
    "start_time": "2023-07-13T18:13:42.795Z"
   },
   {
    "duration": 12,
    "start_time": "2023-07-13T18:13:42.807Z"
   },
   {
    "duration": 132,
    "start_time": "2023-07-13T18:13:42.820Z"
   },
   {
    "duration": 11,
    "start_time": "2023-07-13T18:13:42.953Z"
   },
   {
    "duration": 10,
    "start_time": "2023-07-13T18:13:42.966Z"
   },
   {
    "duration": 23,
    "start_time": "2023-07-13T18:13:42.978Z"
   },
   {
    "duration": 8,
    "start_time": "2023-07-13T18:13:43.003Z"
   },
   {
    "duration": 11,
    "start_time": "2023-07-13T18:13:43.012Z"
   },
   {
    "duration": 6,
    "start_time": "2023-07-13T18:13:43.025Z"
   },
   {
    "duration": 21,
    "start_time": "2023-07-13T18:13:43.032Z"
   },
   {
    "duration": 16,
    "start_time": "2023-07-13T18:13:43.054Z"
   },
   {
    "duration": 13,
    "start_time": "2023-07-13T18:13:43.071Z"
   },
   {
    "duration": 128,
    "start_time": "2023-07-13T18:13:43.085Z"
   },
   {
    "duration": 103,
    "start_time": "2023-07-13T18:13:43.300Z"
   },
   {
    "duration": 102,
    "start_time": "2023-07-13T18:13:43.405Z"
   },
   {
    "duration": 102,
    "start_time": "2023-07-13T18:13:43.510Z"
   },
   {
    "duration": 93,
    "start_time": "2023-07-13T18:13:43.614Z"
   },
   {
    "duration": 38,
    "start_time": "2023-07-13T18:13:43.709Z"
   },
   {
    "duration": 5,
    "start_time": "2023-07-13T18:13:43.749Z"
   },
   {
    "duration": 8,
    "start_time": "2023-07-13T18:13:43.756Z"
   },
   {
    "duration": 7,
    "start_time": "2023-07-13T18:13:43.766Z"
   },
   {
    "duration": 41,
    "start_time": "2023-07-13T18:13:43.774Z"
   },
   {
    "duration": 5,
    "start_time": "2023-07-13T18:13:43.817Z"
   },
   {
    "duration": 81,
    "start_time": "2023-07-13T18:13:43.823Z"
   },
   {
    "duration": 141,
    "start_time": "2023-07-13T18:13:43.906Z"
   },
   {
    "duration": 6,
    "start_time": "2023-07-13T18:13:44.048Z"
   },
   {
    "duration": 5,
    "start_time": "2023-07-13T18:13:44.055Z"
   },
   {
    "duration": 5,
    "start_time": "2023-07-13T18:13:44.062Z"
   },
   {
    "duration": 34,
    "start_time": "2023-07-13T18:13:44.068Z"
   },
   {
    "duration": 131,
    "start_time": "2023-07-13T18:13:44.103Z"
   },
   {
    "duration": 7,
    "start_time": "2023-07-13T18:13:44.235Z"
   },
   {
    "duration": 56,
    "start_time": "2023-07-13T18:13:44.244Z"
   },
   {
    "duration": 6,
    "start_time": "2023-07-13T18:13:44.301Z"
   },
   {
    "duration": 198,
    "start_time": "2023-07-13T18:13:44.308Z"
   },
   {
    "duration": 209,
    "start_time": "2023-07-13T18:13:44.508Z"
   },
   {
    "duration": 128,
    "start_time": "2023-07-13T18:13:44.802Z"
   },
   {
    "duration": 272,
    "start_time": "2023-07-13T18:13:44.931Z"
   },
   {
    "duration": 335,
    "start_time": "2023-07-13T18:13:45.205Z"
   },
   {
    "duration": 127,
    "start_time": "2023-07-13T18:13:45.542Z"
   },
   {
    "duration": 37,
    "start_time": "2023-07-13T18:13:45.671Z"
   },
   {
    "duration": 147,
    "start_time": "2023-07-13T18:13:45.710Z"
   },
   {
    "duration": 1320,
    "start_time": "2023-07-13T18:13:45.859Z"
   },
   {
    "duration": 1048,
    "start_time": "2023-07-13T18:13:47.180Z"
   },
   {
    "duration": 3,
    "start_time": "2023-07-13T18:13:48.231Z"
   },
   {
    "duration": 133,
    "start_time": "2023-07-13T18:13:48.236Z"
   },
   {
    "duration": 0,
    "start_time": "2023-07-13T18:13:48.370Z"
   },
   {
    "duration": 0,
    "start_time": "2023-07-13T18:13:48.372Z"
   },
   {
    "duration": 0,
    "start_time": "2023-07-13T18:13:48.373Z"
   },
   {
    "duration": 0,
    "start_time": "2023-07-13T18:13:48.374Z"
   },
   {
    "duration": 6,
    "start_time": "2023-07-13T18:14:41.491Z"
   },
   {
    "duration": 25,
    "start_time": "2023-07-13T18:14:44.969Z"
   },
   {
    "duration": 4,
    "start_time": "2023-07-13T18:14:45.901Z"
   },
   {
    "duration": 108,
    "start_time": "2023-07-13T18:14:46.990Z"
   },
   {
    "duration": 5,
    "start_time": "2023-07-13T18:14:49.624Z"
   },
   {
    "duration": 396,
    "start_time": "2023-07-14T08:19:08.543Z"
   },
   {
    "duration": 913,
    "start_time": "2023-07-14T08:19:08.941Z"
   },
   {
    "duration": 39,
    "start_time": "2023-07-14T08:19:09.855Z"
   },
   {
    "duration": 12,
    "start_time": "2023-07-14T08:19:09.896Z"
   },
   {
    "duration": 46,
    "start_time": "2023-07-14T08:19:09.910Z"
   },
   {
    "duration": 8,
    "start_time": "2023-07-14T08:19:09.957Z"
   },
   {
    "duration": 7,
    "start_time": "2023-07-14T08:19:09.967Z"
   },
   {
    "duration": 17,
    "start_time": "2023-07-14T08:19:09.975Z"
   },
   {
    "duration": 17,
    "start_time": "2023-07-14T08:19:09.994Z"
   },
   {
    "duration": 4,
    "start_time": "2023-07-14T08:19:10.013Z"
   },
   {
    "duration": 15,
    "start_time": "2023-07-14T08:19:10.019Z"
   },
   {
    "duration": 28,
    "start_time": "2023-07-14T08:19:10.035Z"
   },
   {
    "duration": 40,
    "start_time": "2023-07-14T08:19:10.064Z"
   },
   {
    "duration": 9,
    "start_time": "2023-07-14T08:19:10.106Z"
   },
   {
    "duration": 32,
    "start_time": "2023-07-14T08:19:10.116Z"
   },
   {
    "duration": 2015,
    "start_time": "2023-07-14T08:19:10.149Z"
   },
   {
    "duration": 195,
    "start_time": "2023-07-14T08:19:12.165Z"
   },
   {
    "duration": 147,
    "start_time": "2023-07-14T08:19:12.361Z"
   },
   {
    "duration": 142,
    "start_time": "2023-07-14T08:19:12.510Z"
   },
   {
    "duration": 150,
    "start_time": "2023-07-14T08:19:12.654Z"
   },
   {
    "duration": 241,
    "start_time": "2023-07-14T08:19:12.805Z"
   },
   {
    "duration": 14,
    "start_time": "2023-07-14T08:19:13.047Z"
   },
   {
    "duration": 13,
    "start_time": "2023-07-14T08:19:13.062Z"
   },
   {
    "duration": 22,
    "start_time": "2023-07-14T08:19:13.077Z"
   },
   {
    "duration": 15,
    "start_time": "2023-07-14T08:19:13.101Z"
   },
   {
    "duration": 70,
    "start_time": "2023-07-14T08:19:13.118Z"
   },
   {
    "duration": 881,
    "start_time": "2023-07-14T08:19:13.190Z"
   },
   {
    "duration": 104,
    "start_time": "2023-07-14T08:19:14.076Z"
   },
   {
    "duration": 12,
    "start_time": "2023-07-14T08:19:14.200Z"
   },
   {
    "duration": 13,
    "start_time": "2023-07-14T08:19:14.214Z"
   },
   {
    "duration": 29,
    "start_time": "2023-07-14T08:19:14.228Z"
   },
   {
    "duration": 16,
    "start_time": "2023-07-14T08:19:14.259Z"
   },
   {
    "duration": 26,
    "start_time": "2023-07-14T08:19:14.277Z"
   },
   {
    "duration": 21,
    "start_time": "2023-07-14T08:19:14.305Z"
   },
   {
    "duration": 12,
    "start_time": "2023-07-14T08:19:14.328Z"
   },
   {
    "duration": 23,
    "start_time": "2023-07-14T08:19:14.342Z"
   },
   {
    "duration": 6,
    "start_time": "2023-07-14T08:19:14.367Z"
   },
   {
    "duration": 23,
    "start_time": "2023-07-14T08:19:14.374Z"
   },
   {
    "duration": 146,
    "start_time": "2023-07-14T08:19:14.399Z"
   },
   {
    "duration": 12,
    "start_time": "2023-07-14T08:19:14.547Z"
   },
   {
    "duration": 12,
    "start_time": "2023-07-14T08:19:14.561Z"
   },
   {
    "duration": 5,
    "start_time": "2023-07-14T08:19:14.575Z"
   },
   {
    "duration": 9,
    "start_time": "2023-07-14T08:19:14.582Z"
   },
   {
    "duration": 8,
    "start_time": "2023-07-14T08:19:14.600Z"
   },
   {
    "duration": 7,
    "start_time": "2023-07-14T08:19:14.610Z"
   },
   {
    "duration": 24,
    "start_time": "2023-07-14T08:19:14.619Z"
   },
   {
    "duration": 10,
    "start_time": "2023-07-14T08:19:14.645Z"
   },
   {
    "duration": 8,
    "start_time": "2023-07-14T08:19:14.657Z"
   },
   {
    "duration": 242,
    "start_time": "2023-07-14T08:19:14.666Z"
   },
   {
    "duration": 98,
    "start_time": "2023-07-14T08:19:14.910Z"
   },
   {
    "duration": 201,
    "start_time": "2023-07-14T08:19:15.009Z"
   },
   {
    "duration": 93,
    "start_time": "2023-07-14T08:19:15.212Z"
   },
   {
    "duration": 118,
    "start_time": "2023-07-14T08:19:15.307Z"
   },
   {
    "duration": 71,
    "start_time": "2023-07-14T08:19:15.427Z"
   },
   {
    "duration": 5,
    "start_time": "2023-07-14T08:19:15.500Z"
   },
   {
    "duration": 34,
    "start_time": "2023-07-14T08:19:15.506Z"
   },
   {
    "duration": 8,
    "start_time": "2023-07-14T08:19:15.541Z"
   },
   {
    "duration": 25,
    "start_time": "2023-07-14T08:19:15.551Z"
   },
   {
    "duration": 23,
    "start_time": "2023-07-14T08:19:15.578Z"
   },
   {
    "duration": 99,
    "start_time": "2023-07-14T08:19:15.605Z"
   },
   {
    "duration": 119,
    "start_time": "2023-07-14T08:19:15.707Z"
   },
   {
    "duration": 5,
    "start_time": "2023-07-14T08:19:15.828Z"
   },
   {
    "duration": 15,
    "start_time": "2023-07-14T08:19:15.835Z"
   },
   {
    "duration": 22,
    "start_time": "2023-07-14T08:19:15.851Z"
   },
   {
    "duration": 58,
    "start_time": "2023-07-14T08:19:15.875Z"
   },
   {
    "duration": 128,
    "start_time": "2023-07-14T08:19:15.935Z"
   },
   {
    "duration": 9,
    "start_time": "2023-07-14T08:19:16.065Z"
   },
   {
    "duration": 60,
    "start_time": "2023-07-14T08:19:16.075Z"
   },
   {
    "duration": 173,
    "start_time": "2023-07-14T08:19:16.137Z"
   },
   {
    "duration": 31,
    "start_time": "2023-07-14T08:19:16.312Z"
   },
   {
    "duration": 261,
    "start_time": "2023-07-14T08:19:16.344Z"
   },
   {
    "duration": 198,
    "start_time": "2023-07-14T08:19:16.607Z"
   },
   {
    "duration": 195,
    "start_time": "2023-07-14T08:19:16.806Z"
   },
   {
    "duration": 315,
    "start_time": "2023-07-14T08:19:17.003Z"
   },
   {
    "duration": 118,
    "start_time": "2023-07-14T08:19:17.319Z"
   },
   {
    "duration": 8,
    "start_time": "2023-07-14T08:19:17.438Z"
   },
   {
    "duration": 198,
    "start_time": "2023-07-14T08:19:17.448Z"
   },
   {
    "duration": 1119,
    "start_time": "2023-07-14T08:19:17.647Z"
   },
   {
    "duration": 814,
    "start_time": "2023-07-14T08:19:18.767Z"
   },
   {
    "duration": 4,
    "start_time": "2023-07-14T08:19:19.584Z"
   },
   {
    "duration": 7,
    "start_time": "2023-07-14T08:19:19.600Z"
   },
   {
    "duration": 30,
    "start_time": "2023-07-14T08:19:19.613Z"
   },
   {
    "duration": 5,
    "start_time": "2023-07-14T08:19:19.645Z"
   },
   {
    "duration": 148,
    "start_time": "2023-07-14T08:19:19.651Z"
   },
   {
    "duration": 6,
    "start_time": "2023-07-14T08:19:19.801Z"
   },
   {
    "duration": 131,
    "start_time": "2023-07-14T09:27:51.656Z"
   },
   {
    "duration": 42,
    "start_time": "2023-07-14T09:28:15.979Z"
   },
   {
    "duration": 418,
    "start_time": "2023-07-14T09:30:36.511Z"
   },
   {
    "duration": 720,
    "start_time": "2023-07-14T09:30:36.930Z"
   },
   {
    "duration": 39,
    "start_time": "2023-07-14T09:30:37.651Z"
   },
   {
    "duration": 15,
    "start_time": "2023-07-14T09:30:37.692Z"
   },
   {
    "duration": 23,
    "start_time": "2023-07-14T09:30:37.710Z"
   },
   {
    "duration": 7,
    "start_time": "2023-07-14T09:30:37.735Z"
   },
   {
    "duration": 16,
    "start_time": "2023-07-14T09:30:37.743Z"
   },
   {
    "duration": 26,
    "start_time": "2023-07-14T09:30:37.760Z"
   },
   {
    "duration": 25,
    "start_time": "2023-07-14T09:30:37.788Z"
   },
   {
    "duration": 14,
    "start_time": "2023-07-14T09:30:37.815Z"
   },
   {
    "duration": 19,
    "start_time": "2023-07-14T09:30:37.831Z"
   },
   {
    "duration": 17,
    "start_time": "2023-07-14T09:30:37.852Z"
   },
   {
    "duration": 31,
    "start_time": "2023-07-14T09:30:37.871Z"
   },
   {
    "duration": 14,
    "start_time": "2023-07-14T09:30:37.905Z"
   },
   {
    "duration": 44,
    "start_time": "2023-07-14T09:30:37.920Z"
   },
   {
    "duration": 1637,
    "start_time": "2023-07-14T09:30:37.966Z"
   },
   {
    "duration": 176,
    "start_time": "2023-07-14T09:30:39.605Z"
   },
   {
    "duration": 140,
    "start_time": "2023-07-14T09:30:39.783Z"
   },
   {
    "duration": 125,
    "start_time": "2023-07-14T09:30:39.925Z"
   },
   {
    "duration": 123,
    "start_time": "2023-07-14T09:30:40.051Z"
   },
   {
    "duration": 228,
    "start_time": "2023-07-14T09:30:40.175Z"
   },
   {
    "duration": 16,
    "start_time": "2023-07-14T09:30:40.407Z"
   },
   {
    "duration": 12,
    "start_time": "2023-07-14T09:30:40.426Z"
   },
   {
    "duration": 32,
    "start_time": "2023-07-14T09:30:40.439Z"
   },
   {
    "duration": 25,
    "start_time": "2023-07-14T09:30:40.472Z"
   },
   {
    "duration": 60,
    "start_time": "2023-07-14T09:30:40.498Z"
   },
   {
    "duration": 890,
    "start_time": "2023-07-14T09:30:40.560Z"
   },
   {
    "duration": 10,
    "start_time": "2023-07-14T09:30:41.452Z"
   },
   {
    "duration": 119,
    "start_time": "2023-07-14T09:30:41.463Z"
   },
   {
    "duration": 4,
    "start_time": "2023-07-14T09:30:41.583Z"
   },
   {
    "duration": 31,
    "start_time": "2023-07-14T09:30:41.589Z"
   },
   {
    "duration": 9,
    "start_time": "2023-07-14T09:30:41.621Z"
   },
   {
    "duration": 20,
    "start_time": "2023-07-14T09:30:41.632Z"
   },
   {
    "duration": 20,
    "start_time": "2023-07-14T09:30:41.654Z"
   },
   {
    "duration": 16,
    "start_time": "2023-07-14T09:30:41.676Z"
   },
   {
    "duration": 10,
    "start_time": "2023-07-14T09:30:41.694Z"
   },
   {
    "duration": 24,
    "start_time": "2023-07-14T09:30:41.706Z"
   },
   {
    "duration": 20,
    "start_time": "2023-07-14T09:30:41.732Z"
   },
   {
    "duration": 131,
    "start_time": "2023-07-14T09:30:41.754Z"
   },
   {
    "duration": 15,
    "start_time": "2023-07-14T09:30:41.886Z"
   },
   {
    "duration": 3,
    "start_time": "2023-07-14T09:30:41.907Z"
   },
   {
    "duration": 12,
    "start_time": "2023-07-14T09:30:41.912Z"
   },
   {
    "duration": 11,
    "start_time": "2023-07-14T09:30:41.925Z"
   },
   {
    "duration": 13,
    "start_time": "2023-07-14T09:30:41.937Z"
   },
   {
    "duration": 3,
    "start_time": "2023-07-14T09:30:41.952Z"
   },
   {
    "duration": 48,
    "start_time": "2023-07-14T09:30:41.956Z"
   },
   {
    "duration": 15,
    "start_time": "2023-07-14T09:30:42.006Z"
   },
   {
    "duration": 5,
    "start_time": "2023-07-14T09:30:42.023Z"
   },
   {
    "duration": 383,
    "start_time": "2023-07-14T09:30:42.029Z"
   },
   {
    "duration": 104,
    "start_time": "2023-07-14T09:30:42.415Z"
   },
   {
    "duration": 201,
    "start_time": "2023-07-14T09:30:42.520Z"
   },
   {
    "duration": 176,
    "start_time": "2023-07-14T09:30:42.730Z"
   },
   {
    "duration": 21,
    "start_time": "2023-07-14T09:30:42.907Z"
   },
   {
    "duration": 49,
    "start_time": "2023-07-14T09:30:42.929Z"
   },
   {
    "duration": 5,
    "start_time": "2023-07-14T09:30:42.979Z"
   },
   {
    "duration": 12,
    "start_time": "2023-07-14T09:30:42.986Z"
   },
   {
    "duration": 10,
    "start_time": "2023-07-14T09:30:43.000Z"
   },
   {
    "duration": 33,
    "start_time": "2023-07-14T09:30:43.014Z"
   },
   {
    "duration": 28,
    "start_time": "2023-07-14T09:30:43.048Z"
   },
   {
    "duration": 135,
    "start_time": "2023-07-14T09:30:43.077Z"
   },
   {
    "duration": 48,
    "start_time": "2023-07-14T09:30:43.214Z"
   },
   {
    "duration": 6,
    "start_time": "2023-07-14T09:30:43.264Z"
   },
   {
    "duration": 29,
    "start_time": "2023-07-14T09:30:43.272Z"
   },
   {
    "duration": 10,
    "start_time": "2023-07-14T09:30:43.303Z"
   },
   {
    "duration": 32,
    "start_time": "2023-07-14T09:30:43.315Z"
   },
   {
    "duration": 152,
    "start_time": "2023-07-14T09:30:43.349Z"
   },
   {
    "duration": 11,
    "start_time": "2023-07-14T09:30:43.502Z"
   },
   {
    "duration": 50,
    "start_time": "2023-07-14T09:30:43.515Z"
   },
   {
    "duration": 40,
    "start_time": "2023-07-14T09:30:43.567Z"
   },
   {
    "duration": 125,
    "start_time": "2023-07-14T09:30:43.608Z"
   },
   {
    "duration": 199,
    "start_time": "2023-07-14T09:30:43.735Z"
   },
   {
    "duration": 173,
    "start_time": "2023-07-14T09:30:43.936Z"
   },
   {
    "duration": 406,
    "start_time": "2023-07-14T09:30:44.110Z"
   },
   {
    "duration": 123,
    "start_time": "2023-07-14T09:30:44.518Z"
   },
   {
    "duration": 66,
    "start_time": "2023-07-14T09:30:44.643Z"
   },
   {
    "duration": 159,
    "start_time": "2023-07-14T09:30:44.723Z"
   },
   {
    "duration": 1021,
    "start_time": "2023-07-14T09:30:44.884Z"
   },
   {
    "duration": 896,
    "start_time": "2023-07-14T09:30:45.909Z"
   },
   {
    "duration": 5,
    "start_time": "2023-07-14T09:30:46.807Z"
   },
   {
    "duration": 21,
    "start_time": "2023-07-14T09:30:46.813Z"
   },
   {
    "duration": 36,
    "start_time": "2023-07-14T09:30:46.836Z"
   },
   {
    "duration": 3,
    "start_time": "2023-07-14T09:30:46.873Z"
   },
   {
    "duration": 119,
    "start_time": "2023-07-14T09:30:46.878Z"
   },
   {
    "duration": 8,
    "start_time": "2023-07-14T09:30:46.998Z"
   },
   {
    "duration": 450,
    "start_time": "2023-07-14T21:12:02.597Z"
   },
   {
    "duration": 2795,
    "start_time": "2023-07-14T21:12:03.049Z"
   },
   {
    "duration": 77,
    "start_time": "2023-07-14T21:12:05.846Z"
   },
   {
    "duration": 12,
    "start_time": "2023-07-14T21:12:05.925Z"
   },
   {
    "duration": 179,
    "start_time": "2023-07-14T21:12:05.939Z"
   },
   {
    "duration": 41,
    "start_time": "2023-07-14T21:12:06.120Z"
   },
   {
    "duration": 31,
    "start_time": "2023-07-14T21:12:06.162Z"
   },
   {
    "duration": 42,
    "start_time": "2023-07-14T21:12:06.195Z"
   },
   {
    "duration": 22,
    "start_time": "2023-07-14T21:12:06.238Z"
   },
   {
    "duration": 4,
    "start_time": "2023-07-14T21:12:06.262Z"
   },
   {
    "duration": 10,
    "start_time": "2023-07-14T21:12:06.268Z"
   },
   {
    "duration": 40,
    "start_time": "2023-07-14T21:12:06.280Z"
   },
   {
    "duration": 35,
    "start_time": "2023-07-14T21:12:06.321Z"
   },
   {
    "duration": 20,
    "start_time": "2023-07-14T21:12:06.360Z"
   },
   {
    "duration": 64,
    "start_time": "2023-07-14T21:12:06.381Z"
   },
   {
    "duration": 1774,
    "start_time": "2023-07-14T21:12:06.447Z"
   },
   {
    "duration": 174,
    "start_time": "2023-07-14T21:12:08.222Z"
   },
   {
    "duration": 137,
    "start_time": "2023-07-14T21:12:08.397Z"
   },
   {
    "duration": 132,
    "start_time": "2023-07-14T21:12:08.535Z"
   },
   {
    "duration": 137,
    "start_time": "2023-07-14T21:12:08.668Z"
   },
   {
    "duration": 240,
    "start_time": "2023-07-14T21:12:08.806Z"
   },
   {
    "duration": 13,
    "start_time": "2023-07-14T21:12:09.047Z"
   },
   {
    "duration": 34,
    "start_time": "2023-07-14T21:12:09.061Z"
   },
   {
    "duration": 19,
    "start_time": "2023-07-14T21:12:09.097Z"
   },
   {
    "duration": 48,
    "start_time": "2023-07-14T21:12:09.118Z"
   },
   {
    "duration": 70,
    "start_time": "2023-07-14T21:12:09.168Z"
   },
   {
    "duration": 1046,
    "start_time": "2023-07-14T21:12:09.239Z"
   },
   {
    "duration": 8,
    "start_time": "2023-07-14T21:12:10.287Z"
   },
   {
    "duration": 68,
    "start_time": "2023-07-14T21:12:10.297Z"
   },
   {
    "duration": 48,
    "start_time": "2023-07-14T21:12:10.366Z"
   },
   {
    "duration": 79,
    "start_time": "2023-07-14T21:12:10.415Z"
   },
   {
    "duration": 51,
    "start_time": "2023-07-14T21:12:10.496Z"
   },
   {
    "duration": 30,
    "start_time": "2023-07-14T21:12:10.548Z"
   },
   {
    "duration": 37,
    "start_time": "2023-07-14T21:12:10.580Z"
   },
   {
    "duration": 62,
    "start_time": "2023-07-14T21:12:10.618Z"
   },
   {
    "duration": 42,
    "start_time": "2023-07-14T21:12:10.681Z"
   },
   {
    "duration": 30,
    "start_time": "2023-07-14T21:12:10.725Z"
   },
   {
    "duration": 56,
    "start_time": "2023-07-14T21:12:10.757Z"
   },
   {
    "duration": 179,
    "start_time": "2023-07-14T21:12:10.815Z"
   },
   {
    "duration": 11,
    "start_time": "2023-07-14T21:12:10.995Z"
   },
   {
    "duration": 30,
    "start_time": "2023-07-14T21:12:11.019Z"
   },
   {
    "duration": 38,
    "start_time": "2023-07-14T21:12:11.051Z"
   },
   {
    "duration": 12,
    "start_time": "2023-07-14T21:12:11.091Z"
   },
   {
    "duration": 64,
    "start_time": "2023-07-14T21:12:11.105Z"
   },
   {
    "duration": 28,
    "start_time": "2023-07-14T21:12:11.172Z"
   },
   {
    "duration": 56,
    "start_time": "2023-07-14T21:12:11.202Z"
   },
   {
    "duration": 18,
    "start_time": "2023-07-14T21:12:11.260Z"
   },
   {
    "duration": 56,
    "start_time": "2023-07-14T21:12:11.280Z"
   },
   {
    "duration": 783,
    "start_time": "2023-07-14T21:12:11.338Z"
   },
   {
    "duration": 109,
    "start_time": "2023-07-14T21:12:12.123Z"
   },
   {
    "duration": 111,
    "start_time": "2023-07-14T21:12:12.322Z"
   },
   {
    "duration": 195,
    "start_time": "2023-07-14T21:12:12.442Z"
   },
   {
    "duration": 5,
    "start_time": "2023-07-14T21:12:12.639Z"
   },
   {
    "duration": 44,
    "start_time": "2023-07-14T21:12:12.646Z"
   },
   {
    "duration": 5,
    "start_time": "2023-07-14T21:12:12.692Z"
   },
   {
    "duration": 10,
    "start_time": "2023-07-14T21:12:12.699Z"
   },
   {
    "duration": 6,
    "start_time": "2023-07-14T21:12:12.711Z"
   },
   {
    "duration": 31,
    "start_time": "2023-07-14T21:12:12.719Z"
   },
   {
    "duration": 6,
    "start_time": "2023-07-14T21:12:12.752Z"
   },
   {
    "duration": 64,
    "start_time": "2023-07-14T21:12:12.760Z"
   },
   {
    "duration": 138,
    "start_time": "2023-07-14T21:12:12.825Z"
   },
   {
    "duration": 5,
    "start_time": "2023-07-14T21:12:12.966Z"
   },
   {
    "duration": 19,
    "start_time": "2023-07-14T21:12:12.973Z"
   },
   {
    "duration": 18,
    "start_time": "2023-07-14T21:12:12.994Z"
   },
   {
    "duration": 13,
    "start_time": "2023-07-14T21:12:13.014Z"
   },
   {
    "duration": 135,
    "start_time": "2023-07-14T21:12:13.029Z"
   },
   {
    "duration": 8,
    "start_time": "2023-07-14T21:12:13.165Z"
   },
   {
    "duration": 47,
    "start_time": "2023-07-14T21:12:13.175Z"
   },
   {
    "duration": 8,
    "start_time": "2023-07-14T21:12:13.224Z"
   },
   {
    "duration": 207,
    "start_time": "2023-07-14T21:12:13.324Z"
   },
   {
    "duration": 190,
    "start_time": "2023-07-14T21:12:13.533Z"
   },
   {
    "duration": 199,
    "start_time": "2023-07-14T21:12:13.725Z"
   },
   {
    "duration": 328,
    "start_time": "2023-07-14T21:12:13.926Z"
   },
   {
    "duration": 151,
    "start_time": "2023-07-14T21:12:14.256Z"
   },
   {
    "duration": 18,
    "start_time": "2023-07-14T21:12:14.410Z"
   },
   {
    "duration": 224,
    "start_time": "2023-07-14T21:12:14.434Z"
   },
   {
    "duration": 938,
    "start_time": "2023-07-14T21:12:14.660Z"
   },
   {
    "duration": 729,
    "start_time": "2023-07-14T21:12:15.599Z"
   },
   {
    "duration": 4,
    "start_time": "2023-07-14T21:12:16.329Z"
   },
   {
    "duration": 15,
    "start_time": "2023-07-14T21:12:16.334Z"
   },
   {
    "duration": 46,
    "start_time": "2023-07-14T21:12:16.350Z"
   },
   {
    "duration": 4,
    "start_time": "2023-07-14T21:12:16.397Z"
   },
   {
    "duration": 124,
    "start_time": "2023-07-14T21:12:16.402Z"
   },
   {
    "duration": 5,
    "start_time": "2023-07-14T21:12:16.528Z"
   },
   {
    "duration": 15,
    "start_time": "2023-07-14T21:12:24.620Z"
   },
   {
    "duration": 17,
    "start_time": "2023-07-14T21:12:32.707Z"
   },
   {
    "duration": 456,
    "start_time": "2023-07-15T20:16:54.419Z"
   },
   {
    "duration": 1025,
    "start_time": "2023-07-15T20:16:54.877Z"
   },
   {
    "duration": 145,
    "start_time": "2023-07-15T20:16:55.904Z"
   },
   {
    "duration": 15,
    "start_time": "2023-07-15T20:16:56.052Z"
   },
   {
    "duration": 24,
    "start_time": "2023-07-15T20:16:56.068Z"
   },
   {
    "duration": 4,
    "start_time": "2023-07-15T20:16:56.094Z"
   },
   {
    "duration": 6,
    "start_time": "2023-07-15T20:16:56.100Z"
   },
   {
    "duration": 19,
    "start_time": "2023-07-15T20:16:56.108Z"
   },
   {
    "duration": 46,
    "start_time": "2023-07-15T20:16:56.128Z"
   },
   {
    "duration": 4,
    "start_time": "2023-07-15T20:16:56.177Z"
   },
   {
    "duration": 8,
    "start_time": "2023-07-15T20:16:56.182Z"
   },
   {
    "duration": 7,
    "start_time": "2023-07-15T20:16:56.192Z"
   },
   {
    "duration": 59,
    "start_time": "2023-07-15T20:16:56.201Z"
   },
   {
    "duration": 11,
    "start_time": "2023-07-15T20:16:56.262Z"
   },
   {
    "duration": 87,
    "start_time": "2023-07-15T20:16:56.274Z"
   },
   {
    "duration": 2021,
    "start_time": "2023-07-15T20:16:56.363Z"
   },
   {
    "duration": 217,
    "start_time": "2023-07-15T20:16:58.387Z"
   },
   {
    "duration": 159,
    "start_time": "2023-07-15T20:16:58.606Z"
   },
   {
    "duration": 148,
    "start_time": "2023-07-15T20:16:58.767Z"
   },
   {
    "duration": 160,
    "start_time": "2023-07-15T20:16:58.916Z"
   },
   {
    "duration": 275,
    "start_time": "2023-07-15T20:16:59.078Z"
   },
   {
    "duration": 15,
    "start_time": "2023-07-15T20:16:59.358Z"
   },
   {
    "duration": 11,
    "start_time": "2023-07-15T20:16:59.374Z"
   },
   {
    "duration": 10,
    "start_time": "2023-07-15T20:16:59.386Z"
   },
   {
    "duration": 20,
    "start_time": "2023-07-15T20:16:59.397Z"
   },
   {
    "duration": 71,
    "start_time": "2023-07-15T20:16:59.419Z"
   },
   {
    "duration": 1158,
    "start_time": "2023-07-15T20:16:59.491Z"
   },
   {
    "duration": 11,
    "start_time": "2023-07-15T20:17:00.654Z"
   },
   {
    "duration": 38,
    "start_time": "2023-07-15T20:17:00.667Z"
   },
   {
    "duration": 23,
    "start_time": "2023-07-15T20:17:00.707Z"
   },
   {
    "duration": 46,
    "start_time": "2023-07-15T20:17:00.732Z"
   },
   {
    "duration": 31,
    "start_time": "2023-07-15T20:17:00.780Z"
   },
   {
    "duration": 30,
    "start_time": "2023-07-15T20:17:00.812Z"
   },
   {
    "duration": 30,
    "start_time": "2023-07-15T20:17:00.844Z"
   },
   {
    "duration": 47,
    "start_time": "2023-07-15T20:17:00.876Z"
   },
   {
    "duration": 41,
    "start_time": "2023-07-15T20:17:00.926Z"
   },
   {
    "duration": 25,
    "start_time": "2023-07-15T20:17:00.969Z"
   },
   {
    "duration": 31,
    "start_time": "2023-07-15T20:17:00.996Z"
   },
   {
    "duration": 217,
    "start_time": "2023-07-15T20:17:01.029Z"
   },
   {
    "duration": 12,
    "start_time": "2023-07-15T20:17:01.248Z"
   },
   {
    "duration": 33,
    "start_time": "2023-07-15T20:17:01.262Z"
   },
   {
    "duration": 19,
    "start_time": "2023-07-15T20:17:01.297Z"
   },
   {
    "duration": 39,
    "start_time": "2023-07-15T20:17:01.318Z"
   },
   {
    "duration": 30,
    "start_time": "2023-07-15T20:17:01.359Z"
   },
   {
    "duration": 41,
    "start_time": "2023-07-15T20:17:01.391Z"
   },
   {
    "duration": 55,
    "start_time": "2023-07-15T20:17:01.434Z"
   },
   {
    "duration": 37,
    "start_time": "2023-07-15T20:17:01.491Z"
   },
   {
    "duration": 65,
    "start_time": "2023-07-15T20:17:01.530Z"
   },
   {
    "duration": 367,
    "start_time": "2023-07-15T20:17:01.596Z"
   },
   {
    "duration": 106,
    "start_time": "2023-07-15T20:17:01.965Z"
   },
   {
    "duration": 211,
    "start_time": "2023-07-15T20:17:02.073Z"
   },
   {
    "duration": 182,
    "start_time": "2023-07-15T20:17:02.288Z"
   },
   {
    "duration": 23,
    "start_time": "2023-07-15T20:17:02.472Z"
   },
   {
    "duration": 49,
    "start_time": "2023-07-15T20:17:02.497Z"
   },
   {
    "duration": 5,
    "start_time": "2023-07-15T20:17:02.548Z"
   },
   {
    "duration": 29,
    "start_time": "2023-07-15T20:17:02.555Z"
   },
   {
    "duration": 27,
    "start_time": "2023-07-15T20:17:02.586Z"
   },
   {
    "duration": 53,
    "start_time": "2023-07-15T20:17:02.615Z"
   },
   {
    "duration": 15,
    "start_time": "2023-07-15T20:17:02.670Z"
   },
   {
    "duration": 77,
    "start_time": "2023-07-15T20:17:02.687Z"
   },
   {
    "duration": 133,
    "start_time": "2023-07-15T20:17:02.766Z"
   },
   {
    "duration": 6,
    "start_time": "2023-07-15T20:17:02.901Z"
   },
   {
    "duration": 15,
    "start_time": "2023-07-15T20:17:02.909Z"
   },
   {
    "duration": 23,
    "start_time": "2023-07-15T20:17:02.925Z"
   },
   {
    "duration": 14,
    "start_time": "2023-07-15T20:17:02.950Z"
   },
   {
    "duration": 138,
    "start_time": "2023-07-15T20:17:02.966Z"
   },
   {
    "duration": 9,
    "start_time": "2023-07-15T20:17:03.106Z"
   },
   {
    "duration": 46,
    "start_time": "2023-07-15T20:17:03.118Z"
   },
   {
    "duration": 97,
    "start_time": "2023-07-15T20:17:03.166Z"
   },
   {
    "duration": 124,
    "start_time": "2023-07-15T20:17:03.265Z"
   },
   {
    "duration": 204,
    "start_time": "2023-07-15T20:17:03.391Z"
   },
   {
    "duration": 180,
    "start_time": "2023-07-15T20:17:03.598Z"
   },
   {
    "duration": 405,
    "start_time": "2023-07-15T20:17:03.780Z"
   },
   {
    "duration": 183,
    "start_time": "2023-07-15T20:17:04.187Z"
   },
   {
    "duration": 14,
    "start_time": "2023-07-15T20:17:04.372Z"
   },
   {
    "duration": 203,
    "start_time": "2023-07-15T20:17:04.388Z"
   },
   {
    "duration": 980,
    "start_time": "2023-07-15T20:17:04.593Z"
   },
   {
    "duration": 835,
    "start_time": "2023-07-15T20:17:05.575Z"
   },
   {
    "duration": 4,
    "start_time": "2023-07-15T20:17:06.411Z"
   },
   {
    "duration": 7,
    "start_time": "2023-07-15T20:17:06.417Z"
   },
   {
    "duration": 44,
    "start_time": "2023-07-15T20:17:06.426Z"
   },
   {
    "duration": 4,
    "start_time": "2023-07-15T20:17:06.475Z"
   },
   {
    "duration": 137,
    "start_time": "2023-07-15T20:17:06.481Z"
   },
   {
    "duration": 5,
    "start_time": "2023-07-15T20:17:06.620Z"
   },
   {
    "duration": 7,
    "start_time": "2023-07-15T20:17:59.399Z"
   },
   {
    "duration": 5,
    "start_time": "2023-07-15T20:19:32.155Z"
   },
   {
    "duration": 6,
    "start_time": "2023-07-15T20:19:33.992Z"
   },
   {
    "duration": 5,
    "start_time": "2023-07-15T20:20:35.600Z"
   },
   {
    "duration": 5,
    "start_time": "2023-07-15T20:20:38.140Z"
   },
   {
    "duration": 35,
    "start_time": "2023-07-15T20:20:48.208Z"
   },
   {
    "duration": 5,
    "start_time": "2023-07-15T20:20:49.340Z"
   },
   {
    "duration": 7,
    "start_time": "2023-07-15T20:20:52.078Z"
   },
   {
    "duration": 289,
    "start_time": "2023-07-15T20:21:00.874Z"
   },
   {
    "duration": 10,
    "start_time": "2023-07-15T20:21:02.103Z"
   },
   {
    "duration": 5,
    "start_time": "2023-07-15T20:21:03.583Z"
   },
   {
    "duration": 7,
    "start_time": "2023-07-15T20:21:05.837Z"
   },
   {
    "duration": 27,
    "start_time": "2023-07-15T20:21:22.065Z"
   },
   {
    "duration": 8,
    "start_time": "2023-07-15T20:21:29.579Z"
   },
   {
    "duration": 6,
    "start_time": "2023-07-15T20:21:31.418Z"
   },
   {
    "duration": 6,
    "start_time": "2023-07-15T20:22:05.424Z"
   },
   {
    "duration": 5,
    "start_time": "2023-07-15T20:22:14.992Z"
   },
   {
    "duration": 6,
    "start_time": "2023-07-15T20:22:24.465Z"
   },
   {
    "duration": 6,
    "start_time": "2023-07-15T20:22:29.177Z"
   },
   {
    "duration": 129,
    "start_time": "2023-07-15T20:22:32.815Z"
   },
   {
    "duration": 51,
    "start_time": "2023-07-15T20:22:40.336Z"
   },
   {
    "duration": 36,
    "start_time": "2023-07-15T20:22:47.736Z"
   },
   {
    "duration": 5,
    "start_time": "2023-07-15T20:22:48.591Z"
   },
   {
    "duration": 35,
    "start_time": "2023-07-15T20:22:53.489Z"
   },
   {
    "duration": 55,
    "start_time": "2023-07-15T20:22:58.042Z"
   },
   {
    "duration": 29,
    "start_time": "2023-07-15T20:23:02.564Z"
   },
   {
    "duration": 202,
    "start_time": "2023-07-15T20:23:07.088Z"
   },
   {
    "duration": 10,
    "start_time": "2023-07-15T20:23:11.636Z"
   },
   {
    "duration": 41,
    "start_time": "2023-07-15T20:23:12.736Z"
   },
   {
    "duration": 991,
    "start_time": "2023-07-15T20:23:13.823Z"
   },
   {
    "duration": 796,
    "start_time": "2023-07-15T20:23:20.072Z"
   },
   {
    "duration": 4,
    "start_time": "2023-07-15T20:23:27.912Z"
   },
   {
    "duration": 5,
    "start_time": "2023-07-15T20:23:29.145Z"
   },
   {
    "duration": 35,
    "start_time": "2023-07-15T20:23:30.320Z"
   },
   {
    "duration": 5,
    "start_time": "2023-07-15T20:23:31.084Z"
   },
   {
    "duration": 162,
    "start_time": "2023-07-15T20:23:33.020Z"
   },
   {
    "duration": 6,
    "start_time": "2023-07-15T20:23:35.536Z"
   },
   {
    "duration": 386,
    "start_time": "2023-07-16T19:44:14.178Z"
   },
   {
    "duration": 712,
    "start_time": "2023-07-16T19:44:14.566Z"
   },
   {
    "duration": 81,
    "start_time": "2023-07-16T19:44:15.280Z"
   },
   {
    "duration": 11,
    "start_time": "2023-07-16T19:44:15.363Z"
   },
   {
    "duration": 29,
    "start_time": "2023-07-16T19:44:15.376Z"
   },
   {
    "duration": 6,
    "start_time": "2023-07-16T19:44:15.407Z"
   },
   {
    "duration": 32,
    "start_time": "2023-07-16T19:44:15.414Z"
   },
   {
    "duration": 26,
    "start_time": "2023-07-16T19:44:15.448Z"
   },
   {
    "duration": 30,
    "start_time": "2023-07-16T19:44:15.476Z"
   },
   {
    "duration": 5,
    "start_time": "2023-07-16T19:44:15.511Z"
   },
   {
    "duration": 16,
    "start_time": "2023-07-16T19:44:15.517Z"
   },
   {
    "duration": 18,
    "start_time": "2023-07-16T19:44:15.535Z"
   },
   {
    "duration": 26,
    "start_time": "2023-07-16T19:44:15.554Z"
   },
   {
    "duration": 15,
    "start_time": "2023-07-16T19:44:15.582Z"
   },
   {
    "duration": 66,
    "start_time": "2023-07-16T19:44:15.599Z"
   },
   {
    "duration": 1913,
    "start_time": "2023-07-16T19:44:15.666Z"
   },
   {
    "duration": 195,
    "start_time": "2023-07-16T19:44:17.580Z"
   },
   {
    "duration": 146,
    "start_time": "2023-07-16T19:44:17.776Z"
   },
   {
    "duration": 130,
    "start_time": "2023-07-16T19:44:17.924Z"
   },
   {
    "duration": 171,
    "start_time": "2023-07-16T19:44:18.056Z"
   },
   {
    "duration": 241,
    "start_time": "2023-07-16T19:44:18.232Z"
   },
   {
    "duration": 12,
    "start_time": "2023-07-16T19:44:18.475Z"
   },
   {
    "duration": 6,
    "start_time": "2023-07-16T19:44:18.489Z"
   },
   {
    "duration": 12,
    "start_time": "2023-07-16T19:44:18.496Z"
   },
   {
    "duration": 29,
    "start_time": "2023-07-16T19:44:18.509Z"
   },
   {
    "duration": 53,
    "start_time": "2023-07-16T19:44:18.540Z"
   },
   {
    "duration": 1043,
    "start_time": "2023-07-16T19:44:18.594Z"
   },
   {
    "duration": 10,
    "start_time": "2023-07-16T19:44:19.641Z"
   },
   {
    "duration": 38,
    "start_time": "2023-07-16T19:44:19.652Z"
   },
   {
    "duration": 28,
    "start_time": "2023-07-16T19:44:19.692Z"
   },
   {
    "duration": 24,
    "start_time": "2023-07-16T19:44:19.721Z"
   },
   {
    "duration": 39,
    "start_time": "2023-07-16T19:44:19.746Z"
   },
   {
    "duration": 27,
    "start_time": "2023-07-16T19:44:19.787Z"
   },
   {
    "duration": 12,
    "start_time": "2023-07-16T19:44:19.816Z"
   },
   {
    "duration": 7,
    "start_time": "2023-07-16T19:44:19.829Z"
   },
   {
    "duration": 7,
    "start_time": "2023-07-16T19:44:19.837Z"
   },
   {
    "duration": 9,
    "start_time": "2023-07-16T19:44:19.846Z"
   },
   {
    "duration": 20,
    "start_time": "2023-07-16T19:44:19.857Z"
   },
   {
    "duration": 147,
    "start_time": "2023-07-16T19:44:19.878Z"
   },
   {
    "duration": 10,
    "start_time": "2023-07-16T19:44:20.031Z"
   },
   {
    "duration": 53,
    "start_time": "2023-07-16T19:44:20.043Z"
   },
   {
    "duration": 26,
    "start_time": "2023-07-16T19:44:20.098Z"
   },
   {
    "duration": 8,
    "start_time": "2023-07-16T19:44:20.125Z"
   },
   {
    "duration": 15,
    "start_time": "2023-07-16T19:44:20.134Z"
   },
   {
    "duration": 13,
    "start_time": "2023-07-16T19:44:20.151Z"
   },
   {
    "duration": 37,
    "start_time": "2023-07-16T19:44:20.165Z"
   },
   {
    "duration": 19,
    "start_time": "2023-07-16T19:44:20.203Z"
   },
   {
    "duration": 23,
    "start_time": "2023-07-16T19:44:20.224Z"
   },
   {
    "duration": 491,
    "start_time": "2023-07-16T19:44:20.249Z"
   },
   {
    "duration": 96,
    "start_time": "2023-07-16T19:44:20.743Z"
   },
   {
    "duration": 194,
    "start_time": "2023-07-16T19:44:20.841Z"
   },
   {
    "duration": 203,
    "start_time": "2023-07-16T19:44:21.037Z"
   },
   {
    "duration": 4,
    "start_time": "2023-07-16T19:44:21.241Z"
   },
   {
    "duration": 34,
    "start_time": "2023-07-16T19:44:21.247Z"
   },
   {
    "duration": 5,
    "start_time": "2023-07-16T19:44:21.283Z"
   },
   {
    "duration": 12,
    "start_time": "2023-07-16T19:44:21.289Z"
   },
   {
    "duration": 3,
    "start_time": "2023-07-16T19:44:21.303Z"
   },
   {
    "duration": 42,
    "start_time": "2023-07-16T19:44:21.307Z"
   },
   {
    "duration": 7,
    "start_time": "2023-07-16T19:44:21.351Z"
   },
   {
    "duration": 172,
    "start_time": "2023-07-16T19:44:21.360Z"
   },
   {
    "duration": 33,
    "start_time": "2023-07-16T19:44:21.534Z"
   },
   {
    "duration": 6,
    "start_time": "2023-07-16T19:44:21.569Z"
   },
   {
    "duration": 23,
    "start_time": "2023-07-16T19:44:21.577Z"
   },
   {
    "duration": 8,
    "start_time": "2023-07-16T19:44:21.601Z"
   },
   {
    "duration": 17,
    "start_time": "2023-07-16T19:44:21.610Z"
   },
   {
    "duration": 120,
    "start_time": "2023-07-16T19:44:21.631Z"
   },
   {
    "duration": 9,
    "start_time": "2023-07-16T19:44:21.754Z"
   },
   {
    "duration": 75,
    "start_time": "2023-07-16T19:44:21.764Z"
   },
   {
    "duration": 90,
    "start_time": "2023-07-16T19:44:21.842Z"
   },
   {
    "duration": 104,
    "start_time": "2023-07-16T19:44:21.934Z"
   },
   {
    "duration": 203,
    "start_time": "2023-07-16T19:44:22.040Z"
   },
   {
    "duration": 192,
    "start_time": "2023-07-16T19:44:22.246Z"
   },
   {
    "duration": 318,
    "start_time": "2023-07-16T19:44:22.441Z"
   },
   {
    "duration": 119,
    "start_time": "2023-07-16T19:44:22.760Z"
   },
   {
    "duration": 10,
    "start_time": "2023-07-16T19:44:22.881Z"
   },
   {
    "duration": 128,
    "start_time": "2023-07-16T19:44:22.934Z"
   },
   {
    "duration": 923,
    "start_time": "2023-07-16T19:44:23.064Z"
   },
   {
    "duration": 785,
    "start_time": "2023-07-16T19:44:23.988Z"
   },
   {
    "duration": 5,
    "start_time": "2023-07-16T19:44:24.775Z"
   },
   {
    "duration": 16,
    "start_time": "2023-07-16T19:44:24.782Z"
   },
   {
    "duration": 43,
    "start_time": "2023-07-16T19:44:24.800Z"
   },
   {
    "duration": 4,
    "start_time": "2023-07-16T19:44:24.848Z"
   },
   {
    "duration": 125,
    "start_time": "2023-07-16T19:44:24.853Z"
   },
   {
    "duration": 6,
    "start_time": "2023-07-16T19:44:24.979Z"
   },
   {
    "duration": 54,
    "start_time": "2023-07-16T19:44:51.050Z"
   },
   {
    "duration": 4,
    "start_time": "2023-07-16T19:44:52.493Z"
   },
   {
    "duration": 132,
    "start_time": "2023-07-16T19:44:57.192Z"
   },
   {
    "duration": 5,
    "start_time": "2023-07-16T19:45:20.717Z"
   }
  ],
  "kernelspec": {
   "display_name": "Python 3 (ipykernel)",
   "language": "python",
   "name": "python3"
  },
  "language_info": {
   "codemirror_mode": {
    "name": "ipython",
    "version": 3
   },
   "file_extension": ".py",
   "mimetype": "text/x-python",
   "name": "python",
   "nbconvert_exporter": "python",
   "pygments_lexer": "ipython3",
   "version": "3.10.6"
  },
  "toc": {
   "base_numbering": 1,
   "nav_menu": {},
   "number_sections": true,
   "sideBar": true,
   "skip_h1_title": true,
   "title_cell": "Содержание",
   "title_sidebar": "Contents",
   "toc_cell": true,
   "toc_position": {
    "height": "calc(100% - 180px)",
    "left": "10px",
    "top": "150px",
    "width": "260.875px"
   },
   "toc_section_display": true,
   "toc_window_display": true
  }
 },
 "nbformat": 4,
 "nbformat_minor": 4
}
